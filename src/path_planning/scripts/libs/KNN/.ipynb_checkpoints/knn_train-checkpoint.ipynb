{
 "cells": [
  {
   "cell_type": "code",
   "execution_count": 1,
   "metadata": {},
   "outputs": [],
   "source": [
    "import pandas as pd\n",
    "import numpy as np\n",
    "\n",
    "# Use 3 decimal places in output display\n",
    "pd.set_option(\"display.precision\", 3)\n",
    "\n",
    "# Don't wrap repr(DataFrame) across additional lines\n",
    "pd.set_option(\"display.expand_frame_repr\", False)\n",
    "\n",
    "# Set max rows displayed in output to 25\n",
    "pd.set_option(\"display.max_rows\", 25)"
   ]
  },
  {
   "cell_type": "markdown",
   "metadata": {},
   "source": [
    "### Load data"
   ]
  },
  {
   "cell_type": "code",
   "execution_count": 2,
   "metadata": {},
   "outputs": [],
   "source": [
    "df_ag_0 = pd.read_csv('./data/results_ag_mapa_0.csv', index_col=0)\n",
    "df_ag_1 = pd.read_csv('./data/results_ag_mapa_1.csv', index_col=0)\n",
    "df_rrt_0 = pd.read_csv('./data/results_rrt_mapa_0.csv', index_col=0)\n",
    "df_rrt_1 = pd.read_csv('./data/results_rrt_mapa_1.csv', index_col=0)\n",
    "df_pfp_0 = pd.read_csv('./data/results_pfp_mapa_0.csv', index_col=0)\n",
    "df_pfp_1 = pd.read_csv('./data/results_pfp_mapa_1.csv', index_col=0)"
   ]
  },
  {
   "cell_type": "code",
   "execution_count": 3,
   "metadata": {},
   "outputs": [],
   "source": [
    "def concat_map_n(df, n):\n",
    "    df['origin_destination'] = str(n) + '_' + df['origin'].astype(str) + '_' + df['destination'].astype(str)\n",
    "    df['origin'] = str(n) + '_' + df['origin'].astype(str)\n",
    "    df['destination'] = str(n) + '_' + df['destination'].astype(str)"
   ]
  },
  {
   "cell_type": "code",
   "execution_count": 7,
   "metadata": {},
   "outputs": [],
   "source": [
    "concat_map_n(df_ag_0, 0)\n",
    "concat_map_n(df_ag_1, 1)\n",
    "concat_map_n(df_rrt_0, 0)\n",
    "concat_map_n(df_rrt_1, 1)\n",
    "concat_map_n(df_pfp_0, 0)\n",
    "concat_map_n(df_pfp_1, 1)"
   ]
  },
  {
   "cell_type": "code",
   "execution_count": 9,
   "metadata": {},
   "outputs": [
    {
     "data": {
      "text/plain": [
       "['origin',\n",
       " 'destination',\n",
       " 'algorithm',\n",
       " 'battery',\n",
       " 'obstacles_qty',\n",
       " 'distance',\n",
       " 'time_to_plan',\n",
       " 'distance_path',\n",
       " 'ratio',\n",
       " 'distance_to_objective',\n",
       " 'factibility',\n",
       " 'qty_wp',\n",
       " 'origin_destination']"
      ]
     },
     "execution_count": 9,
     "metadata": {},
     "output_type": "execute_result"
    }
   ],
   "source": [
    "# Pre-processing\n",
    "\n",
    "# Concatenate all maps and algorithms into one df\n",
    "df = pd.concat([df_ag_0, df_ag_1, df_rrt_0, df_rrt_1, df_pfp_0, df_pfp_1], ignore_index=True)\n",
    "\n",
    "# Drop unused columns\n",
    "df = df.drop(['first_factible_route_found_time', 'exception'], axis=1)\n",
    "list(df.columns)"
   ]
  },
  {
   "cell_type": "code",
   "execution_count": 6,
   "metadata": {},
   "outputs": [
    {
     "data": {
      "text/html": [
       "<div>\n",
       "<style scoped>\n",
       "    .dataframe tbody tr th:only-of-type {\n",
       "        vertical-align: middle;\n",
       "    }\n",
       "\n",
       "    .dataframe tbody tr th {\n",
       "        vertical-align: top;\n",
       "    }\n",
       "\n",
       "    .dataframe thead th {\n",
       "        text-align: right;\n",
       "    }\n",
       "</style>\n",
       "<table border=\"1\" class=\"dataframe\">\n",
       "  <thead>\n",
       "    <tr style=\"text-align: right;\">\n",
       "      <th></th>\n",
       "      <th>origin_destination</th>\n",
       "      <th>origin</th>\n",
       "      <th>destination</th>\n",
       "      <th>algorithm</th>\n",
       "      <th>battery</th>\n",
       "      <th>obstacles_qty</th>\n",
       "      <th>distance</th>\n",
       "      <th>time_to_plan</th>\n",
       "      <th>distance_path</th>\n",
       "      <th>ratio</th>\n",
       "      <th>distance_to_objective</th>\n",
       "      <th>factibility</th>\n",
       "      <th>qty_wp</th>\n",
       "    </tr>\n",
       "  </thead>\n",
       "  <tbody>\n",
       "    <tr>\n",
       "      <th>928</th>\n",
       "      <td>1_base_3_region_1</td>\n",
       "      <td>1_base_3</td>\n",
       "      <td>1_region_1</td>\n",
       "      <td>pfp</td>\n",
       "      <td>NaN</td>\n",
       "      <td>5</td>\n",
       "      <td>1032.038</td>\n",
       "      <td>52.877</td>\n",
       "      <td>1156.652</td>\n",
       "      <td>1.121</td>\n",
       "      <td>11.899</td>\n",
       "      <td>verify</td>\n",
       "      <td>52</td>\n",
       "    </tr>\n",
       "    <tr>\n",
       "      <th>466</th>\n",
       "      <td>0_region_11_region_5</td>\n",
       "      <td>0_region_11</td>\n",
       "      <td>0_region_5</td>\n",
       "      <td>rrt</td>\n",
       "      <td>NaN</td>\n",
       "      <td>0</td>\n",
       "      <td>479.073</td>\n",
       "      <td>1.598</td>\n",
       "      <td>489.533</td>\n",
       "      <td>1.022</td>\n",
       "      <td>0.000</td>\n",
       "      <td>feasible</td>\n",
       "      <td>21</td>\n",
       "    </tr>\n",
       "    <tr>\n",
       "      <th>576</th>\n",
       "      <td>1_region_4_region_1</td>\n",
       "      <td>1_region_4</td>\n",
       "      <td>1_region_1</td>\n",
       "      <td>rrt</td>\n",
       "      <td>NaN</td>\n",
       "      <td>4</td>\n",
       "      <td>659.013</td>\n",
       "      <td>1.685</td>\n",
       "      <td>720.932</td>\n",
       "      <td>1.094</td>\n",
       "      <td>0.000</td>\n",
       "      <td>feasible</td>\n",
       "      <td>30</td>\n",
       "    </tr>\n",
       "    <tr>\n",
       "      <th>590</th>\n",
       "      <td>1_region_5_base_2</td>\n",
       "      <td>1_region_5</td>\n",
       "      <td>1_base_2</td>\n",
       "      <td>rrt</td>\n",
       "      <td>NaN</td>\n",
       "      <td>4</td>\n",
       "      <td>361.668</td>\n",
       "      <td>2.215</td>\n",
       "      <td>509.256</td>\n",
       "      <td>1.408</td>\n",
       "      <td>0.000</td>\n",
       "      <td>feasible</td>\n",
       "      <td>22</td>\n",
       "    </tr>\n",
       "    <tr>\n",
       "      <th>264</th>\n",
       "      <td>1_region_4_region_1</td>\n",
       "      <td>1_region_4</td>\n",
       "      <td>1_region_1</td>\n",
       "      <td>ag</td>\n",
       "      <td>NaN</td>\n",
       "      <td>4</td>\n",
       "      <td>659.013</td>\n",
       "      <td>121.837</td>\n",
       "      <td>813.325</td>\n",
       "      <td>1.234</td>\n",
       "      <td>0.000</td>\n",
       "      <td>feasible</td>\n",
       "      <td>8</td>\n",
       "    </tr>\n",
       "    <tr>\n",
       "      <th>450</th>\n",
       "      <td>0_region_10_region_4</td>\n",
       "      <td>0_region_10</td>\n",
       "      <td>0_region_4</td>\n",
       "      <td>rrt</td>\n",
       "      <td>NaN</td>\n",
       "      <td>0</td>\n",
       "      <td>3568.184</td>\n",
       "      <td>1.473</td>\n",
       "      <td>4001.201</td>\n",
       "      <td>1.121</td>\n",
       "      <td>0.000</td>\n",
       "      <td>feasible</td>\n",
       "      <td>162</td>\n",
       "    </tr>\n",
       "    <tr>\n",
       "      <th>30</th>\n",
       "      <td>0_region_3_region_1</td>\n",
       "      <td>0_region_3</td>\n",
       "      <td>0_region_1</td>\n",
       "      <td>ag</td>\n",
       "      <td>NaN</td>\n",
       "      <td>0</td>\n",
       "      <td>2474.483</td>\n",
       "      <td>134.735</td>\n",
       "      <td>2933.077</td>\n",
       "      <td>1.185</td>\n",
       "      <td>0.000</td>\n",
       "      <td>feasible</td>\n",
       "      <td>10</td>\n",
       "    </tr>\n",
       "    <tr>\n",
       "      <th>814</th>\n",
       "      <td>0_base_1_region_11</td>\n",
       "      <td>0_base_1</td>\n",
       "      <td>0_region_11</td>\n",
       "      <td>pfp</td>\n",
       "      <td>NaN</td>\n",
       "      <td>0</td>\n",
       "      <td>3158.341</td>\n",
       "      <td>47.119</td>\n",
       "      <td>3272.689</td>\n",
       "      <td>1.036</td>\n",
       "      <td>17.413</td>\n",
       "      <td>verify</td>\n",
       "      <td>157</td>\n",
       "    </tr>\n",
       "    <tr>\n",
       "      <th>890</th>\n",
       "      <td>1_region_4_region_3</td>\n",
       "      <td>1_region_4</td>\n",
       "      <td>1_region_3</td>\n",
       "      <td>pfp</td>\n",
       "      <td>NaN</td>\n",
       "      <td>2</td>\n",
       "      <td>153.287</td>\n",
       "      <td>36.615</td>\n",
       "      <td>184.155</td>\n",
       "      <td>1.201</td>\n",
       "      <td>9.206</td>\n",
       "      <td>feasible</td>\n",
       "      <td>9</td>\n",
       "    </tr>\n",
       "    <tr>\n",
       "      <th>393</th>\n",
       "      <td>0_region_6_region_8</td>\n",
       "      <td>0_region_6</td>\n",
       "      <td>0_region_8</td>\n",
       "      <td>rrt</td>\n",
       "      <td>NaN</td>\n",
       "      <td>0</td>\n",
       "      <td>1867.985</td>\n",
       "      <td>1.517</td>\n",
       "      <td>2018.169</td>\n",
       "      <td>1.080</td>\n",
       "      <td>0.000</td>\n",
       "      <td>feasible</td>\n",
       "      <td>82</td>\n",
       "    </tr>\n",
       "  </tbody>\n",
       "</table>\n",
       "</div>"
      ],
      "text/plain": [
       "       origin_destination       origin  destination algorithm  battery  obstacles_qty  distance  time_to_plan  distance_path  ratio  distance_to_objective factibility  qty_wp\n",
       "928     1_base_3_region_1     1_base_3   1_region_1       pfp      NaN              5  1032.038        52.877       1156.652  1.121                 11.899      verify      52\n",
       "466  0_region_11_region_5  0_region_11   0_region_5       rrt      NaN              0   479.073         1.598        489.533  1.022                  0.000    feasible      21\n",
       "576   1_region_4_region_1   1_region_4   1_region_1       rrt      NaN              4   659.013         1.685        720.932  1.094                  0.000    feasible      30\n",
       "590     1_region_5_base_2   1_region_5     1_base_2       rrt      NaN              4   361.668         2.215        509.256  1.408                  0.000    feasible      22\n",
       "264   1_region_4_region_1   1_region_4   1_region_1        ag      NaN              4   659.013       121.837        813.325  1.234                  0.000    feasible       8\n",
       "450  0_region_10_region_4  0_region_10   0_region_4       rrt      NaN              0  3568.184         1.473       4001.201  1.121                  0.000    feasible     162\n",
       "30    0_region_3_region_1   0_region_3   0_region_1        ag      NaN              0  2474.483       134.735       2933.077  1.185                  0.000    feasible      10\n",
       "814    0_base_1_region_11     0_base_1  0_region_11       pfp      NaN              0  3158.341        47.119       3272.689  1.036                 17.413      verify     157\n",
       "890   1_region_4_region_3   1_region_4   1_region_3       pfp      NaN              2   153.287        36.615        184.155  1.201                  9.206    feasible       9\n",
       "393   0_region_6_region_8   0_region_6   0_region_8       rrt      NaN              0  1867.985         1.517       2018.169  1.080                  0.000    feasible      82"
      ]
     },
     "execution_count": 6,
     "metadata": {},
     "output_type": "execute_result"
    }
   ],
   "source": [
    "# Pre-processing\n",
    "\n",
    "# Concatenate all maps and algorithms into one df\n",
    "df = pd.concat([df_ag_0, df_ag_1, df_rrt_0, df_rrt_1, df_pfp_0, df_pfp_1], ignore_index=True)\n",
    "\n",
    "# Drop unused columns\n",
    "df = df.drop(['first_factible_route_found_time', 'exception'], axis=1)\n",
    "\n",
    "# Put last column in the first position\n",
    "cols = list(df.columns)\n",
    "cols = [cols[-1]] + cols[:-1]\n",
    "df = df[cols]\n",
    "\n",
    "df.sample(10)"
   ]
  },
  {
   "cell_type": "code",
   "execution_count": 17,
   "metadata": {},
   "outputs": [
    {
     "data": {
      "text/plain": [
       "(936, 13)"
      ]
     },
     "execution_count": 17,
     "metadata": {},
     "output_type": "execute_result"
    }
   ],
   "source": [
    "df.shape"
   ]
  },
  {
   "cell_type": "markdown",
   "metadata": {},
   "source": [
    "----"
   ]
  },
  {
   "cell_type": "markdown",
   "metadata": {},
   "source": [
    "### Pre-Processing"
   ]
  },
  {
   "cell_type": "code",
   "execution_count": 18,
   "metadata": {},
   "outputs": [],
   "source": [
    "# Add battery values\n",
    "\n",
    "grouped = df.groupby(['origin','destination'])\n",
    "\n",
    "batteries = [25,50,75,100]\n",
    "\n",
    "df_aux = pd.DataFrame()\n",
    "\n",
    "for _, frame in grouped:\n",
    "    \n",
    "    frame_aux = frame.copy()\n",
    "    for battery in batteries:\n",
    "        frame_aux['battery'] = battery\n",
    "        frame = pd.concat([frame, frame_aux])\n",
    "    \n",
    "    df_aux = pd.concat([df_aux, frame])\n",
    "    df_aux = df_aux.dropna(subset=['battery'])"
   ]
  },
  {
   "cell_type": "code",
   "execution_count": 19,
   "metadata": {},
   "outputs": [
    {
     "data": {
      "text/html": [
       "<div>\n",
       "<style scoped>\n",
       "    .dataframe tbody tr th:only-of-type {\n",
       "        vertical-align: middle;\n",
       "    }\n",
       "\n",
       "    .dataframe tbody tr th {\n",
       "        vertical-align: top;\n",
       "    }\n",
       "\n",
       "    .dataframe thead th {\n",
       "        text-align: right;\n",
       "    }\n",
       "</style>\n",
       "<table border=\"1\" class=\"dataframe\">\n",
       "  <thead>\n",
       "    <tr style=\"text-align: right;\">\n",
       "      <th></th>\n",
       "      <th>origin_destination</th>\n",
       "      <th>origin</th>\n",
       "      <th>destination</th>\n",
       "      <th>algorithm</th>\n",
       "      <th>battery</th>\n",
       "      <th>obstacles_qty</th>\n",
       "      <th>distance</th>\n",
       "      <th>time_to_plan</th>\n",
       "      <th>distance_path</th>\n",
       "      <th>ratio</th>\n",
       "      <th>distance_to_objective</th>\n",
       "      <th>factibility</th>\n",
       "      <th>qty_wp</th>\n",
       "    </tr>\n",
       "  </thead>\n",
       "  <tbody>\n",
       "    <tr>\n",
       "      <th>192</th>\n",
       "      <td>0_base_1_base_2</td>\n",
       "      <td>0_base_1</td>\n",
       "      <td>0_base_2</td>\n",
       "      <td>ag</td>\n",
       "      <td>25.0</td>\n",
       "      <td>1</td>\n",
       "      <td>63.042</td>\n",
       "      <td>135.288</td>\n",
       "      <td>54.549</td>\n",
       "      <td>0.865</td>\n",
       "      <td>0.000</td>\n",
       "      <td>feasible</td>\n",
       "      <td>6</td>\n",
       "    </tr>\n",
       "    <tr>\n",
       "      <th>504</th>\n",
       "      <td>0_base_1_base_2</td>\n",
       "      <td>0_base_1</td>\n",
       "      <td>0_base_2</td>\n",
       "      <td>rrt</td>\n",
       "      <td>25.0</td>\n",
       "      <td>1</td>\n",
       "      <td>63.042</td>\n",
       "      <td>1.386</td>\n",
       "      <td>72.246</td>\n",
       "      <td>1.146</td>\n",
       "      <td>0.000</td>\n",
       "      <td>feasible</td>\n",
       "      <td>4</td>\n",
       "    </tr>\n",
       "    <tr>\n",
       "      <th>816</th>\n",
       "      <td>0_base_1_base_2</td>\n",
       "      <td>0_base_1</td>\n",
       "      <td>0_base_2</td>\n",
       "      <td>pfp</td>\n",
       "      <td>25.0</td>\n",
       "      <td>1</td>\n",
       "      <td>63.042</td>\n",
       "      <td>31.822</td>\n",
       "      <td>59.966</td>\n",
       "      <td>0.951</td>\n",
       "      <td>4.828</td>\n",
       "      <td>feasible</td>\n",
       "      <td>4</td>\n",
       "    </tr>\n",
       "    <tr>\n",
       "      <th>192</th>\n",
       "      <td>0_base_1_base_2</td>\n",
       "      <td>0_base_1</td>\n",
       "      <td>0_base_2</td>\n",
       "      <td>ag</td>\n",
       "      <td>50.0</td>\n",
       "      <td>1</td>\n",
       "      <td>63.042</td>\n",
       "      <td>135.288</td>\n",
       "      <td>54.549</td>\n",
       "      <td>0.865</td>\n",
       "      <td>0.000</td>\n",
       "      <td>feasible</td>\n",
       "      <td>6</td>\n",
       "    </tr>\n",
       "    <tr>\n",
       "      <th>504</th>\n",
       "      <td>0_base_1_base_2</td>\n",
       "      <td>0_base_1</td>\n",
       "      <td>0_base_2</td>\n",
       "      <td>rrt</td>\n",
       "      <td>50.0</td>\n",
       "      <td>1</td>\n",
       "      <td>63.042</td>\n",
       "      <td>1.386</td>\n",
       "      <td>72.246</td>\n",
       "      <td>1.146</td>\n",
       "      <td>0.000</td>\n",
       "      <td>feasible</td>\n",
       "      <td>4</td>\n",
       "    </tr>\n",
       "    <tr>\n",
       "      <th>...</th>\n",
       "      <td>...</td>\n",
       "      <td>...</td>\n",
       "      <td>...</td>\n",
       "      <td>...</td>\n",
       "      <td>...</td>\n",
       "      <td>...</td>\n",
       "      <td>...</td>\n",
       "      <td>...</td>\n",
       "      <td>...</td>\n",
       "      <td>...</td>\n",
       "      <td>...</td>\n",
       "      <td>...</td>\n",
       "      <td>...</td>\n",
       "    </tr>\n",
       "    <tr>\n",
       "      <th>596</th>\n",
       "      <td>1_region_6_region_5</td>\n",
       "      <td>1_region_6</td>\n",
       "      <td>1_region_5</td>\n",
       "      <td>rrt</td>\n",
       "      <td>75.0</td>\n",
       "      <td>2</td>\n",
       "      <td>296.670</td>\n",
       "      <td>2.053</td>\n",
       "      <td>598.309</td>\n",
       "      <td>2.017</td>\n",
       "      <td>0.000</td>\n",
       "      <td>feasible</td>\n",
       "      <td>25</td>\n",
       "    </tr>\n",
       "    <tr>\n",
       "      <th>908</th>\n",
       "      <td>1_region_6_region_5</td>\n",
       "      <td>1_region_6</td>\n",
       "      <td>1_region_5</td>\n",
       "      <td>pfp</td>\n",
       "      <td>75.0</td>\n",
       "      <td>2</td>\n",
       "      <td>296.670</td>\n",
       "      <td>32.793</td>\n",
       "      <td>365.394</td>\n",
       "      <td>1.232</td>\n",
       "      <td>2.554</td>\n",
       "      <td>feasible</td>\n",
       "      <td>15</td>\n",
       "    </tr>\n",
       "    <tr>\n",
       "      <th>284</th>\n",
       "      <td>1_region_6_region_5</td>\n",
       "      <td>1_region_6</td>\n",
       "      <td>1_region_5</td>\n",
       "      <td>ag</td>\n",
       "      <td>100.0</td>\n",
       "      <td>2</td>\n",
       "      <td>296.670</td>\n",
       "      <td>121.834</td>\n",
       "      <td>371.868</td>\n",
       "      <td>1.253</td>\n",
       "      <td>0.000</td>\n",
       "      <td>feasible</td>\n",
       "      <td>8</td>\n",
       "    </tr>\n",
       "    <tr>\n",
       "      <th>596</th>\n",
       "      <td>1_region_6_region_5</td>\n",
       "      <td>1_region_6</td>\n",
       "      <td>1_region_5</td>\n",
       "      <td>rrt</td>\n",
       "      <td>100.0</td>\n",
       "      <td>2</td>\n",
       "      <td>296.670</td>\n",
       "      <td>2.053</td>\n",
       "      <td>598.309</td>\n",
       "      <td>2.017</td>\n",
       "      <td>0.000</td>\n",
       "      <td>feasible</td>\n",
       "      <td>25</td>\n",
       "    </tr>\n",
       "    <tr>\n",
       "      <th>908</th>\n",
       "      <td>1_region_6_region_5</td>\n",
       "      <td>1_region_6</td>\n",
       "      <td>1_region_5</td>\n",
       "      <td>pfp</td>\n",
       "      <td>100.0</td>\n",
       "      <td>2</td>\n",
       "      <td>296.670</td>\n",
       "      <td>32.793</td>\n",
       "      <td>365.394</td>\n",
       "      <td>1.232</td>\n",
       "      <td>2.554</td>\n",
       "      <td>feasible</td>\n",
       "      <td>15</td>\n",
       "    </tr>\n",
       "  </tbody>\n",
       "</table>\n",
       "<p>3744 rows × 13 columns</p>\n",
       "</div>"
      ],
      "text/plain": [
       "      origin_destination      origin destination algorithm  battery  obstacles_qty  distance  time_to_plan  distance_path  ratio  distance_to_objective factibility  qty_wp\n",
       "192      0_base_1_base_2    0_base_1    0_base_2        ag     25.0              1    63.042       135.288         54.549  0.865                  0.000    feasible       6\n",
       "504      0_base_1_base_2    0_base_1    0_base_2       rrt     25.0              1    63.042         1.386         72.246  1.146                  0.000    feasible       4\n",
       "816      0_base_1_base_2    0_base_1    0_base_2       pfp     25.0              1    63.042        31.822         59.966  0.951                  4.828    feasible       4\n",
       "192      0_base_1_base_2    0_base_1    0_base_2        ag     50.0              1    63.042       135.288         54.549  0.865                  0.000    feasible       6\n",
       "504      0_base_1_base_2    0_base_1    0_base_2       rrt     50.0              1    63.042         1.386         72.246  1.146                  0.000    feasible       4\n",
       "..                   ...         ...         ...       ...      ...            ...       ...           ...            ...    ...                    ...         ...     ...\n",
       "596  1_region_6_region_5  1_region_6  1_region_5       rrt     75.0              2   296.670         2.053        598.309  2.017                  0.000    feasible      25\n",
       "908  1_region_6_region_5  1_region_6  1_region_5       pfp     75.0              2   296.670        32.793        365.394  1.232                  2.554    feasible      15\n",
       "284  1_region_6_region_5  1_region_6  1_region_5        ag    100.0              2   296.670       121.834        371.868  1.253                  0.000    feasible       8\n",
       "596  1_region_6_region_5  1_region_6  1_region_5       rrt    100.0              2   296.670         2.053        598.309  2.017                  0.000    feasible      25\n",
       "908  1_region_6_region_5  1_region_6  1_region_5       pfp    100.0              2   296.670        32.793        365.394  1.232                  2.554    feasible      15\n",
       "\n",
       "[3744 rows x 13 columns]"
      ]
     },
     "execution_count": 19,
     "metadata": {},
     "output_type": "execute_result"
    }
   ],
   "source": [
    "df_aux"
   ]
  },
  {
   "cell_type": "code",
   "execution_count": 26,
   "metadata": {},
   "outputs": [],
   "source": [
    "# Calculate gain function\n",
    "\n",
    "grouped = df_aux.groupby(['origin','destination','battery'])\n",
    "\n",
    "df_results = pd.DataFrame()\n",
    "\n",
    "for _, frame in grouped:\n",
    "    frame\n",
    "    \n",
    "    # Calculate terms\n",
    "    terms = pd.DataFrame()\n",
    "    terms['T1'] = np.multiply(frame['battery'], frame['ratio'])\n",
    "#     terms['T1'] = frame['battery']\n",
    "    terms['T2'] = frame['time_to_plan']\n",
    "    terms['T3'] = frame['ratio']\n",
    "    terms['T4'] = frame['distance_to_objective']\n",
    "    terms['T5'] = frame['qty_wp']\n",
    "    terms_normalized=(terms-terms.min())/(terms.max()-terms.min())\n",
    "    \n",
    "    terms_normalized['F'] = terms_normalized.sum(axis=1)\n",
    "    \n",
    "    # Select minimum F\n",
    "    idx = terms_normalized[['F']].idxmin()\n",
    "    idx = idx['F']\n",
    "    best = frame.loc[idx]\n",
    "        \n",
    "    df_results = df_result.append(best)\n",
    "    \n",
    "#     df_results.loc[idx]['F'] = terms_normalized.loc[idx]['F']\n",
    "    \n",
    "#     break"
   ]
  },
  {
   "cell_type": "code",
   "execution_count": 27,
   "metadata": {},
   "outputs": [
    {
     "data": {
      "text/plain": [
       "rrt    572\n",
       "pfp    340\n",
       "ag     337\n",
       "Name: algorithm, dtype: int64"
      ]
     },
     "execution_count": 27,
     "metadata": {},
     "output_type": "execute_result"
    }
   ],
   "source": [
    "df_results.algorithm.value_counts()"
   ]
  },
  {
   "cell_type": "code",
   "execution_count": 28,
   "metadata": {},
   "outputs": [
    {
     "data": {
      "text/plain": [
       "rrt    0.458\n",
       "pfp    0.272\n",
       "ag     0.270\n",
       "Name: algorithm, dtype: float64"
      ]
     },
     "execution_count": 28,
     "metadata": {},
     "output_type": "execute_result"
    }
   ],
   "source": [
    "df_results.algorithm.value_counts(normalize=True)"
   ]
  },
  {
   "cell_type": "markdown",
   "metadata": {},
   "source": [
    "---\n",
    "# Train KNN"
   ]
  },
  {
   "cell_type": "code",
   "execution_count": 29,
   "metadata": {},
   "outputs": [],
   "source": [
    "features = df_results[['obstacles_qty', 'distance', 'battery']]\n",
    "labels = df_results['algorithm']"
   ]
  },
  {
   "cell_type": "code",
   "execution_count": 30,
   "metadata": {},
   "outputs": [],
   "source": [
    "from sklearn import preprocessing"
   ]
  },
  {
   "cell_type": "code",
   "execution_count": 31,
   "metadata": {},
   "outputs": [],
   "source": [
    "le = preprocessing.LabelEncoder()"
   ]
  },
  {
   "cell_type": "code",
   "execution_count": 32,
   "metadata": {},
   "outputs": [],
   "source": [
    "labels_encoded = le.fit_transform(labels)"
   ]
  },
  {
   "cell_type": "code",
   "execution_count": 33,
   "metadata": {},
   "outputs": [],
   "source": [
    "from sklearn.neighbors import KNeighborsClassifier"
   ]
  },
  {
   "cell_type": "code",
   "execution_count": 34,
   "metadata": {},
   "outputs": [],
   "source": [
    "knn = KNeighborsClassifier(n_neighbors=3)"
   ]
  },
  {
   "cell_type": "code",
   "execution_count": 35,
   "metadata": {},
   "outputs": [
    {
     "data": {
      "text/html": [
       "<div>\n",
       "<style scoped>\n",
       "    .dataframe tbody tr th:only-of-type {\n",
       "        vertical-align: middle;\n",
       "    }\n",
       "\n",
       "    .dataframe tbody tr th {\n",
       "        vertical-align: top;\n",
       "    }\n",
       "\n",
       "    .dataframe thead th {\n",
       "        text-align: right;\n",
       "    }\n",
       "</style>\n",
       "<table border=\"1\" class=\"dataframe\">\n",
       "  <thead>\n",
       "    <tr style=\"text-align: right;\">\n",
       "      <th></th>\n",
       "      <th>obstacles_qty</th>\n",
       "      <th>distance</th>\n",
       "      <th>battery</th>\n",
       "    </tr>\n",
       "  </thead>\n",
       "  <tbody>\n",
       "    <tr>\n",
       "      <th>635</th>\n",
       "      <td>1.0</td>\n",
       "      <td>2137.484</td>\n",
       "      <td>50.0</td>\n",
       "    </tr>\n",
       "    <tr>\n",
       "      <th>220</th>\n",
       "      <td>0.0</td>\n",
       "      <td>860.986</td>\n",
       "      <td>100.0</td>\n",
       "    </tr>\n",
       "    <tr>\n",
       "      <th>267</th>\n",
       "      <td>2.0</td>\n",
       "      <td>388.014</td>\n",
       "      <td>75.0</td>\n",
       "    </tr>\n",
       "    <tr>\n",
       "      <th>766</th>\n",
       "      <td>0.0</td>\n",
       "      <td>2921.315</td>\n",
       "      <td>100.0</td>\n",
       "    </tr>\n",
       "    <tr>\n",
       "      <th>163</th>\n",
       "      <td>0.0</td>\n",
       "      <td>860.986</td>\n",
       "      <td>25.0</td>\n",
       "    </tr>\n",
       "  </tbody>\n",
       "</table>\n",
       "</div>"
      ],
      "text/plain": [
       "     obstacles_qty  distance  battery\n",
       "635            1.0  2137.484     50.0\n",
       "220            0.0   860.986    100.0\n",
       "267            2.0   388.014     75.0\n",
       "766            0.0  2921.315    100.0\n",
       "163            0.0   860.986     25.0"
      ]
     },
     "execution_count": 35,
     "metadata": {},
     "output_type": "execute_result"
    }
   ],
   "source": [
    "features.sample(5)"
   ]
  },
  {
   "cell_type": "code",
   "execution_count": 36,
   "metadata": {},
   "outputs": [
    {
     "data": {
      "text/plain": [
       "418    rrt\n",
       "531    rrt\n",
       "178     ag\n",
       "459    rrt\n",
       "66      ag\n",
       "Name: algorithm, dtype: object"
      ]
     },
     "execution_count": 36,
     "metadata": {},
     "output_type": "execute_result"
    }
   ],
   "source": [
    "labels.sample(5)"
   ]
  },
  {
   "cell_type": "code",
   "execution_count": 37,
   "metadata": {},
   "outputs": [
    {
     "data": {
      "text/plain": [
       "KNeighborsClassifier(n_neighbors=3)"
      ]
     },
     "execution_count": 37,
     "metadata": {},
     "output_type": "execute_result"
    }
   ],
   "source": [
    "knn.fit(features,labels)"
   ]
  },
  {
   "cell_type": "code",
   "execution_count": 38,
   "metadata": {},
   "outputs": [
    {
     "data": {
      "text/plain": [
       "KNeighborsClassifier(n_neighbors=3)"
      ]
     },
     "execution_count": 38,
     "metadata": {},
     "output_type": "execute_result"
    }
   ],
   "source": [
    "knn"
   ]
  },
  {
   "cell_type": "code",
   "execution_count": 40,
   "metadata": {},
   "outputs": [
    {
     "data": {
      "text/plain": [
       "array(['ag'], dtype=object)"
      ]
     },
     "execution_count": 40,
     "metadata": {},
     "output_type": "execute_result"
    }
   ],
   "source": [
    "knn.predict([[1,500,25]])"
   ]
  },
  {
   "cell_type": "code",
   "execution_count": 42,
   "metadata": {},
   "outputs": [
    {
     "data": {
      "text/plain": [
       "array(['pfp'], dtype=object)"
      ]
     },
     "execution_count": 42,
     "metadata": {},
     "output_type": "execute_result"
    }
   ],
   "source": [
    "knn.predict([[4,518,50]])"
   ]
  },
  {
   "cell_type": "code",
   "execution_count": 44,
   "metadata": {},
   "outputs": [],
   "source": [
    "import pickle \n",
    "\n",
    "\n",
    "# Its important to use binary mode \n",
    "knnPickle = open('knnpickle_file', 'wb') \n",
    "\n",
    "# source, destination \n",
    "pickle.dump(knn, knnPickle)                      \n",
    "\n",
    "\n",
    "# load the model from disk\n",
    "loaded_model = pickle.load(open('knnpickle_file', 'rb'))\n",
    "result = loaded_model.predict([[1,550,100]]) "
   ]
  },
  {
   "cell_type": "code",
   "execution_count": 45,
   "metadata": {},
   "outputs": [
    {
     "data": {
      "text/plain": [
       "array(['rrt'], dtype=object)"
      ]
     },
     "execution_count": 45,
     "metadata": {},
     "output_type": "execute_result"
    }
   ],
   "source": [
    "result"
   ]
  },
  {
   "cell_type": "code",
   "execution_count": null,
   "metadata": {},
   "outputs": [],
   "source": []
  }
 ],
 "metadata": {
  "kernelspec": {
   "display_name": "Python 3",
   "language": "python",
   "name": "python3"
  },
  "language_info": {
   "codemirror_mode": {
    "name": "ipython",
    "version": 3
   },
   "file_extension": ".py",
   "mimetype": "text/x-python",
   "name": "python",
   "nbconvert_exporter": "python",
   "pygments_lexer": "ipython3",
   "version": "3.6.9"
  }
 },
 "nbformat": 4,
 "nbformat_minor": 2
}
