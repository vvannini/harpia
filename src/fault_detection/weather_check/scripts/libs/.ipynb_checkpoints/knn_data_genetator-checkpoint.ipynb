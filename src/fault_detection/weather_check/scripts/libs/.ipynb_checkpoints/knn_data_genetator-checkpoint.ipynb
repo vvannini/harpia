{
 "cells": [
  {
   "cell_type": "code",
   "execution_count": 62,
   "id": "b62aa919",
   "metadata": {},
   "outputs": [],
   "source": [
    "import numpy as np\n",
    "import pyspark # beacause pyspark >>>> pandas geopandas???\n",
    "from pyspark.sql.types import StructType,StructField, StringType, IntegerType, FloatType\n",
    "import json\n",
    "import math\n",
    "from math import sin, cos, sqrt, atan2, radians\n",
    "import shapely.geometry"
   ]
  },
  {
   "cell_type": "code",
   "execution_count": 1,
   "id": "25c656db",
   "metadata": {},
   "outputs": [
    {
     "ename": "ModuleNotFoundError",
     "evalue": "No module named 'libs'",
     "output_type": "error",
     "traceback": [
      "\u001b[0;31m---------------------------------------------------------------------------\u001b[0m",
      "\u001b[0;31mModuleNotFoundError\u001b[0m                       Traceback (most recent call last)",
      "\u001b[0;32m<ipython-input-1-d2e2c39badf2>\u001b[0m in \u001b[0;36m<module>\u001b[0;34m\u001b[0m\n\u001b[1;32m      2\u001b[0m \u001b[0;34m\u001b[0m\u001b[0m\n\u001b[1;32m      3\u001b[0m \u001b[0;31m# AG\u001b[0m\u001b[0;34m\u001b[0m\u001b[0;34m\u001b[0m\u001b[0;34m\u001b[0m\u001b[0m\n\u001b[0;32m----> 4\u001b[0;31m \u001b[0;32mfrom\u001b[0m \u001b[0mAG\u001b[0m\u001b[0;34m.\u001b[0m\u001b[0mgenetic\u001b[0m \u001b[0;32mimport\u001b[0m \u001b[0mSubject\u001b[0m\u001b[0;34m,\u001b[0m \u001b[0mGenetic\u001b[0m\u001b[0;34m\u001b[0m\u001b[0;34m\u001b[0m\u001b[0m\n\u001b[0m\u001b[1;32m      5\u001b[0m \u001b[0;32mfrom\u001b[0m \u001b[0mAG\u001b[0m\u001b[0;34m.\u001b[0m\u001b[0mmodel\u001b[0m \u001b[0;32mimport\u001b[0m \u001b[0mMapa\u001b[0m\u001b[0;34m,\u001b[0m \u001b[0mConversor\u001b[0m\u001b[0;34m,\u001b[0m \u001b[0mCartesianPoint\u001b[0m\u001b[0;34m\u001b[0m\u001b[0;34m\u001b[0m\u001b[0m\n\u001b[1;32m      6\u001b[0m \u001b[0;32mfrom\u001b[0m \u001b[0mAG\u001b[0m\u001b[0;34m.\u001b[0m\u001b[0mvisualization\u001b[0m \u001b[0;32mimport\u001b[0m \u001b[0mvis_mapa\u001b[0m\u001b[0;34m\u001b[0m\u001b[0;34m\u001b[0m\u001b[0m\n",
      "\u001b[0;32m~/harpia/src/path_planning/scripts/libs/AG/genetic.py\u001b[0m in \u001b[0;36m<module>\u001b[0;34m\u001b[0m\n\u001b[1;32m      7\u001b[0m \u001b[0;31m# from itertools import tee\u001b[0m\u001b[0;34m\u001b[0m\u001b[0;34m\u001b[0m\u001b[0;34m\u001b[0m\u001b[0m\n\u001b[1;32m      8\u001b[0m \u001b[0;34m\u001b[0m\u001b[0m\n\u001b[0;32m----> 9\u001b[0;31m \u001b[0;32mfrom\u001b[0m \u001b[0mlibs\u001b[0m\u001b[0;34m.\u001b[0m\u001b[0mAG\u001b[0m\u001b[0;34m.\u001b[0m\u001b[0mutils\u001b[0m \u001b[0;32mimport\u001b[0m \u001b[0mpairwise\u001b[0m\u001b[0;34m,\u001b[0m \u001b[0mpoint_in_polygon\u001b[0m\u001b[0;34m,\u001b[0m \u001b[0msegment_in_polygon\u001b[0m\u001b[0;34m,\u001b[0m \u001b[0meuclidean_distance\u001b[0m\u001b[0;34m\u001b[0m\u001b[0;34m\u001b[0m\u001b[0m\n\u001b[0m\u001b[1;32m     10\u001b[0m \u001b[0;34m\u001b[0m\u001b[0m\n\u001b[1;32m     11\u001b[0m \u001b[0;31m# from genetic.utils import _distance_wp_area, _prob_collision\u001b[0m\u001b[0;34m\u001b[0m\u001b[0;34m\u001b[0m\u001b[0;34m\u001b[0m\u001b[0m\n",
      "\u001b[0;31mModuleNotFoundError\u001b[0m: No module named 'libs'"
     ]
    }
   ],
   "source": [
    "# Imports for the path planners\n",
    "\n",
    "# AG\n",
    "from AG.genetic import Subject, Genetic\n",
    "from AG.model import Mapa, Conversor, CartesianPoint\n",
    "from AG.visualization import vis_mapa\n",
    "\n",
    "# RRT\n",
    "from RRT.rrt import RRT\n",
    "\n",
    "# PFP\n",
    "from PotentialFieldPlanning.potential_field_planning import potential_field_planning"
   ]
  },
  {
   "cell_type": "code",
   "execution_count": 2,
   "id": "381fe934",
   "metadata": {},
   "outputs": [],
   "source": [
    "# from pyspark.sql import SparkSession\n",
    "# spark = SparkSession.builder.appName('SparkByExamples.com').getOrCreate()"
   ]
  },
  {
   "cell_type": "code",
   "execution_count": 3,
   "id": "1847ea30",
   "metadata": {},
   "outputs": [],
   "source": [
    "# from os import walk\n",
    "\n",
    "# filenames = next(walk('./data'), (None, None, []))[2]  # [] if no file"
   ]
  },
  {
   "cell_type": "markdown",
   "id": "82b9a103",
   "metadata": {},
   "source": [
    "### READ MAPS"
   ]
  },
  {
   "cell_type": "code",
   "execution_count": 4,
   "id": "e82fbb03",
   "metadata": {},
   "outputs": [],
   "source": [
    "f = open('/home/vannini/harpia/json/mapa.json')\n",
    "mapa = json.load(f)\n",
    "f.close()"
   ]
  },
  {
   "cell_type": "markdown",
   "id": "578dd368",
   "metadata": {},
   "source": [
    "### Aux functions"
   ]
  },
  {
   "cell_type": "code",
   "execution_count": 38,
   "id": "f7f86ddd",
   "metadata": {},
   "outputs": [],
   "source": [
    "def distance(origin, destination):\n",
    "    # approximate radius of earth in km\n",
    "    R = 6373.0\n",
    "\n",
    "    lat1 = radians(origin[1])\n",
    "    lon1 = radians(origin[0])\n",
    "    lat2 = radians(destination[1])\n",
    "    lon2 = radians(destination[0])\n",
    "\n",
    "    dlon = lon2 - lon1\n",
    "    dlat = lat2 - lat1\n",
    "\n",
    "    a = sin(dlat / 2)**2 + cos(lat1) * cos(lat2) * sin(dlon / 2)**2\n",
    "    c = 2 * atan2(sqrt(a), sqrt(1 - a))\n",
    "\n",
    "    return R * c"
   ]
  },
  {
   "cell_type": "code",
   "execution_count": 55,
   "id": "8575a50e",
   "metadata": {},
   "outputs": [],
   "source": [
    "def pass_through_obstacle(obstacle_points, line_points):\n",
    "#     poly = shapely.geometry.Polygon([[-9.5, -2], [2, 2], [3, 4], [-1, 3]])\n",
    "#     line = shapely.geometry.LineString([[-10, -5], [15, 5]])\n",
    "    poly = shapely.geometry.Polygon(obstacle_points)\n",
    "    line = shapely.geometry.LineString(line_points)\n",
    "    \n",
    "    return line.intersects(poly)"
   ]
  },
  {
   "cell_type": "code",
   "execution_count": 64,
   "id": "2a85b2ef",
   "metadata": {},
   "outputs": [],
   "source": [
    "def geo_to_cart(geo_point, geo_home):\n",
    "        \n",
    "        def calc_y(lat, lat_):\n",
    "            return (lat - lat_) * (10000000.0 / 90)\n",
    "        def calc_x(longi, longi_, lat_):\n",
    "            return (longi - longi_) * (\n",
    "                6400000.0 * (math.cos(lat_ * math.pi / 180) * 2 * math.pi / 360)\n",
    "            )\n",
    "\n",
    "        x = calc_x(geo_point[0], geo_home[0], geo_home[1])\n",
    "        y = calc_y(geo_point[1], geo_home[1])\n",
    "\n",
    "        return [x, y]"
   ]
  },
  {
   "cell_type": "code",
   "execution_count": null,
   "id": "46f92a7c",
   "metadata": {},
   "outputs": [],
   "source": [
    "def cart_to_geo(cartesian_point, geo_home):\n",
    "        def calc_latitude_y(lat_, y):\n",
    "            return ((y * 90) / 10000000.0) + lat_\n",
    "\n",
    "        def calc_longitude_x(lat_, longi_, x):\n",
    "            return ((x * 90) / (10008000 * math.cos(lat_ * math.pi / 180))) + longi_\n",
    "\n",
    "        longitude_x = calc_longitude_x(\n",
    "            geo_home.latitude, geo_home.longitude, cartesian_point.x\n",
    "        )\n",
    "        latitude_y = calc_latitude_y(geo_home.latitude, cartesian_point.y)\n",
    "\n",
    "        return GeoPoint(latitude_y, longitude_x, 10)"
   ]
  },
  {
   "cell_type": "code",
   "execution_count": 83,
   "id": "f56952b6",
   "metadata": {},
   "outputs": [],
   "source": [
    "def list_geo_to_cart(l, geo_home):\n",
    "        cart_list = []\n",
    "        for i in l:\n",
    "            cart_list = cart_list + [geo_to_cart(i, geo_home)]\n",
    "        return cart_list\n",
    "\n",
    "def list_cart_to_geo(l, geo_home):\n",
    "        for i in l:\n",
    "            yield cart_to_geo(i, geo_home)"
   ]
  },
  {
   "cell_type": "markdown",
   "id": "05d6e804",
   "metadata": {},
   "source": [
    "## main loop"
   ]
  },
  {
   "cell_type": "code",
   "execution_count": 90,
   "id": "93292c48",
   "metadata": {
    "scrolled": true
   },
   "outputs": [],
   "source": [
    "# mapa[0]"
   ]
  },
  {
   "cell_type": "code",
   "execution_count": 89,
   "id": "8ce34985",
   "metadata": {},
   "outputs": [
    {
     "name": "stdout",
     "output_type": "stream",
     "text": [
      "0\n",
      "region_1->region_2\n",
      "\n",
      "[-50.34093194166483, -12.80457383579224, 0]\n",
      "1\n",
      "region_1->region_3\n",
      "\n",
      "[-50.35295305075247, -12.80153159447558, 0]\n",
      "0\n",
      "region_1->region_4\n",
      "\n",
      "[-50.36413759820164, -12.79811759728264, 0]\n",
      "0\n",
      "    3\n",
      "1\n",
      "region_1->region_2\n",
      "\n",
      "[-47.928158, -22.000412, 0]\n",
      "0\n",
      "region_1->region_3\n",
      "\n",
      "[-47.928125, -22.003567, 0]\n",
      "1\n",
      "region_1->region_4\n",
      "\n",
      "[-47.929567, -22.003878, 0]\n",
      "0\n",
      "    3\n",
      "2\n",
      "region_1->region_2\n",
      "\n",
      "[-47.932922, -22.00131, 0]\n",
      "0\n",
      "region_1->region_3\n",
      "\n",
      "[-47.932541, -22.002011, 0]\n",
      "0\n",
      "region_1->region_4\n",
      "\n",
      "[-47.93296, -22.002666, 0]\n",
      "0\n",
      "    3\n"
     ]
    }
   ],
   "source": [
    "for m in mapa:\n",
    "    print(m['id'])\n",
    "    geo_home = m['geo_home']\n",
    "    # getting list of oringin points - conners + centers of all regions (roi + bases) and\n",
    "    # destination points - centers of all regions (roi + bases)\n",
    "    origin_points = list()\n",
    "    origin_names = list()\n",
    "    destination_points = list()\n",
    "    destination_names = list()\n",
    "    for region in  m['roi']+m['bases']:\n",
    "        origin_points =  origin_points + region['geo_points'] + [region['center']]\n",
    "        origin_names = origin_names + [region['name']]\n",
    "        destination_points =  destination_points + [region['center']]\n",
    "        destination_names = destination_names + [region['name']]\n",
    "\n",
    "    i=0 \n",
    "    for o_name, origin in zip(origin_names, origin_points):\n",
    "        for d_name, destination in zip(destination_names, destination_points):\n",
    "            if(o_name!= d_name):  \n",
    "                i +=1\n",
    "                print(o_name+\"->\"+d_name)\n",
    "                \n",
    "                # distance in straight line\n",
    "                d_sl = distance(origin, destination)\n",
    "                \n",
    "                # calc number of obstacles that the path in straight line from origin to destination crosses\n",
    "                obst_qty = 0\n",
    "                line = list_geo_to_cart([origin[:-1]] + [destination[:-1]], geo_home)\n",
    "                for nfz in m['nfz']:\n",
    "                    poly = list_geo_to_cart(nfz['geo_points'], geo_home)\n",
    "                    if(pass_through_obstacle(poly, line)):\n",
    "                        obst_qty += 1\n",
    "                \n",
    "                \n",
    "        # stops to test \n",
    "            if(i == 3): \n",
    "                break\n",
    "        if(i == 3): \n",
    "            break\n",
    "             \n",
    "    print(\"    {}\".format(i))\n",
    "                \n",
    "                "
   ]
  },
  {
   "cell_type": "code",
   "execution_count": null,
   "id": "8c3e16b3",
   "metadata": {},
   "outputs": [],
   "source": [
    "# https://stackoverflow.com/questions/68770508/st-make-grid-method-equivalent-in-python/68778560#68778560 - grid\n",
    "\n",
    "## for each map\n",
    "    ## for each lat/log in each region(4 coners and center) - origin\n",
    "        ## for each other region_center in the map - destnation\n",
    "            ## calculate distance in straight line - dl\n",
    "            ## calculate how many obstacles are in the straigh line - obst_qty\n",
    "            \n",
    "            ## call rrt\n",
    "                ## calculate time to plan - time_alg\n",
    "                ## calculate given path distance - d_path\n",
    "                ## ratio??\n",
    "                ## calculate distance to destination - d_destination\n",
    "                ## if d_destination = 0 -> feasible else verify - factibility\n",
    "                ## sum qty waypoints - qty_wp\n",
    "                ## first_factible_route_found_time ??\n",
    "                ## if some exception - exception\n",
    "            ## save line: ++id, origin, destination, \"rrt\", dl, obst_qty, time_alg, d_path, ratio, d_destination\n",
    "                        ##, factibility, qty_wp, first_factible_route_found_time, exception\n",
    "            ## call pfp\n",
    "                ## calculate time to plan - time_alg\n",
    "                ## calculate given path distance - d_path\n",
    "                ## ratio??\n",
    "                ## calculate distance to destination - d_destination\n",
    "                ## if d_destination = 0 -> feasible else verify - factibility\n",
    "                ## sum qty waypoints - qty_wp\n",
    "                ## first_factible_route_found_time ??\n",
    "                ## if some exception - exception\n",
    "            ## save line: ++id, origin, destination, \"pfp\", dl, obst_qty, time_alg, d_path, ratio, d_destination\n",
    "                        ##, factibility, qty_wp, first_factible_route_found_time, exception\n",
    "            \n",
    "            ## call ag\n",
    "                ## calculate time to plan - time_alg\n",
    "                ## calculate given path distance - d_path\n",
    "                ## ratio??\n",
    "                ## calculate distance to destination - d_destination\n",
    "                ## if d_destination = 0 -> feasible else verify - factibility\n",
    "                ## sum qty waypoints - qty_wp\n",
    "                ## first_factible_route_found_time ??\n",
    "                ## if some exception - exception\n",
    "            ## save line: ++id, origin, destination, \"ag\", dl, obst_qty, time_alg, d_path, ratio, d_destination\n",
    "                        ##, factibility, qty_wp, first_factible_route_found_time, exception\n",
    "                "
   ]
  },
  {
   "cell_type": "code",
   "execution_count": null,
   "id": "d45c2074",
   "metadata": {},
   "outputs": [],
   "source": []
  },
  {
   "cell_type": "code",
   "execution_count": null,
   "id": "e2d664b7",
   "metadata": {},
   "outputs": [],
   "source": []
  }
 ],
 "metadata": {
  "kernelspec": {
   "display_name": "Python 3",
   "language": "python",
   "name": "python3"
  },
  "language_info": {
   "codemirror_mode": {
    "name": "ipython",
    "version": 3
   },
   "file_extension": ".py",
   "mimetype": "text/x-python",
   "name": "python",
   "nbconvert_exporter": "python",
   "pygments_lexer": "ipython3",
   "version": "3.6.9"
  }
 },
 "nbformat": 4,
 "nbformat_minor": 5
}
