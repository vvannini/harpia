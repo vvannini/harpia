{
 "cells": [
  {
   "cell_type": "code",
   "execution_count": 1,
   "metadata": {},
   "outputs": [
    {
     "name": "stderr",
     "output_type": "stream",
     "text": [
      "2023-07-06 13:13:40.864416: I tensorflow/core/platform/cpu_feature_guard.cc:193] This TensorFlow binary is optimized with oneAPI Deep Neural Network Library (oneDNN) to use the following CPU instructions in performance-critical operations:  AVX2 FMA\n",
      "To enable them in other operations, rebuild TensorFlow with the appropriate compiler flags.\n",
      "2023-07-06 13:13:41.224160: W tensorflow/compiler/xla/stream_executor/platform/default/dso_loader.cc:64] Could not load dynamic library 'libcudart.so.11.0'; dlerror: libcudart.so.11.0: cannot open shared object file: No such file or directory; LD_LIBRARY_PATH: /opt/ros/melodic/lib\n",
      "2023-07-06 13:13:41.224190: I tensorflow/compiler/xla/stream_executor/cuda/cudart_stub.cc:29] Ignore above cudart dlerror if you do not have a GPU set up on your machine.\n",
      "2023-07-06 13:13:42.446154: W tensorflow/compiler/xla/stream_executor/platform/default/dso_loader.cc:64] Could not load dynamic library 'libnvinfer.so.7'; dlerror: libnvinfer.so.7: cannot open shared object file: No such file or directory; LD_LIBRARY_PATH: /opt/ros/melodic/lib\n",
      "2023-07-06 13:13:42.446448: W tensorflow/compiler/xla/stream_executor/platform/default/dso_loader.cc:64] Could not load dynamic library 'libnvinfer_plugin.so.7'; dlerror: libnvinfer_plugin.so.7: cannot open shared object file: No such file or directory; LD_LIBRARY_PATH: /opt/ros/melodic/lib\n",
      "2023-07-06 13:13:42.446467: W tensorflow/compiler/tf2tensorrt/utils/py_utils.cc:38] TF-TRT Warning: Cannot dlopen some TensorRT libraries. If you would like to use Nvidia GPU with TensorRT, please make sure the missing libraries mentioned above are installed properly.\n"
     ]
    }
   ],
   "source": [
    "import pandas as pd\n",
    "import numpy as np\n",
    "import matplotlib.pyplot as plt\n",
    "import seaborn as sns\n",
    "import matplotlib.dates as md\n",
    "import scipy as sp\n",
    "from sklearn.model_selection import train_test_split\n",
    "from sklearn import preprocessing\n",
    "from keras.layers.core import Dense, Activation, Dropout\n",
    "from keras.layers import LSTM, Bidirectional, Conv1D\n",
    "from keras.models import Sequential\n",
    "from keras.wrappers.scikit_learn import KerasRegressor\n",
    "from sklearn.model_selection import GridSearchCV, TimeSeriesSplit\n",
    "from sklearn.decomposition import PCA\n",
    "from pyspark.sql import functions as sf\n",
    "import joblib\n",
    "import time"
   ]
  },
  {
   "cell_type": "code",
   "execution_count": 2,
   "metadata": {},
   "outputs": [
    {
     "data": {
      "text/html": [
       "<style>pre { white-space: pre !important; }</style>"
      ],
      "text/plain": [
       "<IPython.core.display.HTML object>"
      ]
     },
     "metadata": {},
     "output_type": "display_data"
    }
   ],
   "source": [
    "from IPython.core.display import HTML\n",
    "display(HTML(\"<style>pre { white-space: pre !important; }</style>\"))"
   ]
  },
  {
   "cell_type": "code",
   "execution_count": 3,
   "metadata": {},
   "outputs": [
    {
     "name": "stderr",
     "output_type": "stream",
     "text": [
      "23/07/06 13:13:46 WARN Utils: Your hostname, shire resolves to a loopback address: 127.0.1.1; using 192.168.1.126 instead (on interface wlp3s0)\n",
      "23/07/06 13:13:46 WARN Utils: Set SPARK_LOCAL_IP if you need to bind to another address\n",
      "Setting default log level to \"WARN\".\n",
      "To adjust logging level use sc.setLogLevel(newLevel). For SparkR, use setLogLevel(newLevel).\n",
      "23/07/06 13:13:48 WARN NativeCodeLoader: Unable to load native-hadoop library for your platform... using builtin-java classes where applicable\n",
      "23/07/06 13:13:49 WARN Utils: Service 'SparkUI' could not bind on port 4040. Attempting port 4041.\n",
      "/home/vannini/.local/lib/python3.7/site-packages/pyspark/context.py:317: FutureWarning: Python 3.7 support is deprecated in Spark 3.4.\n",
      "  warnings.warn(\"Python 3.7 support is deprecated in Spark 3.4.\", FutureWarning)\n",
      "                                                                                \r"
     ]
    }
   ],
   "source": [
    "from pyspark.sql import SparkSession\n",
    "# Create a SparkSession\n",
    "spark = SparkSession.builder.getOrCreate()\n",
    "\n",
    "# Read JSON file into DataFrame\n",
    "json_file_path = \"/home/vannini/harpia/flight_data.json\"\n",
    "df = spark.read.json(json_file_path)\n",
    "\n",
    "\n",
    "df_s = df.select(\n",
    "    \"id\",\n",
    "    \"Type\",\n",
    "    \"error\",\n",
    "    sf.explode(\"data\").alias(\"data\")\n",
    ").select(\n",
    "    \"id\",\n",
    "    \"Type\",\n",
    "    \"error\",\n",
    "    sf.col(\"data.roll\").alias(\"roll\"),\n",
    "    sf.col(\"data.pitch\").alias(\"pitch\"),\n",
    "    sf.col(\"data.yaw\").alias(\"yaw\"),\n",
    "    sf.col(\"data.heading\").alias(\"heading\"),\n",
    "    sf.col(\"data.rollRate\").alias(\"rollRate\"),\n",
    "    sf.col(\"data.pitchRate\").alias(\"pitchRate\"),\n",
    "    sf.col(\"data.yawRate\").alias(\"yawRate\"),\n",
    "    sf.col(\"data.groundSpeed\").alias(\"groundSpeed\"),\n",
    "    sf.col(\"data.climbRate\").alias(\"climbRate\"),\n",
    "    sf.col(\"data.altitudeRelative\").alias(\"altitudeRelative\"),\n",
    "    sf.col(\"data.throttlePct\").alias(\"throttlePct\")\n",
    ")\n",
    "# df_s.printSchema()\n",
    "# Print the DataFrame\n",
    "# df.show()"
   ]
  },
  {
   "cell_type": "code",
   "execution_count": 4,
   "metadata": {},
   "outputs": [
    {
     "name": "stdout",
     "output_type": "stream",
     "text": [
      "+---+-------------------+-----+--------------------+--------------------+----+------------------+--------------------+--------------------+--------------------+--------------------+--------------------+--------------------+------------------+\n",
      "| id|               Type|error|                roll|               pitch| yaw|           heading|            rollRate|           pitchRate|             yawRate|         groundSpeed|           climbRate|    altitudeRelative|       throttlePct|\n",
      "+---+-------------------+-----+--------------------+--------------------+----+------------------+--------------------+--------------------+--------------------+--------------------+--------------------+--------------------+------------------+\n",
      "|  0|Takeoff and landing| true|  0.0160099285079197|-0.00726505465933...|null|461.20050024305567|-9.80036708636525...|-0.00552425785785...|-0.01129696558460...| 0.12141013458125746| -0.4419510988008492|-0.10362918471831066|               0.0|\n",
      "|  0|Takeoff and landing| true|0.016027034943085498|-0.00586167352247...|null| 461.0519602024596|-0.00124955911530...|6.770111643953688E-4|-0.00373723321028...|  0.1600087892421595|-0.44390603237044673|0.004934652859261685|0.8388912456658909|\n",
      "|  0|Takeoff and landing| true|0.015219866299473892|-0.00418754354992...|null| 460.9968264794235|4.722520039618168...|0.003879229757676...|-0.01976628975856...|  0.1289338537534454| -0.4064552267270174|-0.00493472216468...|1.9244909233696428|\n",
      "|  0|Takeoff and landing| true|0.014330697379700608|-0.00521721030197...|null| 460.8986818559406|-0.00204129282954...|-0.00428105738147...|-0.00401040426950...| 0.06515062488502989| -0.3394782092664111|-0.00986928543074...| 2.664696505847444|\n",
      "|  0|Takeoff and landing| true| -0.1156456170158077|-0.20224765525474397|null| 461.7433223847182|-0.29002750450462367|-0.24907369673313762|-0.04060365140162...|  0.2695496462894863|  0.2920838711193116| 0.07895486498762351|3.6020666607422753|\n",
      "|  0|Takeoff and landing| true|0.031928279488329304| 0.05112940227899377|null|461.23173505576113|0.009540164170454087|-0.01441680866118...|0.006781036952888232| 0.49721828238887733|  3.9328517805247287|  2.8522637743969272|3.5529992394714736|\n",
      "|  0|Takeoff and landing| true| 0.01924456639037533|0.014875405308510253|null|  461.200702340348|-0.01224201640139...|-0.04601536769080278|5.580941870568256E-4| 0.16494683291422166|   4.718233067115745|   7.683362494188757| 3.503642349388956|\n",
      "|  0|Takeoff and landing| true|0.002622325779774577|-0.00894388221989...|null| 460.9524018818016|-0.00852067291577...|-0.01060484244912141|-0.02669937995345...|  0.1959006655623904|  3.9064793937846076|  12.221655100127084|3.5036594779630055|\n",
      "|  0|Takeoff and landing| true|0.005167401640001499|-0.03104968452785...|null|461.09945958351744|0.002633692684739193|-0.02550555205117...|-0.01614194714373365| 0.10613929605603055|  2.4199524549960847|  16.298578813898633|3.1581346927244813|\n",
      "|  0|Takeoff and landing| true|0.001552855393457...|-0.00955625114910...|null|461.34701929677874|3.584413729421041E-4|0.053704934123665324| 0.01143797668123744|  0.0759037389824311|  0.7222007723494562|  17.760079662282738| 3.454287282956921|\n",
      "|  0|Takeoff and landing| true|0.003833612720866...|-0.00918331364724...|null| 461.2495780535244|0.005101721585704471|-0.01169472182356966|0.003040214157649...|0.049605440763942694|-0.04128941084915...|  18.498975998916688| 3.454293397956684|\n",
      "|  0|Takeoff and landing| true|-7.20933303700389E-5|-0.01021948093091...|null| 461.0504013620389|0.007046956120795874|0.028352668927220517|-0.00654248762206...|0.045019378713778056|-0.28910876182088757|  18.750432272870604|3.4542437910700303|\n",
      "|  0|Takeoff and landing| true|0.003590193520306...|-3.47940708123748...|null|461.34831989922156|-0.01334924849566...|-0.03790316819899...|0.002182322098982816|0.021495059534634552|-0.41960781792401025|   18.90451937241439|3.4542755686636286|\n",
      "|  0|Takeoff and landing| true| 0.00537285433450515|0.003133663926857...|null| 461.2958661734213|0.003710763146532...|-0.03003122710790...|-0.01491509952298138|0.031911019279684996|  -0.536058082181977|  19.028224198950763|3.4541939440299743|\n",
      "|  0|Takeoff and landing| true|0.011638432053904905|-0.00375663999851...|null| 461.2689571833047|0.012811450478719141|-0.00607994756882...|-0.00190746563306...| 0.02570543073418465| -0.6235078748632281|  19.087565285122253| 3.454289703421278|\n",
      "|  0|Takeoff and landing| true|0.018787759571409844|-0.00671527188290...|null| 461.2372397971645|-0.00643768247267...|-0.01064767896211...|-0.00212127615166...|0.010360117516003891| -0.6590204157005243|  19.166387313358243| 3.453941154315561|\n",
      "|  0|Takeoff and landing| true|0.021087097978445397|-0.01729804922168...|null|461.13339359348186|-0.00190447434650...| 0.05745454446822625|-0.00317555403675...| 0.07933427788281365| -0.7198811845696985|  19.200183931453182|3.4543153607709667|\n",
      "|  0|Takeoff and landing| true|0.008217723541553871|-0.00140351821185...|null| 461.1721986542463|-0.01520799469362...|-0.00816128517824...|5.601083808092671E-7|   0.092474846888924| -0.6642721528533854|  19.131603742889926| 3.454304219443367|\n",
      "|  0|Takeoff and landing| true| 0.00827921973652926|-0.00373943630541476|null| 461.1491769023639| 0.01201024537316511| -0.0117633170075014|-0.00423757982421...| 0.08406541556870979| -0.6995169069133204|  19.161531188186547| 3.454192172336848|\n",
      "|  0|Takeoff and landing| true|0.011012751102395807|0.005784036868165947|null| 461.1313594592533|0.020106269716823694|-0.05213587464597...|-2.72144823053803...|0.042681882571857066|  -4.708947883692218|  17.587387258927006|3.6023217234598452|\n",
      "+---+-------------------+-----+--------------------+--------------------+----+------------------+--------------------+--------------------+--------------------+--------------------+--------------------+--------------------+------------------+\n",
      "only showing top 20 rows\n",
      "\n"
     ]
    }
   ],
   "source": [
    "df_s.show()"
   ]
  },
  {
   "cell_type": "code",
   "execution_count": 5,
   "metadata": {},
   "outputs": [
    {
     "name": "stderr",
     "output_type": "stream",
     "text": [
      "[Stage 2:==============>                                            (1 + 3) / 4]\r"
     ]
    },
    {
     "name": "stdout",
     "output_type": "stream",
     "text": [
      "+-------+-----------------+\n",
      "|avg(id)|       avg(count)|\n",
      "+-------+-----------------+\n",
      "|  257.0|92.00388349514563|\n",
      "+-------+-----------------+\n",
      "\n"
     ]
    },
    {
     "name": "stderr",
     "output_type": "stream",
     "text": [
      "\r",
      "                                                                                \r"
     ]
    }
   ],
   "source": [
    "df_s.groupBy('id').count().groupBy().avg().show()"
   ]
  },
  {
   "cell_type": "code",
   "execution_count": 6,
   "metadata": {
    "id": "62fNPyAGZDCs"
   },
   "outputs": [],
   "source": [
    "def info(df):\n",
    "  print(df.info(verbose=True))\n",
    "  return None"
   ]
  },
  {
   "cell_type": "code",
   "execution_count": 7,
   "metadata": {
    "id": "Kdk9GRqjZEV0"
   },
   "outputs": [],
   "source": [
    "def nulls_qtd(df):\n",
    "  print(df.isna().sum())\n",
    "  return None"
   ]
  },
  {
   "cell_type": "code",
   "execution_count": 8,
   "metadata": {
    "id": "KHGsu0c6ZGX8"
   },
   "outputs": [],
   "source": [
    "def describe(df, perc, drop_list = None):\n",
    "  if drop_list == None:\n",
    "    df.select_dtypes(include='number').describe(percentiles = perc)\n",
    "  else:\n",
    "    df.select_dtypes(include='number').drop(drop_list, axis=1).describe(percentiles = perc)\n",
    "  return None"
   ]
  },
  {
   "cell_type": "code",
   "execution_count": 9,
   "metadata": {
    "id": "8QIbajisYOeU"
   },
   "outputs": [],
   "source": [
    "def shape(df):\n",
    "  # DataFrame shape\n",
    "  print(f'Rows: {df.shape[0]}\\n   \\nColumns: {df.shape[1]}')\n",
    "  return None"
   ]
  },
  {
   "cell_type": "code",
   "execution_count": 10,
   "metadata": {
    "id": "df6E-08JZyYN"
   },
   "outputs": [],
   "source": [
    "def select_columns(df, columns_names_list):\n",
    "  df_new = df[columns_names_list]\n",
    "  return df_new"
   ]
  },
  {
   "cell_type": "code",
   "execution_count": 11,
   "metadata": {
    "id": "FznulxTOZ17N"
   },
   "outputs": [],
   "source": [
    "def split_train_test(X, y, strat, perc = 0.25):\n",
    "  \"\"\"\n",
    "  X: x's variables\n",
    "  y: target variable (system response)\n",
    "  perc: test data percentage (decimal value; default = 0.2 = 20% of data)\n",
    "  \"\"\"\n",
    "  X_train, X_test, y_train, y_test = train_test_split(X, y, test_size = 0.2, random_state = 0, stratify=strat)\n",
    "\n",
    "  # Resets all DFs indexes\n",
    "  X_train.reset_index(drop = True, inplace = True)\n",
    "  X_test.reset_index(drop = True, inplace = True)\n",
    "  y_train.reset_index(drop = True, inplace = True)\n",
    "  y_test.reset_index(drop = True, inplace = True)\n",
    "\n",
    "  return X_train, X_test, y_train, y_test"
   ]
  },
  {
   "cell_type": "markdown",
   "metadata": {
    "id": "PEmmVXxiU4mW"
   },
   "source": [
    "# 2- Exploratory Data Analysis (EDA)"
   ]
  },
  {
   "cell_type": "code",
   "execution_count": 12,
   "metadata": {
    "colab": {
     "base_uri": "https://localhost:8080/",
     "height": 0
    },
    "id": "mPXF7lV0U4WV",
    "outputId": "025193e4-82fa-4c58-a13c-c4691372d9a2",
    "scrolled": true
   },
   "outputs": [
    {
     "name": "stderr",
     "output_type": "stream",
     "text": [
      "                                                                                \r"
     ]
    },
    {
     "data": {
      "text/html": [
       "<div>\n",
       "<style scoped>\n",
       "    .dataframe tbody tr th:only-of-type {\n",
       "        vertical-align: middle;\n",
       "    }\n",
       "\n",
       "    .dataframe tbody tr th {\n",
       "        vertical-align: top;\n",
       "    }\n",
       "\n",
       "    .dataframe thead th {\n",
       "        text-align: right;\n",
       "    }\n",
       "</style>\n",
       "<table border=\"1\" class=\"dataframe\">\n",
       "  <thead>\n",
       "    <tr style=\"text-align: right;\">\n",
       "      <th></th>\n",
       "      <th>id</th>\n",
       "      <th>Type</th>\n",
       "      <th>error</th>\n",
       "      <th>roll</th>\n",
       "      <th>pitch</th>\n",
       "      <th>yaw</th>\n",
       "      <th>heading</th>\n",
       "      <th>rollRate</th>\n",
       "      <th>pitchRate</th>\n",
       "      <th>yawRate</th>\n",
       "      <th>groundSpeed</th>\n",
       "      <th>climbRate</th>\n",
       "      <th>altitudeRelative</th>\n",
       "      <th>throttlePct</th>\n",
       "    </tr>\n",
       "  </thead>\n",
       "  <tbody>\n",
       "    <tr>\n",
       "      <th>0</th>\n",
       "      <td>0</td>\n",
       "      <td>Takeoff and landing</td>\n",
       "      <td>True</td>\n",
       "      <td>0.016010</td>\n",
       "      <td>-0.007265</td>\n",
       "      <td>NaN</td>\n",
       "      <td>461.200500</td>\n",
       "      <td>-0.000980</td>\n",
       "      <td>-0.005524</td>\n",
       "      <td>-0.011297</td>\n",
       "      <td>0.121410</td>\n",
       "      <td>-0.441951</td>\n",
       "      <td>-0.103629</td>\n",
       "      <td>0.000000</td>\n",
       "    </tr>\n",
       "    <tr>\n",
       "      <th>1</th>\n",
       "      <td>0</td>\n",
       "      <td>Takeoff and landing</td>\n",
       "      <td>True</td>\n",
       "      <td>0.016027</td>\n",
       "      <td>-0.005862</td>\n",
       "      <td>NaN</td>\n",
       "      <td>461.051960</td>\n",
       "      <td>-0.001250</td>\n",
       "      <td>0.000677</td>\n",
       "      <td>-0.003737</td>\n",
       "      <td>0.160009</td>\n",
       "      <td>-0.443906</td>\n",
       "      <td>0.004935</td>\n",
       "      <td>0.838891</td>\n",
       "    </tr>\n",
       "    <tr>\n",
       "      <th>2</th>\n",
       "      <td>0</td>\n",
       "      <td>Takeoff and landing</td>\n",
       "      <td>True</td>\n",
       "      <td>0.015220</td>\n",
       "      <td>-0.004188</td>\n",
       "      <td>NaN</td>\n",
       "      <td>460.996826</td>\n",
       "      <td>0.000472</td>\n",
       "      <td>0.003879</td>\n",
       "      <td>-0.019766</td>\n",
       "      <td>0.128934</td>\n",
       "      <td>-0.406455</td>\n",
       "      <td>-0.004935</td>\n",
       "      <td>1.924491</td>\n",
       "    </tr>\n",
       "    <tr>\n",
       "      <th>3</th>\n",
       "      <td>0</td>\n",
       "      <td>Takeoff and landing</td>\n",
       "      <td>True</td>\n",
       "      <td>0.014331</td>\n",
       "      <td>-0.005217</td>\n",
       "      <td>NaN</td>\n",
       "      <td>460.898682</td>\n",
       "      <td>-0.002041</td>\n",
       "      <td>-0.004281</td>\n",
       "      <td>-0.004010</td>\n",
       "      <td>0.065151</td>\n",
       "      <td>-0.339478</td>\n",
       "      <td>-0.009869</td>\n",
       "      <td>2.664697</td>\n",
       "    </tr>\n",
       "    <tr>\n",
       "      <th>4</th>\n",
       "      <td>0</td>\n",
       "      <td>Takeoff and landing</td>\n",
       "      <td>True</td>\n",
       "      <td>-0.115646</td>\n",
       "      <td>-0.202248</td>\n",
       "      <td>NaN</td>\n",
       "      <td>461.743322</td>\n",
       "      <td>-0.290028</td>\n",
       "      <td>-0.249074</td>\n",
       "      <td>-0.040604</td>\n",
       "      <td>0.269550</td>\n",
       "      <td>0.292084</td>\n",
       "      <td>0.078955</td>\n",
       "      <td>3.602067</td>\n",
       "    </tr>\n",
       "  </tbody>\n",
       "</table>\n",
       "</div>"
      ],
      "text/plain": [
       "   id                 Type  error      roll     pitch  yaw     heading  \\\n",
       "0   0  Takeoff and landing   True  0.016010 -0.007265  NaN  461.200500   \n",
       "1   0  Takeoff and landing   True  0.016027 -0.005862  NaN  461.051960   \n",
       "2   0  Takeoff and landing   True  0.015220 -0.004188  NaN  460.996826   \n",
       "3   0  Takeoff and landing   True  0.014331 -0.005217  NaN  460.898682   \n",
       "4   0  Takeoff and landing   True -0.115646 -0.202248  NaN  461.743322   \n",
       "\n",
       "   rollRate  pitchRate   yawRate  groundSpeed  climbRate  altitudeRelative  \\\n",
       "0 -0.000980  -0.005524 -0.011297     0.121410  -0.441951         -0.103629   \n",
       "1 -0.001250   0.000677 -0.003737     0.160009  -0.443906          0.004935   \n",
       "2  0.000472   0.003879 -0.019766     0.128934  -0.406455         -0.004935   \n",
       "3 -0.002041  -0.004281 -0.004010     0.065151  -0.339478         -0.009869   \n",
       "4 -0.290028  -0.249074 -0.040604     0.269550   0.292084          0.078955   \n",
       "\n",
       "   throttlePct  \n",
       "0     0.000000  \n",
       "1     0.838891  \n",
       "2     1.924491  \n",
       "3     2.664697  \n",
       "4     3.602067  "
      ]
     },
     "execution_count": 12,
     "metadata": {},
     "output_type": "execute_result"
    }
   ],
   "source": [
    "df = df_s.toPandas()\n",
    "df.head()"
   ]
  },
  {
   "cell_type": "code",
   "execution_count": 13,
   "metadata": {
    "scrolled": true
   },
   "outputs": [
    {
     "data": {
      "text/html": [
       "<div>\n",
       "<style scoped>\n",
       "    .dataframe tbody tr th:only-of-type {\n",
       "        vertical-align: middle;\n",
       "    }\n",
       "\n",
       "    .dataframe tbody tr th {\n",
       "        vertical-align: top;\n",
       "    }\n",
       "\n",
       "    .dataframe thead th {\n",
       "        text-align: right;\n",
       "    }\n",
       "</style>\n",
       "<table border=\"1\" class=\"dataframe\">\n",
       "  <thead>\n",
       "    <tr style=\"text-align: right;\">\n",
       "      <th></th>\n",
       "      <th>id</th>\n",
       "      <th>roll</th>\n",
       "      <th>pitch</th>\n",
       "      <th>yaw</th>\n",
       "      <th>heading</th>\n",
       "      <th>rollRate</th>\n",
       "      <th>pitchRate</th>\n",
       "      <th>yawRate</th>\n",
       "      <th>groundSpeed</th>\n",
       "      <th>climbRate</th>\n",
       "      <th>altitudeRelative</th>\n",
       "      <th>throttlePct</th>\n",
       "    </tr>\n",
       "  </thead>\n",
       "  <tbody>\n",
       "    <tr>\n",
       "      <th>count</th>\n",
       "      <td>33017.000000</td>\n",
       "      <td>33017.000000</td>\n",
       "      <td>33017.000000</td>\n",
       "      <td>33017.000000</td>\n",
       "      <td>33017.000000</td>\n",
       "      <td>33017.000000</td>\n",
       "      <td>33017.000000</td>\n",
       "      <td>33017.000000</td>\n",
       "      <td>33017.000000</td>\n",
       "      <td>33017.000000</td>\n",
       "      <td>33017.000000</td>\n",
       "      <td>33017.000000</td>\n",
       "    </tr>\n",
       "    <tr>\n",
       "      <th>mean</th>\n",
       "      <td>207.405155</td>\n",
       "      <td>0.000806</td>\n",
       "      <td>0.002833</td>\n",
       "      <td>0.844894</td>\n",
       "      <td>115.250263</td>\n",
       "      <td>0.000154</td>\n",
       "      <td>-0.000066</td>\n",
       "      <td>-0.000037</td>\n",
       "      <td>0.037203</td>\n",
       "      <td>-0.111073</td>\n",
       "      <td>-0.528727</td>\n",
       "      <td>0.012212</td>\n",
       "    </tr>\n",
       "    <tr>\n",
       "      <th>std</th>\n",
       "      <td>165.402414</td>\n",
       "      <td>0.008437</td>\n",
       "      <td>0.009592</td>\n",
       "      <td>0.762674</td>\n",
       "      <td>129.866613</td>\n",
       "      <td>0.001544</td>\n",
       "      <td>0.001591</td>\n",
       "      <td>0.001599</td>\n",
       "      <td>0.022983</td>\n",
       "      <td>0.082060</td>\n",
       "      <td>0.423008</td>\n",
       "      <td>0.036281</td>\n",
       "    </tr>\n",
       "    <tr>\n",
       "      <th>min</th>\n",
       "      <td>6.000000</td>\n",
       "      <td>-0.020466</td>\n",
       "      <td>-0.023518</td>\n",
       "      <td>-0.061491</td>\n",
       "      <td>0.000000</td>\n",
       "      <td>-0.004801</td>\n",
       "      <td>-0.004413</td>\n",
       "      <td>-0.004161</td>\n",
       "      <td>0.000375</td>\n",
       "      <td>-0.234207</td>\n",
       "      <td>-0.971000</td>\n",
       "      <td>0.000000</td>\n",
       "    </tr>\n",
       "    <tr>\n",
       "      <th>25%</th>\n",
       "      <td>66.000000</td>\n",
       "      <td>-0.005022</td>\n",
       "      <td>-0.004126</td>\n",
       "      <td>0.075876</td>\n",
       "      <td>0.080000</td>\n",
       "      <td>-0.000828</td>\n",
       "      <td>-0.001275</td>\n",
       "      <td>-0.001214</td>\n",
       "      <td>0.018749</td>\n",
       "      <td>-0.173954</td>\n",
       "      <td>-0.817000</td>\n",
       "      <td>0.000000</td>\n",
       "    </tr>\n",
       "    <tr>\n",
       "      <th>50%</th>\n",
       "      <td>134.000000</td>\n",
       "      <td>0.000648</td>\n",
       "      <td>0.002261</td>\n",
       "      <td>1.568556</td>\n",
       "      <td>85.260002</td>\n",
       "      <td>0.000223</td>\n",
       "      <td>-0.000081</td>\n",
       "      <td>-0.000036</td>\n",
       "      <td>0.033824</td>\n",
       "      <td>-0.138986</td>\n",
       "      <td>-0.756000</td>\n",
       "      <td>0.000000</td>\n",
       "    </tr>\n",
       "    <tr>\n",
       "      <th>75%</th>\n",
       "      <td>370.000000</td>\n",
       "      <td>0.007013</td>\n",
       "      <td>0.009642</td>\n",
       "      <td>1.570579</td>\n",
       "      <td>92.820000</td>\n",
       "      <td>0.001211</td>\n",
       "      <td>0.001067</td>\n",
       "      <td>0.000924</td>\n",
       "      <td>0.050225</td>\n",
       "      <td>-0.063068</td>\n",
       "      <td>0.024000</td>\n",
       "      <td>0.000000</td>\n",
       "    </tr>\n",
       "    <tr>\n",
       "      <th>max</th>\n",
       "      <td>514.000000</td>\n",
       "      <td>0.023513</td>\n",
       "      <td>0.027969</td>\n",
       "      <td>1.581190</td>\n",
       "      <td>359.989990</td>\n",
       "      <td>0.004769</td>\n",
       "      <td>0.005313</td>\n",
       "      <td>0.004973</td>\n",
       "      <td>0.128819</td>\n",
       "      <td>0.135915</td>\n",
       "      <td>0.361000</td>\n",
       "      <td>0.120000</td>\n",
       "    </tr>\n",
       "  </tbody>\n",
       "</table>\n",
       "</div>"
      ],
      "text/plain": [
       "                 id          roll         pitch           yaw       heading  \\\n",
       "count  33017.000000  33017.000000  33017.000000  33017.000000  33017.000000   \n",
       "mean     207.405155      0.000806      0.002833      0.844894    115.250263   \n",
       "std      165.402414      0.008437      0.009592      0.762674    129.866613   \n",
       "min        6.000000     -0.020466     -0.023518     -0.061491      0.000000   \n",
       "25%       66.000000     -0.005022     -0.004126      0.075876      0.080000   \n",
       "50%      134.000000      0.000648      0.002261      1.568556     85.260002   \n",
       "75%      370.000000      0.007013      0.009642      1.570579     92.820000   \n",
       "max      514.000000      0.023513      0.027969      1.581190    359.989990   \n",
       "\n",
       "           rollRate     pitchRate       yawRate   groundSpeed     climbRate  \\\n",
       "count  33017.000000  33017.000000  33017.000000  33017.000000  33017.000000   \n",
       "mean       0.000154     -0.000066     -0.000037      0.037203     -0.111073   \n",
       "std        0.001544      0.001591      0.001599      0.022983      0.082060   \n",
       "min       -0.004801     -0.004413     -0.004161      0.000375     -0.234207   \n",
       "25%       -0.000828     -0.001275     -0.001214      0.018749     -0.173954   \n",
       "50%        0.000223     -0.000081     -0.000036      0.033824     -0.138986   \n",
       "75%        0.001211      0.001067      0.000924      0.050225     -0.063068   \n",
       "max        0.004769      0.005313      0.004973      0.128819      0.135915   \n",
       "\n",
       "       altitudeRelative   throttlePct  \n",
       "count      33017.000000  33017.000000  \n",
       "mean          -0.528727      0.012212  \n",
       "std            0.423008      0.036281  \n",
       "min           -0.971000      0.000000  \n",
       "25%           -0.817000      0.000000  \n",
       "50%           -0.756000      0.000000  \n",
       "75%            0.024000      0.000000  \n",
       "max            0.361000      0.120000  "
      ]
     },
     "execution_count": 13,
     "metadata": {},
     "output_type": "execute_result"
    }
   ],
   "source": [
    "df[df['error']==False].describe()"
   ]
  },
  {
   "cell_type": "code",
   "execution_count": 14,
   "metadata": {
    "scrolled": true
   },
   "outputs": [
    {
     "data": {
      "text/html": [
       "<div>\n",
       "<style scoped>\n",
       "    .dataframe tbody tr th:only-of-type {\n",
       "        vertical-align: middle;\n",
       "    }\n",
       "\n",
       "    .dataframe tbody tr th {\n",
       "        vertical-align: top;\n",
       "    }\n",
       "\n",
       "    .dataframe thead th {\n",
       "        text-align: right;\n",
       "    }\n",
       "</style>\n",
       "<table border=\"1\" class=\"dataframe\">\n",
       "  <thead>\n",
       "    <tr style=\"text-align: right;\">\n",
       "      <th></th>\n",
       "      <th>id</th>\n",
       "      <th>roll</th>\n",
       "      <th>pitch</th>\n",
       "      <th>yaw</th>\n",
       "      <th>heading</th>\n",
       "      <th>rollRate</th>\n",
       "      <th>pitchRate</th>\n",
       "      <th>yawRate</th>\n",
       "      <th>groundSpeed</th>\n",
       "      <th>climbRate</th>\n",
       "      <th>altitudeRelative</th>\n",
       "      <th>throttlePct</th>\n",
       "    </tr>\n",
       "  </thead>\n",
       "  <tbody>\n",
       "    <tr>\n",
       "      <th>count</th>\n",
       "      <td>14365.000000</td>\n",
       "      <td>14365.000000</td>\n",
       "      <td>14365.000000</td>\n",
       "      <td>0.0</td>\n",
       "      <td>14365.000000</td>\n",
       "      <td>14365.000000</td>\n",
       "      <td>14365.000000</td>\n",
       "      <td>14365.000000</td>\n",
       "      <td>14365.000000</td>\n",
       "      <td>14365.000000</td>\n",
       "      <td>14365.000000</td>\n",
       "      <td>14365.000000</td>\n",
       "    </tr>\n",
       "    <tr>\n",
       "      <th>mean</th>\n",
       "      <td>195.420814</td>\n",
       "      <td>0.005449</td>\n",
       "      <td>0.025506</td>\n",
       "      <td>NaN</td>\n",
       "      <td>735.734097</td>\n",
       "      <td>-0.000550</td>\n",
       "      <td>0.005557</td>\n",
       "      <td>0.001593</td>\n",
       "      <td>6.001710</td>\n",
       "      <td>-0.179220</td>\n",
       "      <td>38.257504</td>\n",
       "      <td>3.387154</td>\n",
       "    </tr>\n",
       "    <tr>\n",
       "      <th>std</th>\n",
       "      <td>164.287193</td>\n",
       "      <td>0.434786</td>\n",
       "      <td>0.457408</td>\n",
       "      <td>NaN</td>\n",
       "      <td>699.536821</td>\n",
       "      <td>0.770115</td>\n",
       "      <td>0.794651</td>\n",
       "      <td>0.084414</td>\n",
       "      <td>7.555147</td>\n",
       "      <td>2.205264</td>\n",
       "      <td>36.822243</td>\n",
       "      <td>0.491505</td>\n",
       "    </tr>\n",
       "    <tr>\n",
       "      <th>min</th>\n",
       "      <td>0.000000</td>\n",
       "      <td>-1.895378</td>\n",
       "      <td>-1.931535</td>\n",
       "      <td>NaN</td>\n",
       "      <td>0.000000</td>\n",
       "      <td>-2.660523</td>\n",
       "      <td>-2.954048</td>\n",
       "      <td>-0.675547</td>\n",
       "      <td>0.000929</td>\n",
       "      <td>-6.530260</td>\n",
       "      <td>-6.266885</td>\n",
       "      <td>0.000000</td>\n",
       "    </tr>\n",
       "    <tr>\n",
       "      <th>25%</th>\n",
       "      <td>60.000000</td>\n",
       "      <td>-0.031026</td>\n",
       "      <td>-0.041849</td>\n",
       "      <td>NaN</td>\n",
       "      <td>416.440885</td>\n",
       "      <td>-0.023051</td>\n",
       "      <td>-0.022239</td>\n",
       "      <td>-0.007898</td>\n",
       "      <td>0.156115</td>\n",
       "      <td>-0.324221</td>\n",
       "      <td>14.393404</td>\n",
       "      <td>3.454232</td>\n",
       "    </tr>\n",
       "    <tr>\n",
       "      <th>50%</th>\n",
       "      <td>124.000000</td>\n",
       "      <td>0.001032</td>\n",
       "      <td>-0.000912</td>\n",
       "      <td>NaN</td>\n",
       "      <td>439.583728</td>\n",
       "      <td>-0.000062</td>\n",
       "      <td>0.000535</td>\n",
       "      <td>-0.000100</td>\n",
       "      <td>0.739665</td>\n",
       "      <td>-0.002159</td>\n",
       "      <td>29.682999</td>\n",
       "      <td>3.454312</td>\n",
       "    </tr>\n",
       "    <tr>\n",
       "      <th>75%</th>\n",
       "      <td>356.000000</td>\n",
       "      <td>0.038860</td>\n",
       "      <td>0.040421</td>\n",
       "      <td>NaN</td>\n",
       "      <td>1775.580784</td>\n",
       "      <td>0.023651</td>\n",
       "      <td>0.024089</td>\n",
       "      <td>0.007864</td>\n",
       "      <td>12.177888</td>\n",
       "      <td>0.287359</td>\n",
       "      <td>49.421213</td>\n",
       "      <td>3.503660</td>\n",
       "    </tr>\n",
       "    <tr>\n",
       "      <th>max</th>\n",
       "      <td>500.000000</td>\n",
       "      <td>1.898162</td>\n",
       "      <td>1.912334</td>\n",
       "      <td>NaN</td>\n",
       "      <td>1776.495326</td>\n",
       "      <td>2.641717</td>\n",
       "      <td>2.840332</td>\n",
       "      <td>4.658103</td>\n",
       "      <td>24.298469</td>\n",
       "      <td>14.658489</td>\n",
       "      <td>213.289180</td>\n",
       "      <td>4.391864</td>\n",
       "    </tr>\n",
       "  </tbody>\n",
       "</table>\n",
       "</div>"
      ],
      "text/plain": [
       "                 id          roll         pitch  yaw       heading  \\\n",
       "count  14365.000000  14365.000000  14365.000000  0.0  14365.000000   \n",
       "mean     195.420814      0.005449      0.025506  NaN    735.734097   \n",
       "std      164.287193      0.434786      0.457408  NaN    699.536821   \n",
       "min        0.000000     -1.895378     -1.931535  NaN      0.000000   \n",
       "25%       60.000000     -0.031026     -0.041849  NaN    416.440885   \n",
       "50%      124.000000      0.001032     -0.000912  NaN    439.583728   \n",
       "75%      356.000000      0.038860      0.040421  NaN   1775.580784   \n",
       "max      500.000000      1.898162      1.912334  NaN   1776.495326   \n",
       "\n",
       "           rollRate     pitchRate       yawRate   groundSpeed     climbRate  \\\n",
       "count  14365.000000  14365.000000  14365.000000  14365.000000  14365.000000   \n",
       "mean      -0.000550      0.005557      0.001593      6.001710     -0.179220   \n",
       "std        0.770115      0.794651      0.084414      7.555147      2.205264   \n",
       "min       -2.660523     -2.954048     -0.675547      0.000929     -6.530260   \n",
       "25%       -0.023051     -0.022239     -0.007898      0.156115     -0.324221   \n",
       "50%       -0.000062      0.000535     -0.000100      0.739665     -0.002159   \n",
       "75%        0.023651      0.024089      0.007864     12.177888      0.287359   \n",
       "max        2.641717      2.840332      4.658103     24.298469     14.658489   \n",
       "\n",
       "       altitudeRelative   throttlePct  \n",
       "count      14365.000000  14365.000000  \n",
       "mean          38.257504      3.387154  \n",
       "std           36.822243      0.491505  \n",
       "min           -6.266885      0.000000  \n",
       "25%           14.393404      3.454232  \n",
       "50%           29.682999      3.454312  \n",
       "75%           49.421213      3.503660  \n",
       "max          213.289180      4.391864  "
      ]
     },
     "execution_count": 14,
     "metadata": {},
     "output_type": "execute_result"
    }
   ],
   "source": [
    "df[df['error']==True].describe()"
   ]
  },
  {
   "cell_type": "code",
   "execution_count": 15,
   "metadata": {
    "colab": {
     "base_uri": "https://localhost:8080/"
    },
    "id": "yDdwkkVDY_j-",
    "outputId": "b5e99b2c-93c5-49ee-e1b2-d7f898d98034",
    "scrolled": true
   },
   "outputs": [
    {
     "name": "stdout",
     "output_type": "stream",
     "text": [
      "Rows: 47382\n",
      "   \n",
      "Columns: 14\n"
     ]
    }
   ],
   "source": [
    "df.pipe(shape)"
   ]
  },
  {
   "cell_type": "code",
   "execution_count": 16,
   "metadata": {
    "colab": {
     "base_uri": "https://localhost:8080/"
    },
    "id": "rMiUA9OnahUU",
    "outputId": "0035f1f2-5252-4c67-c2ee-39800d14b742",
    "scrolled": true
   },
   "outputs": [
    {
     "name": "stdout",
     "output_type": "stream",
     "text": [
      "<class 'pandas.core.frame.DataFrame'>\n",
      "RangeIndex: 47382 entries, 0 to 47381\n",
      "Data columns (total 14 columns):\n",
      " #   Column            Non-Null Count  Dtype  \n",
      "---  ------            --------------  -----  \n",
      " 0   id                47382 non-null  int64  \n",
      " 1   Type              47382 non-null  object \n",
      " 2   error             47382 non-null  bool   \n",
      " 3   roll              47382 non-null  float64\n",
      " 4   pitch             47382 non-null  float64\n",
      " 5   yaw               33017 non-null  float64\n",
      " 6   heading           47382 non-null  float64\n",
      " 7   rollRate          47382 non-null  float64\n",
      " 8   pitchRate         47382 non-null  float64\n",
      " 9   yawRate           47382 non-null  float64\n",
      " 10  groundSpeed       47382 non-null  float64\n",
      " 11  climbRate         47382 non-null  float64\n",
      " 12  altitudeRelative  47382 non-null  float64\n",
      " 13  throttlePct       47382 non-null  float64\n",
      "dtypes: bool(1), float64(11), int64(1), object(1)\n",
      "memory usage: 4.7+ MB\n",
      "None\n"
     ]
    }
   ],
   "source": [
    "df.pipe(info)"
   ]
  },
  {
   "cell_type": "code",
   "execution_count": 17,
   "metadata": {
    "colab": {
     "base_uri": "https://localhost:8080/"
    },
    "id": "QnC-VacjanCt",
    "outputId": "e63f4af6-821d-491c-fcb2-305e53e83765",
    "scrolled": true
   },
   "outputs": [
    {
     "name": "stdout",
     "output_type": "stream",
     "text": [
      "id                      0\n",
      "Type                    0\n",
      "error                   0\n",
      "roll                    0\n",
      "pitch                   0\n",
      "yaw                 14365\n",
      "heading                 0\n",
      "rollRate                0\n",
      "pitchRate               0\n",
      "yawRate                 0\n",
      "groundSpeed             0\n",
      "climbRate               0\n",
      "altitudeRelative        0\n",
      "throttlePct             0\n",
      "dtype: int64\n"
     ]
    }
   ],
   "source": [
    "df.pipe(nulls_qtd)"
   ]
  },
  {
   "cell_type": "code",
   "execution_count": 18,
   "metadata": {},
   "outputs": [
    {
     "data": {
      "text/plain": [
       "156"
      ]
     },
     "execution_count": 18,
     "metadata": {},
     "output_type": "execute_result"
    }
   ],
   "source": [
    "df[df[\"yaw\"].isnull()][\"id\"].nunique()"
   ]
  },
  {
   "cell_type": "code",
   "execution_count": 19,
   "metadata": {},
   "outputs": [],
   "source": [
    "df[\"yaw\"] = df[\"yaw\"].fillna(0)"
   ]
  },
  {
   "cell_type": "code",
   "execution_count": 20,
   "metadata": {
    "colab": {
     "base_uri": "https://localhost:8080/",
     "height": 0
    },
    "id": "A9e4ItPXd10F",
    "outputId": "dbd9ce52-d70b-4560-a961-cf3b67929f79",
    "scrolled": false
   },
   "outputs": [
    {
     "data": {
      "text/plain": [
       "<AxesSubplot:>"
      ]
     },
     "execution_count": 20,
     "metadata": {},
     "output_type": "execute_result"
    },
    {
     "data": {
      "image/png": "[encoded data removed]",
      "text/plain": [
       "<Figure size 2000x1200 with 2 Axes>"
      ]
     },
     "metadata": {},
     "output_type": "display_data"
    }
   ],
   "source": [
    "plt.figure(figsize=(20,12))\n",
    "sns.heatmap(df.drop(['id'], axis=1).corr(), annot=True, cmap='jet')"
   ]
  },
  {
   "cell_type": "markdown",
   "metadata": {
    "id": "9hSPteFylfJ0"
   },
   "source": [
    "# 3- Anomaly Detection (LSTM)"
   ]
  },
  {
   "cell_type": "code",
   "execution_count": 21,
   "metadata": {
    "colab": {
     "base_uri": "https://localhost:8080/",
     "height": 424
    },
    "id": "9L5FpTBic9ic",
    "outputId": "d27ca05c-39eb-472f-9adc-68fb5dca7b99",
    "scrolled": true
   },
   "outputs": [
    {
     "name": "stderr",
     "output_type": "stream",
     "text": [
      "/home/vannini/.local/lib/python3.7/site-packages/pandas/core/indexing.py:1773: SettingWithCopyWarning: \n",
      "A value is trying to be set on a copy of a slice from a DataFrame.\n",
      "Try using .loc[row_indexer,col_indexer] = value instead\n",
      "\n",
      "See the caveats in the documentation: https://pandas.pydata.org/pandas-docs/stable/user_guide/indexing.html#returning-a-view-versus-a-copy\n",
      "  self._setitem_single_column(ilocs[0], value, pi)\n"
     ]
    },
    {
     "data": {
      "text/html": [
       "<div>\n",
       "<style scoped>\n",
       "    .dataframe tbody tr th:only-of-type {\n",
       "        vertical-align: middle;\n",
       "    }\n",
       "\n",
       "    .dataframe tbody tr th {\n",
       "        vertical-align: top;\n",
       "    }\n",
       "\n",
       "    .dataframe thead th {\n",
       "        text-align: right;\n",
       "    }\n",
       "</style>\n",
       "<table border=\"1\" class=\"dataframe\">\n",
       "  <thead>\n",
       "    <tr style=\"text-align: right;\">\n",
       "      <th></th>\n",
       "      <th>roll</th>\n",
       "      <th>pitch</th>\n",
       "      <th>yaw</th>\n",
       "      <th>error</th>\n",
       "    </tr>\n",
       "  </thead>\n",
       "  <tbody>\n",
       "    <tr>\n",
       "      <th>0</th>\n",
       "      <td>0.016010</td>\n",
       "      <td>-0.007265</td>\n",
       "      <td>0.000000</td>\n",
       "      <td>1</td>\n",
       "    </tr>\n",
       "    <tr>\n",
       "      <th>1</th>\n",
       "      <td>0.016027</td>\n",
       "      <td>-0.005862</td>\n",
       "      <td>0.000000</td>\n",
       "      <td>1</td>\n",
       "    </tr>\n",
       "    <tr>\n",
       "      <th>2</th>\n",
       "      <td>0.015220</td>\n",
       "      <td>-0.004188</td>\n",
       "      <td>0.000000</td>\n",
       "      <td>1</td>\n",
       "    </tr>\n",
       "    <tr>\n",
       "      <th>3</th>\n",
       "      <td>0.014331</td>\n",
       "      <td>-0.005217</td>\n",
       "      <td>0.000000</td>\n",
       "      <td>1</td>\n",
       "    </tr>\n",
       "    <tr>\n",
       "      <th>4</th>\n",
       "      <td>-0.115646</td>\n",
       "      <td>-0.202248</td>\n",
       "      <td>0.000000</td>\n",
       "      <td>1</td>\n",
       "    </tr>\n",
       "    <tr>\n",
       "      <th>...</th>\n",
       "      <td>...</td>\n",
       "      <td>...</td>\n",
       "      <td>...</td>\n",
       "      <td>...</td>\n",
       "    </tr>\n",
       "    <tr>\n",
       "      <th>47377</th>\n",
       "      <td>-0.008456</td>\n",
       "      <td>0.008655</td>\n",
       "      <td>1.567685</td>\n",
       "      <td>0</td>\n",
       "    </tr>\n",
       "    <tr>\n",
       "      <th>47378</th>\n",
       "      <td>-0.008456</td>\n",
       "      <td>0.008655</td>\n",
       "      <td>1.567685</td>\n",
       "      <td>0</td>\n",
       "    </tr>\n",
       "    <tr>\n",
       "      <th>47379</th>\n",
       "      <td>-0.008456</td>\n",
       "      <td>0.008655</td>\n",
       "      <td>1.567685</td>\n",
       "      <td>0</td>\n",
       "    </tr>\n",
       "    <tr>\n",
       "      <th>47380</th>\n",
       "      <td>-0.008456</td>\n",
       "      <td>0.008655</td>\n",
       "      <td>1.567685</td>\n",
       "      <td>0</td>\n",
       "    </tr>\n",
       "    <tr>\n",
       "      <th>47381</th>\n",
       "      <td>-0.008456</td>\n",
       "      <td>0.008655</td>\n",
       "      <td>1.567685</td>\n",
       "      <td>0</td>\n",
       "    </tr>\n",
       "  </tbody>\n",
       "</table>\n",
       "<p>47382 rows × 4 columns</p>\n",
       "</div>"
      ],
      "text/plain": [
       "           roll     pitch       yaw  error\n",
       "0      0.016010 -0.007265  0.000000      1\n",
       "1      0.016027 -0.005862  0.000000      1\n",
       "2      0.015220 -0.004188  0.000000      1\n",
       "3      0.014331 -0.005217  0.000000      1\n",
       "4     -0.115646 -0.202248  0.000000      1\n",
       "...         ...       ...       ...    ...\n",
       "47377 -0.008456  0.008655  1.567685      0\n",
       "47378 -0.008456  0.008655  1.567685      0\n",
       "47379 -0.008456  0.008655  1.567685      0\n",
       "47380 -0.008456  0.008655  1.567685      0\n",
       "47381 -0.008456  0.008655  1.567685      0\n",
       "\n",
       "[47382 rows x 4 columns]"
      ]
     },
     "execution_count": 21,
     "metadata": {},
     "output_type": "execute_result"
    }
   ],
   "source": [
    "df_reduced = df.pipe(select_columns, ['roll', 'pitch', 'yaw', 'error'])\n",
    "df_reduced.loc[:,'error'] = df_reduced['error'].astype(int)\n",
    "df_reduced"
   ]
  },
  {
   "cell_type": "code",
   "execution_count": 22,
   "metadata": {
    "colab": {
     "base_uri": "https://localhost:8080/",
     "height": 424
    },
    "id": "tu_VJJLzz-0a",
    "outputId": "56a7e004-037c-479c-d136-aec4d8f56055",
    "scrolled": true
   },
   "outputs": [
    {
     "data": {
      "text/html": [
       "<div>\n",
       "<style scoped>\n",
       "    .dataframe tbody tr th:only-of-type {\n",
       "        vertical-align: middle;\n",
       "    }\n",
       "\n",
       "    .dataframe tbody tr th {\n",
       "        vertical-align: top;\n",
       "    }\n",
       "\n",
       "    .dataframe thead th {\n",
       "        text-align: right;\n",
       "    }\n",
       "</style>\n",
       "<table border=\"1\" class=\"dataframe\">\n",
       "  <thead>\n",
       "    <tr style=\"text-align: right;\">\n",
       "      <th></th>\n",
       "      <th>roll</th>\n",
       "      <th>pitch</th>\n",
       "      <th>yaw</th>\n",
       "      <th>error</th>\n",
       "    </tr>\n",
       "  </thead>\n",
       "  <tbody>\n",
       "    <tr>\n",
       "      <th>0</th>\n",
       "      <td>0.016010</td>\n",
       "      <td>-0.007265</td>\n",
       "      <td>0.000000</td>\n",
       "      <td>1</td>\n",
       "    </tr>\n",
       "    <tr>\n",
       "      <th>1</th>\n",
       "      <td>0.016027</td>\n",
       "      <td>-0.005862</td>\n",
       "      <td>0.000000</td>\n",
       "      <td>1</td>\n",
       "    </tr>\n",
       "    <tr>\n",
       "      <th>2</th>\n",
       "      <td>0.015220</td>\n",
       "      <td>-0.004188</td>\n",
       "      <td>0.000000</td>\n",
       "      <td>1</td>\n",
       "    </tr>\n",
       "    <tr>\n",
       "      <th>3</th>\n",
       "      <td>0.014331</td>\n",
       "      <td>-0.005217</td>\n",
       "      <td>0.000000</td>\n",
       "      <td>1</td>\n",
       "    </tr>\n",
       "    <tr>\n",
       "      <th>4</th>\n",
       "      <td>-0.115646</td>\n",
       "      <td>-0.202248</td>\n",
       "      <td>0.000000</td>\n",
       "      <td>1</td>\n",
       "    </tr>\n",
       "    <tr>\n",
       "      <th>...</th>\n",
       "      <td>...</td>\n",
       "      <td>...</td>\n",
       "      <td>...</td>\n",
       "      <td>...</td>\n",
       "    </tr>\n",
       "    <tr>\n",
       "      <th>47377</th>\n",
       "      <td>-0.008456</td>\n",
       "      <td>0.008655</td>\n",
       "      <td>1.567685</td>\n",
       "      <td>0</td>\n",
       "    </tr>\n",
       "    <tr>\n",
       "      <th>47378</th>\n",
       "      <td>-0.008456</td>\n",
       "      <td>0.008655</td>\n",
       "      <td>1.567685</td>\n",
       "      <td>0</td>\n",
       "    </tr>\n",
       "    <tr>\n",
       "      <th>47379</th>\n",
       "      <td>-0.008456</td>\n",
       "      <td>0.008655</td>\n",
       "      <td>1.567685</td>\n",
       "      <td>0</td>\n",
       "    </tr>\n",
       "    <tr>\n",
       "      <th>47380</th>\n",
       "      <td>-0.008456</td>\n",
       "      <td>0.008655</td>\n",
       "      <td>1.567685</td>\n",
       "      <td>0</td>\n",
       "    </tr>\n",
       "    <tr>\n",
       "      <th>47381</th>\n",
       "      <td>-0.008456</td>\n",
       "      <td>0.008655</td>\n",
       "      <td>1.567685</td>\n",
       "      <td>0</td>\n",
       "    </tr>\n",
       "  </tbody>\n",
       "</table>\n",
       "<p>47382 rows × 4 columns</p>\n",
       "</div>"
      ],
      "text/plain": [
       "           roll     pitch       yaw  error\n",
       "0      0.016010 -0.007265  0.000000      1\n",
       "1      0.016027 -0.005862  0.000000      1\n",
       "2      0.015220 -0.004188  0.000000      1\n",
       "3      0.014331 -0.005217  0.000000      1\n",
       "4     -0.115646 -0.202248  0.000000      1\n",
       "...         ...       ...       ...    ...\n",
       "47377 -0.008456  0.008655  1.567685      0\n",
       "47378 -0.008456  0.008655  1.567685      0\n",
       "47379 -0.008456  0.008655  1.567685      0\n",
       "47380 -0.008456  0.008655  1.567685      0\n",
       "47381 -0.008456  0.008655  1.567685      0\n",
       "\n",
       "[47382 rows x 4 columns]"
      ]
     },
     "execution_count": 22,
     "metadata": {},
     "output_type": "execute_result"
    }
   ],
   "source": [
    "#Preparing the data for LSTM model\n",
    "data_n = df_reduced\n",
    "data_n"
   ]
  },
  {
   "cell_type": "code",
   "execution_count": 23,
   "metadata": {},
   "outputs": [
    {
     "data": {
      "text/html": [
       "<div>\n",
       "<style scoped>\n",
       "    .dataframe tbody tr th:only-of-type {\n",
       "        vertical-align: middle;\n",
       "    }\n",
       "\n",
       "    .dataframe tbody tr th {\n",
       "        vertical-align: top;\n",
       "    }\n",
       "\n",
       "    .dataframe thead th {\n",
       "        text-align: right;\n",
       "    }\n",
       "</style>\n",
       "<table border=\"1\" class=\"dataframe\">\n",
       "  <thead>\n",
       "    <tr style=\"text-align: right;\">\n",
       "      <th></th>\n",
       "      <th>roll</th>\n",
       "      <th>pitch</th>\n",
       "      <th>yaw</th>\n",
       "      <th>error</th>\n",
       "    </tr>\n",
       "  </thead>\n",
       "  <tbody>\n",
       "    <tr>\n",
       "      <th>count</th>\n",
       "      <td>47382.000000</td>\n",
       "      <td>47382.000000</td>\n",
       "      <td>47382.000000</td>\n",
       "      <td>47382.000000</td>\n",
       "    </tr>\n",
       "    <tr>\n",
       "      <th>mean</th>\n",
       "      <td>0.002214</td>\n",
       "      <td>0.009707</td>\n",
       "      <td>0.588744</td>\n",
       "      <td>0.303174</td>\n",
       "    </tr>\n",
       "    <tr>\n",
       "      <th>std</th>\n",
       "      <td>0.239506</td>\n",
       "      <td>0.252191</td>\n",
       "      <td>0.745741</td>\n",
       "      <td>0.459635</td>\n",
       "    </tr>\n",
       "    <tr>\n",
       "      <th>min</th>\n",
       "      <td>-1.895378</td>\n",
       "      <td>-1.931535</td>\n",
       "      <td>-0.061491</td>\n",
       "      <td>0.000000</td>\n",
       "    </tr>\n",
       "    <tr>\n",
       "      <th>25%</th>\n",
       "      <td>-0.006929</td>\n",
       "      <td>-0.006706</td>\n",
       "      <td>0.000000</td>\n",
       "      <td>0.000000</td>\n",
       "    </tr>\n",
       "    <tr>\n",
       "      <th>50%</th>\n",
       "      <td>0.000659</td>\n",
       "      <td>0.002103</td>\n",
       "      <td>0.081677</td>\n",
       "      <td>0.000000</td>\n",
       "    </tr>\n",
       "    <tr>\n",
       "      <th>75%</th>\n",
       "      <td>0.009251</td>\n",
       "      <td>0.012203</td>\n",
       "      <td>1.570055</td>\n",
       "      <td>1.000000</td>\n",
       "    </tr>\n",
       "    <tr>\n",
       "      <th>max</th>\n",
       "      <td>1.898162</td>\n",
       "      <td>1.912334</td>\n",
       "      <td>1.581190</td>\n",
       "      <td>1.000000</td>\n",
       "    </tr>\n",
       "  </tbody>\n",
       "</table>\n",
       "</div>"
      ],
      "text/plain": [
       "               roll         pitch           yaw         error\n",
       "count  47382.000000  47382.000000  47382.000000  47382.000000\n",
       "mean       0.002214      0.009707      0.588744      0.303174\n",
       "std        0.239506      0.252191      0.745741      0.459635\n",
       "min       -1.895378     -1.931535     -0.061491      0.000000\n",
       "25%       -0.006929     -0.006706      0.000000      0.000000\n",
       "50%        0.000659      0.002103      0.081677      0.000000\n",
       "75%        0.009251      0.012203      1.570055      1.000000\n",
       "max        1.898162      1.912334      1.581190      1.000000"
      ]
     },
     "execution_count": 23,
     "metadata": {},
     "output_type": "execute_result"
    }
   ],
   "source": [
    "data_n.describe()"
   ]
  },
  {
   "cell_type": "markdown",
   "metadata": {
    "id": "3DD0qF-YqpQe"
   },
   "source": [
    "# LSTM Model - Pitch/Row/Yaw"
   ]
  },
  {
   "cell_type": "code",
   "execution_count": 24,
   "metadata": {},
   "outputs": [
    {
     "name": "stdout",
     "output_type": "stream",
     "text": [
      "       roll     pitch  yaw\n",
      "0  0.016010 -0.007265  0.0\n",
      "1  0.016027 -0.005862  0.0\n",
      "2  0.015220 -0.004188  0.0\n",
      "3  0.014331 -0.005217  0.0\n",
      "4 -0.115646 -0.202248  0.0\n",
      "\n",
      "\n",
      "\n",
      "0    1\n",
      "1    1\n",
      "2    1\n",
      "3    1\n",
      "4    1\n",
      "Name: error, dtype: int64\n"
     ]
    }
   ],
   "source": [
    "x = data_n.drop(['error'],axis=1)\n",
    "y = data_n.error\n",
    "\n",
    "print(x.head())\n",
    "print('\\n\\n')\n",
    "print(y.head())"
   ]
  },
  {
   "cell_type": "code",
   "execution_count": 25,
   "metadata": {},
   "outputs": [
    {
     "name": "stdout",
     "output_type": "stream",
     "text": [
      "(35536, 3)\n",
      "(35536,)\n",
      "(11846, 3)\n",
      "(11846,)\n"
     ]
    }
   ],
   "source": [
    "# from sklearn.model_selection import train_test_split\n",
    "x_train, x_test, y_train, y_test = train_test_split(x, y, test_size=0.25, random_state=33)\n",
    "\n",
    "print(x_train.shape)\n",
    "print(y_train.shape)\n",
    "print(x_test.shape)\n",
    "print(y_test.shape)"
   ]
  },
  {
   "cell_type": "code",
   "execution_count": 26,
   "metadata": {},
   "outputs": [],
   "source": [
    "# Convert X_train and X_test to NumPy arrays\n",
    "x_train = x_train.values\n",
    "x_test = x_test.values\n",
    "\n",
    "# Reshape your input data\n",
    "x_train = x_train.reshape((x_train.shape[0], x_train.shape[1], 1))\n",
    "x_test = x_test.reshape((x_test.shape[0], x_test.shape[1], 1))\n",
    "\n",
    "# Reshape y_train\n",
    "y_train = np.array(y_train)\n",
    "y_train = np.reshape(y_train, (y_train.shape[0], 1))\n",
    "\n",
    "# Reshape y_test\n",
    "y_test = np.array(y_test)\n",
    "y_test = np.reshape(y_test, (y_test.shape[0], 1))"
   ]
  },
  {
   "cell_type": "code",
   "execution_count": 27,
   "metadata": {
    "colab": {
     "base_uri": "https://localhost:8080/"
    },
    "id": "l3e0989htO0D",
    "outputId": "28b977ea-826d-4ec3-ba07-75fa807ad8b1"
   },
   "outputs": [
    {
     "name": "stdout",
     "output_type": "stream",
     "text": [
      "Train relation: 74.99894474695031% of the data\n",
      "Test relation: 25.00105525304968% of the data\n"
     ]
    }
   ],
   "source": [
    "sz = x_train.shape[0] + x_test.shape[0]\n",
    "\n",
    "print(f'Train relation: {(x_train.shape[0]/sz)*100}% of the data')\n",
    "print(f'Test relation: {(x_test.shape[0]/sz)*100}% of the data')"
   ]
  },
  {
   "cell_type": "code",
   "execution_count": 37,
   "metadata": {},
   "outputs": [],
   "source": [
    "# Define the function to create the LSTM model\n",
    "def create_model(units=360, activation='linear', dropout_rate=0.2, optimizer='rmsprop'):\n",
    "    model = Sequential()\n",
    "    model.add(LSTM(units, return_sequences=False))\n",
    "    model.add(Dropout(dropout_rate))\n",
    "    model.add(Dense(units=1))\n",
    "    model.add(Activation(activation))\n",
    "    model.compile(loss='mse', optimizer=optimizer)\n",
    "    return model"
   ]
  },
  {
   "cell_type": "code",
   "execution_count": 38,
   "metadata": {},
   "outputs": [
    {
     "name": "stderr",
     "output_type": "stream",
     "text": [
      "/home/vannini/.local/lib/python3.7/site-packages/ipykernel_launcher.py:2: DeprecationWarning: KerasRegressor is deprecated, use Sci-Keras (https://github.com/adriangb/scikeras) instead. See https://www.adriangb.com/scikeras/stable/migration.html for help migrating.\n",
      "  \n"
     ]
    }
   ],
   "source": [
    "# Create the KerasRegressor\n",
    "model = KerasRegressor(build_fn=create_model, verbose=0)\n",
    "\n",
    "# Define the hyperparameters grid\n",
    "param_grid = {\n",
    "    'units': [200, 300, 400],\n",
    "    'activation': ['linear', 'relu'],\n",
    "    'dropout_rate': [0.2, 0.5],\n",
    "    'optimizer': ['rmsprop', 'adam']\n",
    "}\n"
   ]
  },
  {
   "cell_type": "code",
   "execution_count": 42,
   "metadata": {},
   "outputs": [
    {
     "name": "stderr",
     "output_type": "stream",
     "text": [
      "2023-07-06 12:24:55.903754: W tensorflow/compiler/xla/stream_executor/platform/default/dso_loader.cc:64] Could not load dynamic library 'libcuda.so.1'; dlerror: libcuda.so.1: cannot open shared object file: No such file or directory; LD_LIBRARY_PATH: /opt/ros/melodic/lib\n",
      "2023-07-06 12:24:55.904768: W tensorflow/compiler/xla/stream_executor/cuda/cuda_driver.cc:265] failed call to cuInit: UNKNOWN ERROR (303)\n",
      "2023-07-06 12:24:55.905108: I tensorflow/compiler/xla/stream_executor/cuda/cuda_diagnostics.cc:156] kernel driver does not appear to be running on this host (shire): /proc/driver/nvidia/version does not exist\n",
      "2023-07-06 12:24:55.907584: I tensorflow/core/platform/cpu_feature_guard.cc:193] This TensorFlow binary is optimized with oneAPI Deep Neural Network Library (oneDNN) to use the following CPU instructions in performance-critical operations:  AVX2 FMA\n",
      "To enable them in other operations, rebuild TensorFlow with the appropriate compiler flags.\n",
      "23/07/06 12:46:06 WARN NettyRpcEnv: Ignored failure: java.util.concurrent.TimeoutException: Cannot receive any reply from 192.168.1.126:42837 in 10000 milliseconds\n"
     ]
    },
    {
     "name": "stdout",
     "output_type": "stream",
     "text": [
      "Grid search time : 1535.4611837863922\n",
      "Best parameters: {'activation': 'relu', 'dropout_rate': 0.2, 'optimizer': 'adam', 'units': 400}\n",
      "Best score: -0.12001642336448033\n"
     ]
    }
   ],
   "source": [
    "# Perform grid search with cross-validation\n",
    "cv = TimeSeriesSplit(n_splits=3)  # Adjust the number of splits as needed\n",
    "grid_search = GridSearchCV(estimator=model, param_grid=param_grid, cv=cv)\n",
    "start = time.time()\n",
    "grid_result = grid_search.fit(x_train, y_train)\n",
    "print('Grid search time : {}'.format(time.time() - start))\n",
    "\n",
    "# Print the best parameters and score\n",
    "print('Best parameters: {}'.format(grid_result.best_params_))\n",
    "print('Best score: {}'.format(grid_result.best_score_))"
   ]
  },
  {
   "cell_type": "code",
   "execution_count": 28,
   "metadata": {
    "colab": {
     "base_uri": "https://localhost:8080/"
    },
    "id": "ehcrE5Ee0paC",
    "outputId": "5ae66ce0-5081-47e3-ef27-4c40eacf5a54"
   },
   "outputs": [
    {
     "name": "stdout",
     "output_type": "stream",
     "text": [
      "compilation time : 0.02552199363708496\n"
     ]
    },
    {
     "name": "stderr",
     "output_type": "stream",
     "text": [
      "2023-07-06 12:55:05.447266: W tensorflow/compiler/xla/stream_executor/platform/default/dso_loader.cc:64] Could not load dynamic library 'libcuda.so.1'; dlerror: libcuda.so.1: cannot open shared object file: No such file or directory; LD_LIBRARY_PATH: /opt/ros/melodic/lib\n",
      "2023-07-06 12:55:05.447725: W tensorflow/compiler/xla/stream_executor/cuda/cuda_driver.cc:265] failed call to cuInit: UNKNOWN ERROR (303)\n",
      "2023-07-06 12:55:05.447830: I tensorflow/compiler/xla/stream_executor/cuda/cuda_diagnostics.cc:156] kernel driver does not appear to be running on this host (shire): /proc/driver/nvidia/version does not exist\n",
      "2023-07-06 12:55:05.448547: I tensorflow/core/platform/cpu_feature_guard.cc:193] This TensorFlow binary is optimized with oneAPI Deep Neural Network Library (oneDNN) to use the following CPU instructions in performance-critical operations:  AVX2 FMA\n",
      "To enable them in other operations, rebuild TensorFlow with the appropriate compiler flags.\n"
     ]
    }
   ],
   "source": [
    "#Building the model\n",
    "model = Sequential()\n",
    "\n",
    "\n",
    "model.add(LSTM(400, return_sequences=False))\n",
    "model.add(Dropout(0.2))\n",
    "\n",
    "model.add(Dense(units=1))\n",
    "model.add(Activation('relu'))\n",
    "\n",
    "start = time.time()\n",
    "model.compile(loss='mse', optimizer='adam')\n",
    "print('compilation time : {}'.format(time.time() - start))"
   ]
  },
  {
   "cell_type": "code",
   "execution_count": 29,
   "metadata": {
    "colab": {
     "base_uri": "https://localhost:8080/"
    },
    "id": "jnl3X4OLzEt5",
    "outputId": "276b8b7e-60ce-4503-8b58-a6c795c449a6",
    "scrolled": false
   },
   "outputs": [
    {
     "name": "stdout",
     "output_type": "stream",
     "text": [
      "Epoch 1/30\n",
      "534/534 [==============================] - 22s 35ms/step - loss: 0.1385 - val_loss: 0.1100\n",
      "Epoch 2/30\n",
      "534/534 [==============================] - 18s 33ms/step - loss: 0.1018 - val_loss: 0.0849\n",
      "Epoch 3/30\n",
      "534/534 [==============================] - 18s 35ms/step - loss: 0.0741 - val_loss: 0.0499\n",
      "Epoch 4/30\n",
      "534/534 [==============================] - 19s 35ms/step - loss: 0.0473 - val_loss: 0.0328\n",
      "Epoch 5/30\n",
      "534/534 [==============================] - 19s 35ms/step - loss: 0.0383 - val_loss: 0.0276\n",
      "Epoch 6/30\n",
      "534/534 [==============================] - 18s 34ms/step - loss: 0.0346 - val_loss: 0.0257\n",
      "Epoch 7/30\n",
      "534/534 [==============================] - 19s 35ms/step - loss: 0.0320 - val_loss: 0.0300\n",
      "Epoch 8/30\n",
      "534/534 [==============================] - 19s 36ms/step - loss: 0.0312 - val_loss: 0.0252\n",
      "Epoch 9/30\n",
      "534/534 [==============================] - 19s 35ms/step - loss: 0.0289 - val_loss: 0.0224\n",
      "Epoch 10/30\n",
      "534/534 [==============================] - 19s 35ms/step - loss: 0.0280 - val_loss: 0.0212\n",
      "Epoch 11/30\n",
      "534/534 [==============================] - 20s 37ms/step - loss: 0.0259 - val_loss: 0.0216\n",
      "Epoch 12/30\n",
      "534/534 [==============================] - 19s 36ms/step - loss: 0.0245 - val_loss: 0.0181\n",
      "Epoch 13/30\n",
      "534/534 [==============================] - 19s 36ms/step - loss: 0.0229 - val_loss: 0.0220\n",
      "Epoch 14/30\n",
      "534/534 [==============================] - 19s 35ms/step - loss: 0.0214 - val_loss: 0.0160\n",
      "Epoch 15/30\n",
      "534/534 [==============================] - 20s 37ms/step - loss: 0.0199 - val_loss: 0.0161\n",
      "Epoch 16/30\n",
      "534/534 [==============================] - 19s 36ms/step - loss: 0.0193 - val_loss: 0.0182\n",
      "Epoch 17/30\n",
      "534/534 [==============================] - 19s 36ms/step - loss: 0.0188 - val_loss: 0.0145\n",
      "Epoch 18/30\n",
      "534/534 [==============================] - 19s 35ms/step - loss: 0.0175 - val_loss: 0.0152\n",
      "Epoch 19/30\n",
      "534/534 [==============================] - 19s 35ms/step - loss: 0.0172 - val_loss: 0.0138\n",
      "Epoch 20/30\n",
      "534/534 [==============================] - 19s 35ms/step - loss: 0.0168 - val_loss: 0.0129\n",
      "Epoch 21/30\n",
      "534/534 [==============================] - 19s 36ms/step - loss: 0.0159 - val_loss: 0.0134\n",
      "Epoch 22/30\n",
      "534/534 [==============================] - 19s 35ms/step - loss: 0.0161 - val_loss: 0.0114\n",
      "Epoch 23/30\n",
      "534/534 [==============================] - 18s 35ms/step - loss: 0.0160 - val_loss: 0.0132\n",
      "Epoch 24/30\n",
      "534/534 [==============================] - 21s 39ms/step - loss: 0.0151 - val_loss: 0.0121\n",
      "Epoch 25/30\n",
      "534/534 [==============================] - 18s 35ms/step - loss: 0.0149 - val_loss: 0.0131\n",
      "Epoch 26/30\n",
      "534/534 [==============================] - 18s 34ms/step - loss: 0.0145 - val_loss: 0.0127\n",
      "Epoch 27/30\n",
      "534/534 [==============================] - 20s 38ms/step - loss: 0.0139 - val_loss: 0.0113\n",
      "Epoch 28/30\n",
      "534/534 [==============================] - 20s 37ms/step - loss: 0.0139 - val_loss: 0.0118\n",
      "Epoch 29/30\n",
      "534/534 [==============================] - 20s 37ms/step - loss: 0.0140 - val_loss: 0.0088\n",
      "Epoch 30/30\n",
      "534/534 [==============================] - 19s 36ms/step - loss: 0.0136 - val_loss: 0.0130\n"
     ]
    },
    {
     "data": {
      "text/plain": [
       "<keras.callbacks.History at 0x7f56d2528210>"
      ]
     },
     "execution_count": 29,
     "metadata": {},
     "output_type": "execute_result"
    }
   ],
   "source": [
    "model.fit(x_train, y_train, batch_size=60, epochs=30, validation_split=0.1)"
   ]
  },
  {
   "cell_type": "code",
   "execution_count": 30,
   "metadata": {
    "colab": {
     "base_uri": "https://localhost:8080/",
     "height": 351
    },
    "id": "irVEhC7cot2h",
    "outputId": "447bd285-2c2d-447d-f73d-1a56aacb0cb0",
    "scrolled": false
   },
   "outputs": [
    {
     "data": {
      "text/plain": [
       "<matplotlib.legend.Legend at 0x7f56d1551750>"
      ]
     },
     "execution_count": 30,
     "metadata": {},
     "output_type": "execute_result"
    },
    {
     "data": {
      "image/png": "[encoded data removed]",
      "text/plain": [
       "<Figure size 1000x500 with 1 Axes>"
      ]
     },
     "metadata": {},
     "output_type": "display_data"
    }
   ],
   "source": [
    "#Visualizing training and validaton loss\n",
    "plt.figure(figsize = (10, 5))\n",
    "plt.plot(model.history.history['loss'], label = 'Loss')\n",
    "plt.plot(model.history.history['val_loss'], label = 'Val_Loss')\n",
    "plt.xlabel('Epochs')\n",
    "plt.ylabel('Loss')\n",
    "plt.grid()\n",
    "plt.legend()"
   ]
  },
  {
   "cell_type": "code",
   "execution_count": 31,
   "metadata": {},
   "outputs": [
    {
     "name": "stdout",
     "output_type": "stream",
     "text": [
      "371/371 [==============================] - 4s 9ms/step\n"
     ]
    }
   ],
   "source": [
    "y_pred = model.predict(x_test)"
   ]
  },
  {
   "cell_type": "code",
   "execution_count": 32,
   "metadata": {},
   "outputs": [
    {
     "data": {
      "text/plain": [
       "array([[0.],\n",
       "       [0.],\n",
       "       [0.],\n",
       "       ...,\n",
       "       [0.],\n",
       "       [0.],\n",
       "       [0.]], dtype=float32)"
      ]
     },
     "execution_count": 32,
     "metadata": {},
     "output_type": "execute_result"
    }
   ],
   "source": [
    "y_pred"
   ]
  },
  {
   "cell_type": "code",
   "execution_count": 33,
   "metadata": {},
   "outputs": [],
   "source": [
    "threshold = 0\n",
    "softmax_pred = np.where(y_pred[:, 0] >= threshold, 1, 0)"
   ]
  },
  {
   "cell_type": "code",
   "execution_count": 34,
   "metadata": {},
   "outputs": [],
   "source": [
    "softmax_test = np.where(y_test[:, 0] >= threshold, 1, 0)"
   ]
  },
  {
   "cell_type": "code",
   "execution_count": 35,
   "metadata": {},
   "outputs": [
    {
     "data": {
      "text/html": [
       "<div>\n",
       "<style scoped>\n",
       "    .dataframe tbody tr th:only-of-type {\n",
       "        vertical-align: middle;\n",
       "    }\n",
       "\n",
       "    .dataframe tbody tr th {\n",
       "        vertical-align: top;\n",
       "    }\n",
       "\n",
       "    .dataframe thead th {\n",
       "        text-align: right;\n",
       "    }\n",
       "</style>\n",
       "<table border=\"1\" class=\"dataframe\">\n",
       "  <thead>\n",
       "    <tr style=\"text-align: right;\">\n",
       "      <th></th>\n",
       "      <th>error</th>\n",
       "      <th>count</th>\n",
       "    </tr>\n",
       "  </thead>\n",
       "  <tbody>\n",
       "    <tr>\n",
       "      <th>0</th>\n",
       "      <td>0</td>\n",
       "      <td>33017</td>\n",
       "    </tr>\n",
       "    <tr>\n",
       "      <th>1</th>\n",
       "      <td>1</td>\n",
       "      <td>14365</td>\n",
       "    </tr>\n",
       "  </tbody>\n",
       "</table>\n",
       "</div>"
      ],
      "text/plain": [
       "   error  count\n",
       "0      0  33017\n",
       "1      1  14365"
      ]
     },
     "execution_count": 35,
     "metadata": {},
     "output_type": "execute_result"
    }
   ],
   "source": [
    "data_n.groupby('error').size().reset_index(name='count')"
   ]
  },
  {
   "cell_type": "code",
   "execution_count": 36,
   "metadata": {},
   "outputs": [
    {
     "data": {
      "text/html": [
       "<div>\n",
       "<style scoped>\n",
       "    .dataframe tbody tr th:only-of-type {\n",
       "        vertical-align: middle;\n",
       "    }\n",
       "\n",
       "    .dataframe tbody tr th {\n",
       "        vertical-align: top;\n",
       "    }\n",
       "\n",
       "    .dataframe thead th {\n",
       "        text-align: right;\n",
       "    }\n",
       "</style>\n",
       "<table border=\"1\" class=\"dataframe\">\n",
       "  <thead>\n",
       "    <tr style=\"text-align: right;\">\n",
       "      <th></th>\n",
       "      <th>error</th>\n",
       "      <th>count</th>\n",
       "    </tr>\n",
       "  </thead>\n",
       "  <tbody>\n",
       "    <tr>\n",
       "      <th>0</th>\n",
       "      <td>False</td>\n",
       "      <td>33017</td>\n",
       "    </tr>\n",
       "    <tr>\n",
       "      <th>1</th>\n",
       "      <td>True</td>\n",
       "      <td>14365</td>\n",
       "    </tr>\n",
       "  </tbody>\n",
       "</table>\n",
       "</div>"
      ],
      "text/plain": [
       "   error  count\n",
       "0  False  33017\n",
       "1   True  14365"
      ]
     },
     "execution_count": 36,
     "metadata": {},
     "output_type": "execute_result"
    }
   ],
   "source": [
    "df.groupby('error').size().reset_index(name='count')"
   ]
  },
  {
   "cell_type": "code",
   "execution_count": 37,
   "metadata": {},
   "outputs": [
    {
     "data": {
      "image/png": "[encoded data removed]",
      "text/plain": [
       "<Figure size 1000x600 with 1 Axes>"
      ]
     },
     "metadata": {},
     "output_type": "display_data"
    }
   ],
   "source": [
    "# Plotting the comparison\n",
    "plt.figure(figsize=(10, 6))\n",
    "plt.plot(softmax_pred[500:600], label='Predit')\n",
    "plt.plot(softmax_test[500:600], label='Actual')\n",
    "# plt.plot(y_test[500:600], label='Actual')\n",
    "# plt.plot(y_pred[500:600], label='Predicted')\n",
    "plt.xlabel('id')\n",
    "plt.ylabel('Value')\n",
    "plt.title('Comparison of Actual and Predicted Values (LSTM)')\n",
    "plt.legend()\n",
    "plt.show()"
   ]
  },
  {
   "cell_type": "code",
   "execution_count": 38,
   "metadata": {},
   "outputs": [
    {
     "data": {
      "image/png": "[encoded data removed]",
      "text/plain": [
       "<Figure size 1000x600 with 1 Axes>"
      ]
     },
     "metadata": {},
     "output_type": "display_data"
    }
   ],
   "source": [
    "# Calculate the difference between predicted and actual values\n",
    "difference = softmax_test - softmax_pred\n",
    "\n",
    "# Plotting the difference as a scatter plot\n",
    "plt.figure(figsize=(10, 6))\n",
    "plt.scatter(range(len(difference)), difference)\n",
    "plt.axhline(y=0, color='r', linestyle='--')  # Add a horizontal line at y=0\n",
    "plt.xlabel('Index')\n",
    "plt.ylabel('Difference')\n",
    "plt.title('Difference between Predicted and Actual Values (LSTM)')\n",
    "plt.show()"
   ]
  },
  {
   "cell_type": "code",
   "execution_count": 39,
   "metadata": {},
   "outputs": [
    {
     "data": {
      "text/plain": [
       "0.0"
      ]
     },
     "execution_count": 39,
     "metadata": {},
     "output_type": "execute_result"
    }
   ],
   "source": [
    "np.sum(np.abs(difference))/len(difference)*100"
   ]
  },
  {
   "cell_type": "code",
   "execution_count": 40,
   "metadata": {},
   "outputs": [],
   "source": [
    "# ser'a q os erros estao muito suaves? ou muito absurdos?\n",
    "## procurar base na internet com erro de pitch, roll e yaw"
   ]
  },
  {
   "cell_type": "code",
   "execution_count": 41,
   "metadata": {},
   "outputs": [
    {
     "data": {
      "text/plain": [
       "11846"
      ]
     },
     "execution_count": 41,
     "metadata": {},
     "output_type": "execute_result"
    }
   ],
   "source": [
    "len(difference)"
   ]
  },
  {
   "cell_type": "code",
   "execution_count": 42,
   "metadata": {
    "colab": {
     "base_uri": "https://localhost:8080/",
     "height": 206
    },
    "id": "Vc5AtlyYzFqB",
    "outputId": "f1e59813-a002-4000-835a-fd57accd30e4"
   },
   "outputs": [
    {
     "data": {
      "text/html": [
       "<div>\n",
       "<style scoped>\n",
       "    .dataframe tbody tr th:only-of-type {\n",
       "        vertical-align: middle;\n",
       "    }\n",
       "\n",
       "    .dataframe tbody tr th {\n",
       "        vertical-align: top;\n",
       "    }\n",
       "\n",
       "    .dataframe thead th {\n",
       "        text-align: right;\n",
       "    }\n",
       "</style>\n",
       "<table border=\"1\" class=\"dataframe\">\n",
       "  <thead>\n",
       "    <tr style=\"text-align: right;\">\n",
       "      <th></th>\n",
       "      <th>id</th>\n",
       "      <th>Type</th>\n",
       "      <th>roll</th>\n",
       "      <th>pitch</th>\n",
       "      <th>yaw</th>\n",
       "      <th>heading</th>\n",
       "      <th>rollRate</th>\n",
       "      <th>pitchRate</th>\n",
       "      <th>yawRate</th>\n",
       "      <th>groundSpeed</th>\n",
       "      <th>climbRate</th>\n",
       "      <th>altitudeRelative</th>\n",
       "      <th>throttlePct</th>\n",
       "    </tr>\n",
       "    <tr>\n",
       "      <th>error</th>\n",
       "      <th></th>\n",
       "      <th></th>\n",
       "      <th></th>\n",
       "      <th></th>\n",
       "      <th></th>\n",
       "      <th></th>\n",
       "      <th></th>\n",
       "      <th></th>\n",
       "      <th></th>\n",
       "      <th></th>\n",
       "      <th></th>\n",
       "      <th></th>\n",
       "      <th></th>\n",
       "    </tr>\n",
       "  </thead>\n",
       "  <tbody>\n",
       "    <tr>\n",
       "      <th>False</th>\n",
       "      <td>33017</td>\n",
       "      <td>33017</td>\n",
       "      <td>33017</td>\n",
       "      <td>33017</td>\n",
       "      <td>33017</td>\n",
       "      <td>33017</td>\n",
       "      <td>33017</td>\n",
       "      <td>33017</td>\n",
       "      <td>33017</td>\n",
       "      <td>33017</td>\n",
       "      <td>33017</td>\n",
       "      <td>33017</td>\n",
       "      <td>33017</td>\n",
       "    </tr>\n",
       "    <tr>\n",
       "      <th>True</th>\n",
       "      <td>14365</td>\n",
       "      <td>14365</td>\n",
       "      <td>14365</td>\n",
       "      <td>14365</td>\n",
       "      <td>14365</td>\n",
       "      <td>14365</td>\n",
       "      <td>14365</td>\n",
       "      <td>14365</td>\n",
       "      <td>14365</td>\n",
       "      <td>14365</td>\n",
       "      <td>14365</td>\n",
       "      <td>14365</td>\n",
       "      <td>14365</td>\n",
       "    </tr>\n",
       "  </tbody>\n",
       "</table>\n",
       "</div>"
      ],
      "text/plain": [
       "          id   Type   roll  pitch    yaw  heading  rollRate  pitchRate  \\\n",
       "error                                                                    \n",
       "False  33017  33017  33017  33017  33017    33017     33017      33017   \n",
       "True   14365  14365  14365  14365  14365    14365     14365      14365   \n",
       "\n",
       "       yawRate  groundSpeed  climbRate  altitudeRelative  throttlePct  \n",
       "error                                                                  \n",
       "False    33017        33017      33017             33017        33017  \n",
       "True     14365        14365      14365             14365        14365  "
      ]
     },
     "execution_count": 42,
     "metadata": {},
     "output_type": "execute_result"
    }
   ],
   "source": [
    "df.groupby('error').count()"
   ]
  },
  {
   "cell_type": "markdown",
   "metadata": {
    "id": "Zxsv1c2CrFz9"
   },
   "source": [
    "> Exporting Model"
   ]
  },
  {
   "cell_type": "code",
   "execution_count": 12,
   "metadata": {},
   "outputs": [],
   "source": [
    "filename = \"LSTM_PYR_NS.joblib\""
   ]
  },
  {
   "cell_type": "code",
   "execution_count": 44,
   "metadata": {
    "colab": {
     "base_uri": "https://localhost:8080/"
    },
    "id": "S2dLUD-DrKbe",
    "outputId": "397ac1c7-a97b-4dea-9da7-7bd221331eaf",
    "scrolled": true
   },
   "outputs": [
    {
     "name": "stdout",
     "output_type": "stream",
     "text": [
      "Keras weights file (<HDF5 file \"variables.h5\" (mode r+)>) saving:\n",
      "...layers\n",
      "......activation\n",
      ".........vars\n",
      "......dense\n",
      ".........vars\n",
      "............0\n",
      "............1\n",
      "......dropout\n",
      ".........vars\n",
      "......lstm\n",
      ".........cell\n",
      "............vars\n",
      "...............0\n",
      "...............1\n",
      "...............2\n",
      ".........vars\n",
      "...metrics\n",
      "......mean\n",
      ".........vars\n",
      "............0\n",
      "............1\n",
      "...optimizer\n",
      "......vars\n",
      ".........0\n",
      ".........1\n",
      ".........10\n",
      ".........2\n",
      ".........3\n",
      ".........4\n",
      ".........5\n",
      ".........6\n",
      ".........7\n",
      ".........8\n",
      ".........9\n",
      "...vars\n",
      "Keras model archive saving:\n",
      "File Name                                             Modified             Size\n",
      "config.json                                    2023-07-06 13:06:25         2021\n",
      "metadata.json                                  2023-07-06 13:06:25           64\n",
      "variables.h5                                   2023-07-06 13:06:25      7746584\n"
     ]
    },
    {
     "data": {
      "text/plain": [
       "['LSTM_PYR_NS.joblib']"
      ]
     },
     "execution_count": 44,
     "metadata": {},
     "output_type": "execute_result"
    }
   ],
   "source": [
    "joblib.dump(model, filename)"
   ]
  },
  {
   "cell_type": "code",
   "execution_count": 13,
   "metadata": {
    "colab": {
     "base_uri": "https://localhost:8080/"
    },
    "id": "ntbfRiZqrlyG",
    "outputId": "84965cd4-e335-4c8b-c509-28051bb18453",
    "scrolled": true
   },
   "outputs": [
    {
     "name": "stdout",
     "output_type": "stream",
     "text": [
      "Keras model archive loading:\n",
      "File Name                                             Modified             Size\n",
      "config.json                                    2023-07-06 13:06:24         2021\n",
      "metadata.json                                  2023-07-06 13:06:24           64\n",
      "variables.h5                                   2023-07-06 13:06:24      7746584\n"
     ]
    },
    {
     "name": "stderr",
     "output_type": "stream",
     "text": [
      "2023-07-06 13:14:05.385634: W tensorflow/compiler/xla/stream_executor/platform/default/dso_loader.cc:64] Could not load dynamic library 'libcuda.so.1'; dlerror: libcuda.so.1: cannot open shared object file: No such file or directory; LD_LIBRARY_PATH: /opt/ros/melodic/lib\n",
      "2023-07-06 13:14:05.385907: W tensorflow/compiler/xla/stream_executor/cuda/cuda_driver.cc:265] failed call to cuInit: UNKNOWN ERROR (303)\n",
      "2023-07-06 13:14:05.385980: I tensorflow/compiler/xla/stream_executor/cuda/cuda_diagnostics.cc:156] kernel driver does not appear to be running on this host (shire): /proc/driver/nvidia/version does not exist\n",
      "2023-07-06 13:14:05.386725: I tensorflow/core/platform/cpu_feature_guard.cc:193] This TensorFlow binary is optimized with oneAPI Deep Neural Network Library (oneDNN) to use the following CPU instructions in performance-critical operations:  AVX2 FMA\n",
      "To enable them in other operations, rebuild TensorFlow with the appropriate compiler flags.\n"
     ]
    },
    {
     "name": "stdout",
     "output_type": "stream",
     "text": [
      "Keras weights file (<HDF5 file \"variables.h5\" (mode r)>) loading:\n",
      "...layers\n",
      "......activation\n",
      ".........vars\n",
      "......dense\n",
      ".........vars\n",
      "............0\n",
      "............1\n",
      "......dropout\n",
      ".........vars\n",
      "......lstm\n",
      ".........cell\n",
      "............vars\n",
      "...............0\n",
      "...............1\n",
      "...............2\n",
      ".........vars\n",
      "...metrics\n",
      "......mean\n",
      ".........vars\n",
      "............0\n",
      "............1\n",
      "...optimizer\n",
      "......vars\n",
      ".........0\n",
      ".........1\n",
      ".........10\n",
      ".........2\n",
      ".........3\n",
      ".........4\n",
      ".........5\n",
      ".........6\n",
      ".........7\n",
      ".........8\n",
      ".........9\n",
      "...vars\n"
     ]
    }
   ],
   "source": [
    "loaded_LSTM = joblib.load(filename)"
   ]
  },
  {
   "cell_type": "code",
   "execution_count": 14,
   "metadata": {},
   "outputs": [],
   "source": [
    "# Specify the file path\n",
    "file_path = 'teste.csv'\n",
    "\n",
    "# Read the CSV file into a DataFrame\n",
    "df_teste = pd.read_csv(file_path)"
   ]
  },
  {
   "cell_type": "code",
   "execution_count": 53,
   "metadata": {},
   "outputs": [
    {
     "data": {
      "text/html": [
       "<div>\n",
       "<style scoped>\n",
       "    .dataframe tbody tr th:only-of-type {\n",
       "        vertical-align: middle;\n",
       "    }\n",
       "\n",
       "    .dataframe tbody tr th {\n",
       "        vertical-align: top;\n",
       "    }\n",
       "\n",
       "    .dataframe thead th {\n",
       "        text-align: right;\n",
       "    }\n",
       "</style>\n",
       "<table border=\"1\" class=\"dataframe\">\n",
       "  <thead>\n",
       "    <tr style=\"text-align: right;\">\n",
       "      <th></th>\n",
       "      <th>timestamp</th>\n",
       "      <th>VFR_HUD.heading</th>\n",
       "      <th>VFR_HUD.alt</th>\n",
       "      <th>VFR_HUD.climb</th>\n",
       "      <th>VIBRATION.vibration_x</th>\n",
       "      <th>VIBRATION.vibration_y</th>\n",
       "      <th>VIBRATION.vibration_z</th>\n",
       "      <th>SCALED_IMU2.xacc</th>\n",
       "      <th>SCALED_IMU2.xgyro</th>\n",
       "      <th>SCALED_IMU2.yacc</th>\n",
       "      <th>...</th>\n",
       "      <th>SCALED_IMU2.zacc</th>\n",
       "      <th>SCALED_IMU2.zgyro</th>\n",
       "      <th>ATTITUDE.roll</th>\n",
       "      <th>ATTITUDE.rollspeed</th>\n",
       "      <th>ATTITUDE.pitch</th>\n",
       "      <th>ATTITUDE.pitchspeed</th>\n",
       "      <th>ATTITUDE.yaw</th>\n",
       "      <th>ATTITUDE.yawspeed</th>\n",
       "      <th>SCALED_PRESSURE2.temperature</th>\n",
       "      <th>pitch</th>\n",
       "    </tr>\n",
       "  </thead>\n",
       "  <tbody>\n",
       "    <tr>\n",
       "      <th>0</th>\n",
       "      <td>1.604966e+09</td>\n",
       "      <td>91</td>\n",
       "      <td>847.243042</td>\n",
       "      <td>0.000695</td>\n",
       "      <td>NaN</td>\n",
       "      <td>NaN</td>\n",
       "      <td>NaN</td>\n",
       "      <td>NaN</td>\n",
       "      <td>NaN</td>\n",
       "      <td>NaN</td>\n",
       "      <td>...</td>\n",
       "      <td>NaN</td>\n",
       "      <td>NaN</td>\n",
       "      <td>NaN</td>\n",
       "      <td>NaN</td>\n",
       "      <td>NaN</td>\n",
       "      <td>NaN</td>\n",
       "      <td>NaN</td>\n",
       "      <td>NaN</td>\n",
       "      <td>NaN</td>\n",
       "      <td>NaN</td>\n",
       "    </tr>\n",
       "    <tr>\n",
       "      <th>1</th>\n",
       "      <td>1.604966e+09</td>\n",
       "      <td>91</td>\n",
       "      <td>847.243042</td>\n",
       "      <td>0.000695</td>\n",
       "      <td>NaN</td>\n",
       "      <td>NaN</td>\n",
       "      <td>NaN</td>\n",
       "      <td>NaN</td>\n",
       "      <td>NaN</td>\n",
       "      <td>NaN</td>\n",
       "      <td>...</td>\n",
       "      <td>NaN</td>\n",
       "      <td>NaN</td>\n",
       "      <td>-0.020361</td>\n",
       "      <td>-0.000476</td>\n",
       "      <td>-0.022227</td>\n",
       "      <td>-0.006448</td>\n",
       "      <td>1.597643</td>\n",
       "      <td>0.001060</td>\n",
       "      <td>NaN</td>\n",
       "      <td>-0.022227</td>\n",
       "    </tr>\n",
       "    <tr>\n",
       "      <th>2</th>\n",
       "      <td>1.604966e+09</td>\n",
       "      <td>91</td>\n",
       "      <td>847.243042</td>\n",
       "      <td>0.000695</td>\n",
       "      <td>NaN</td>\n",
       "      <td>NaN</td>\n",
       "      <td>NaN</td>\n",
       "      <td>NaN</td>\n",
       "      <td>NaN</td>\n",
       "      <td>NaN</td>\n",
       "      <td>...</td>\n",
       "      <td>NaN</td>\n",
       "      <td>NaN</td>\n",
       "      <td>-0.020333</td>\n",
       "      <td>-0.000007</td>\n",
       "      <td>-0.022361</td>\n",
       "      <td>-0.006607</td>\n",
       "      <td>1.599064</td>\n",
       "      <td>0.000614</td>\n",
       "      <td>NaN</td>\n",
       "      <td>-0.022361</td>\n",
       "    </tr>\n",
       "    <tr>\n",
       "      <th>3</th>\n",
       "      <td>1.604966e+09</td>\n",
       "      <td>91</td>\n",
       "      <td>847.243042</td>\n",
       "      <td>0.000695</td>\n",
       "      <td>NaN</td>\n",
       "      <td>NaN</td>\n",
       "      <td>NaN</td>\n",
       "      <td>NaN</td>\n",
       "      <td>NaN</td>\n",
       "      <td>NaN</td>\n",
       "      <td>...</td>\n",
       "      <td>NaN</td>\n",
       "      <td>NaN</td>\n",
       "      <td>-0.020357</td>\n",
       "      <td>-0.000106</td>\n",
       "      <td>-0.022480</td>\n",
       "      <td>-0.006052</td>\n",
       "      <td>1.599038</td>\n",
       "      <td>0.000646</td>\n",
       "      <td>NaN</td>\n",
       "      <td>-0.022480</td>\n",
       "    </tr>\n",
       "    <tr>\n",
       "      <th>4</th>\n",
       "      <td>1.604966e+09</td>\n",
       "      <td>91</td>\n",
       "      <td>847.243042</td>\n",
       "      <td>0.000695</td>\n",
       "      <td>NaN</td>\n",
       "      <td>NaN</td>\n",
       "      <td>NaN</td>\n",
       "      <td>NaN</td>\n",
       "      <td>NaN</td>\n",
       "      <td>NaN</td>\n",
       "      <td>...</td>\n",
       "      <td>NaN</td>\n",
       "      <td>NaN</td>\n",
       "      <td>-0.020398</td>\n",
       "      <td>-0.000786</td>\n",
       "      <td>-0.022651</td>\n",
       "      <td>-0.006069</td>\n",
       "      <td>1.598832</td>\n",
       "      <td>0.000200</td>\n",
       "      <td>NaN</td>\n",
       "      <td>-0.022651</td>\n",
       "    </tr>\n",
       "    <tr>\n",
       "      <th>...</th>\n",
       "      <td>...</td>\n",
       "      <td>...</td>\n",
       "      <td>...</td>\n",
       "      <td>...</td>\n",
       "      <td>...</td>\n",
       "      <td>...</td>\n",
       "      <td>...</td>\n",
       "      <td>...</td>\n",
       "      <td>...</td>\n",
       "      <td>...</td>\n",
       "      <td>...</td>\n",
       "      <td>...</td>\n",
       "      <td>...</td>\n",
       "      <td>...</td>\n",
       "      <td>...</td>\n",
       "      <td>...</td>\n",
       "      <td>...</td>\n",
       "      <td>...</td>\n",
       "      <td>...</td>\n",
       "      <td>...</td>\n",
       "      <td>...</td>\n",
       "    </tr>\n",
       "    <tr>\n",
       "      <th>39459</th>\n",
       "      <td>1.604967e+09</td>\n",
       "      <td>0</td>\n",
       "      <td>862.314880</td>\n",
       "      <td>-0.031702</td>\n",
       "      <td>4.618530e-10</td>\n",
       "      <td>0.000013</td>\n",
       "      <td>0.000135</td>\n",
       "      <td>NaN</td>\n",
       "      <td>NaN</td>\n",
       "      <td>NaN</td>\n",
       "      <td>...</td>\n",
       "      <td>NaN</td>\n",
       "      <td>NaN</td>\n",
       "      <td>-0.003708</td>\n",
       "      <td>-0.002697</td>\n",
       "      <td>-0.001524</td>\n",
       "      <td>-0.008523</td>\n",
       "      <td>0.000018</td>\n",
       "      <td>-0.001000</td>\n",
       "      <td>NaN</td>\n",
       "      <td>-0.001524</td>\n",
       "    </tr>\n",
       "    <tr>\n",
       "      <th>39460</th>\n",
       "      <td>1.604967e+09</td>\n",
       "      <td>0</td>\n",
       "      <td>862.314880</td>\n",
       "      <td>-0.031702</td>\n",
       "      <td>4.618530e-10</td>\n",
       "      <td>0.000013</td>\n",
       "      <td>0.000135</td>\n",
       "      <td>NaN</td>\n",
       "      <td>NaN</td>\n",
       "      <td>NaN</td>\n",
       "      <td>...</td>\n",
       "      <td>NaN</td>\n",
       "      <td>NaN</td>\n",
       "      <td>-0.003671</td>\n",
       "      <td>0.006098</td>\n",
       "      <td>-0.001695</td>\n",
       "      <td>-0.009929</td>\n",
       "      <td>0.000051</td>\n",
       "      <td>0.002185</td>\n",
       "      <td>NaN</td>\n",
       "      <td>-0.001695</td>\n",
       "    </tr>\n",
       "    <tr>\n",
       "      <th>39461</th>\n",
       "      <td>1.604967e+09</td>\n",
       "      <td>0</td>\n",
       "      <td>862.314880</td>\n",
       "      <td>-0.031702</td>\n",
       "      <td>4.618530e-10</td>\n",
       "      <td>0.000013</td>\n",
       "      <td>0.000135</td>\n",
       "      <td>NaN</td>\n",
       "      <td>NaN</td>\n",
       "      <td>NaN</td>\n",
       "      <td>...</td>\n",
       "      <td>NaN</td>\n",
       "      <td>NaN</td>\n",
       "      <td>-0.003483</td>\n",
       "      <td>0.012707</td>\n",
       "      <td>-0.001887</td>\n",
       "      <td>-0.008431</td>\n",
       "      <td>0.000016</td>\n",
       "      <td>-0.001213</td>\n",
       "      <td>NaN</td>\n",
       "      <td>-0.001887</td>\n",
       "    </tr>\n",
       "    <tr>\n",
       "      <th>39462</th>\n",
       "      <td>1.604967e+09</td>\n",
       "      <td>0</td>\n",
       "      <td>862.314880</td>\n",
       "      <td>-0.031702</td>\n",
       "      <td>4.618530e-10</td>\n",
       "      <td>0.000013</td>\n",
       "      <td>0.000135</td>\n",
       "      <td>NaN</td>\n",
       "      <td>NaN</td>\n",
       "      <td>NaN</td>\n",
       "      <td>...</td>\n",
       "      <td>NaN</td>\n",
       "      <td>NaN</td>\n",
       "      <td>-0.003156</td>\n",
       "      <td>0.013182</td>\n",
       "      <td>-0.002061</td>\n",
       "      <td>-0.006787</td>\n",
       "      <td>0.000009</td>\n",
       "      <td>-0.000067</td>\n",
       "      <td>NaN</td>\n",
       "      <td>-0.002061</td>\n",
       "    </tr>\n",
       "    <tr>\n",
       "      <th>39463</th>\n",
       "      <td>1.604967e+09</td>\n",
       "      <td>0</td>\n",
       "      <td>862.314880</td>\n",
       "      <td>-0.031702</td>\n",
       "      <td>4.618530e-10</td>\n",
       "      <td>0.000013</td>\n",
       "      <td>0.000135</td>\n",
       "      <td>NaN</td>\n",
       "      <td>NaN</td>\n",
       "      <td>NaN</td>\n",
       "      <td>...</td>\n",
       "      <td>NaN</td>\n",
       "      <td>NaN</td>\n",
       "      <td>-0.002956</td>\n",
       "      <td>0.013910</td>\n",
       "      <td>-0.002144</td>\n",
       "      <td>-0.004742</td>\n",
       "      <td>0.000006</td>\n",
       "      <td>-0.000361</td>\n",
       "      <td>NaN</td>\n",
       "      <td>-0.002144</td>\n",
       "    </tr>\n",
       "  </tbody>\n",
       "</table>\n",
       "<p>39464 rows × 21 columns</p>\n",
       "</div>"
      ],
      "text/plain": [
       "          timestamp  VFR_HUD.heading  VFR_HUD.alt  VFR_HUD.climb  \\\n",
       "0      1.604966e+09               91   847.243042       0.000695   \n",
       "1      1.604966e+09               91   847.243042       0.000695   \n",
       "2      1.604966e+09               91   847.243042       0.000695   \n",
       "3      1.604966e+09               91   847.243042       0.000695   \n",
       "4      1.604966e+09               91   847.243042       0.000695   \n",
       "...             ...              ...          ...            ...   \n",
       "39459  1.604967e+09                0   862.314880      -0.031702   \n",
       "39460  1.604967e+09                0   862.314880      -0.031702   \n",
       "39461  1.604967e+09                0   862.314880      -0.031702   \n",
       "39462  1.604967e+09                0   862.314880      -0.031702   \n",
       "39463  1.604967e+09                0   862.314880      -0.031702   \n",
       "\n",
       "       VIBRATION.vibration_x  VIBRATION.vibration_y  VIBRATION.vibration_z  \\\n",
       "0                        NaN                    NaN                    NaN   \n",
       "1                        NaN                    NaN                    NaN   \n",
       "2                        NaN                    NaN                    NaN   \n",
       "3                        NaN                    NaN                    NaN   \n",
       "4                        NaN                    NaN                    NaN   \n",
       "...                      ...                    ...                    ...   \n",
       "39459           4.618530e-10               0.000013               0.000135   \n",
       "39460           4.618530e-10               0.000013               0.000135   \n",
       "39461           4.618530e-10               0.000013               0.000135   \n",
       "39462           4.618530e-10               0.000013               0.000135   \n",
       "39463           4.618530e-10               0.000013               0.000135   \n",
       "\n",
       "       SCALED_IMU2.xacc  SCALED_IMU2.xgyro  SCALED_IMU2.yacc  ...  \\\n",
       "0                   NaN                NaN               NaN  ...   \n",
       "1                   NaN                NaN               NaN  ...   \n",
       "2                   NaN                NaN               NaN  ...   \n",
       "3                   NaN                NaN               NaN  ...   \n",
       "4                   NaN                NaN               NaN  ...   \n",
       "...                 ...                ...               ...  ...   \n",
       "39459               NaN                NaN               NaN  ...   \n",
       "39460               NaN                NaN               NaN  ...   \n",
       "39461               NaN                NaN               NaN  ...   \n",
       "39462               NaN                NaN               NaN  ...   \n",
       "39463               NaN                NaN               NaN  ...   \n",
       "\n",
       "       SCALED_IMU2.zacc  SCALED_IMU2.zgyro  ATTITUDE.roll  ATTITUDE.rollspeed  \\\n",
       "0                   NaN                NaN            NaN                 NaN   \n",
       "1                   NaN                NaN      -0.020361           -0.000476   \n",
       "2                   NaN                NaN      -0.020333           -0.000007   \n",
       "3                   NaN                NaN      -0.020357           -0.000106   \n",
       "4                   NaN                NaN      -0.020398           -0.000786   \n",
       "...                 ...                ...            ...                 ...   \n",
       "39459               NaN                NaN      -0.003708           -0.002697   \n",
       "39460               NaN                NaN      -0.003671            0.006098   \n",
       "39461               NaN                NaN      -0.003483            0.012707   \n",
       "39462               NaN                NaN      -0.003156            0.013182   \n",
       "39463               NaN                NaN      -0.002956            0.013910   \n",
       "\n",
       "       ATTITUDE.pitch  ATTITUDE.pitchspeed  ATTITUDE.yaw  ATTITUDE.yawspeed  \\\n",
       "0                 NaN                  NaN           NaN                NaN   \n",
       "1           -0.022227            -0.006448      1.597643           0.001060   \n",
       "2           -0.022361            -0.006607      1.599064           0.000614   \n",
       "3           -0.022480            -0.006052      1.599038           0.000646   \n",
       "4           -0.022651            -0.006069      1.598832           0.000200   \n",
       "...               ...                  ...           ...                ...   \n",
       "39459       -0.001524            -0.008523      0.000018          -0.001000   \n",
       "39460       -0.001695            -0.009929      0.000051           0.002185   \n",
       "39461       -0.001887            -0.008431      0.000016          -0.001213   \n",
       "39462       -0.002061            -0.006787      0.000009          -0.000067   \n",
       "39463       -0.002144            -0.004742      0.000006          -0.000361   \n",
       "\n",
       "       SCALED_PRESSURE2.temperature     pitch  \n",
       "0                               NaN       NaN  \n",
       "1                               NaN -0.022227  \n",
       "2                               NaN -0.022361  \n",
       "3                               NaN -0.022480  \n",
       "4                               NaN -0.022651  \n",
       "...                             ...       ...  \n",
       "39459                           NaN -0.001524  \n",
       "39460                           NaN -0.001695  \n",
       "39461                           NaN -0.001887  \n",
       "39462                           NaN -0.002061  \n",
       "39463                           NaN -0.002144  \n",
       "\n",
       "[39464 rows x 21 columns]"
      ]
     },
     "execution_count": 53,
     "metadata": {},
     "output_type": "execute_result"
    }
   ],
   "source": [
    "df_teste"
   ]
  },
  {
   "cell_type": "code",
   "execution_count": 17,
   "metadata": {},
   "outputs": [],
   "source": [
    "df_teste['pitch'] = df_teste['ATTITUDE.pitch']\n",
    "df_teste['roll'] = df_teste['ATTITUDE.roll']\n",
    "df_teste['yaw'] = df_teste['ATTITUDE.yaw']"
   ]
  },
  {
   "cell_type": "code",
   "execution_count": 19,
   "metadata": {},
   "outputs": [],
   "source": [
    "values = df_teste[['roll', 'pitch', 'yaw']].values"
   ]
  },
  {
   "cell_type": "code",
   "execution_count": 20,
   "metadata": {},
   "outputs": [
    {
     "data": {
      "text/plain": [
       "array([[            nan,             nan,             nan],\n",
       "       [-2.03607529e-02, -2.22268589e-02,  1.59764302e+00],\n",
       "       [-2.03334298e-02, -2.23614071e-02,  1.59906352e+00],\n",
       "       ...,\n",
       "       [-3.48345586e-03, -1.88703265e-03,  1.61705084e-05],\n",
       "       [-3.15627526e-03, -2.06148787e-03,  9.34301170e-06],\n",
       "       [-2.95620132e-03, -2.14384962e-03,  6.34962453e-06]])"
      ]
     },
     "execution_count": 20,
     "metadata": {},
     "output_type": "execute_result"
    }
   ],
   "source": [
    "values"
   ]
  },
  {
   "cell_type": "code",
   "execution_count": null,
   "metadata": {},
   "outputs": [],
   "source": []
  },
  {
   "cell_type": "code",
   "execution_count": 81,
   "metadata": {},
   "outputs": [
    {
     "data": {
      "text/plain": [
       "array([[ 0.05760411, -0.06729817, -0.78948365],\n",
       "       [ 0.05767553, -0.06173336, -0.78948365],\n",
       "       [ 0.05430535, -0.05509496, -0.78948365],\n",
       "       ...,\n",
       "       [-0.04454806, -0.00416864,  1.31272319],\n",
       "       [-0.04454806, -0.00416864,  1.31272319],\n",
       "       [-0.04454806, -0.00416864,  1.31272319]])"
      ]
     },
     "execution_count": 81,
     "metadata": {},
     "output_type": "execute_result"
    }
   ],
   "source": [
    "data_n.drop(['error'],axis=1).values"
   ]
  },
  {
   "cell_type": "code",
   "execution_count": 21,
   "metadata": {},
   "outputs": [
    {
     "name": "stdout",
     "output_type": "stream",
     "text": [
      "1234/1234 [==============================] - 9s 7ms/step\n"
     ]
    }
   ],
   "source": [
    "test = [[-0.008122967793406688,-0.031792852469140896,-1.175610922771928]]\n",
    "y_pred = loaded_LSTM.predict(values)"
   ]
  },
  {
   "cell_type": "code",
   "execution_count": 66,
   "metadata": {},
   "outputs": [
    {
     "data": {
      "text/plain": [
       "array([[0.]], dtype=float32)"
      ]
     },
     "execution_count": 66,
     "metadata": {},
     "output_type": "execute_result"
    }
   ],
   "source": [
    "y_pred"
   ]
  },
  {
   "cell_type": "code",
   "execution_count": 67,
   "metadata": {
    "id": "3L2wC7AqruTO"
   },
   "outputs": [
    {
     "name": "stdout",
     "output_type": "stream",
     "text": [
      "1481/1481 [==============================] - 14s 9ms/step\n"
     ]
    }
   ],
   "source": [
    "y_pred = loaded_LSTM.predict(data_n.drop(['error'],axis=1).values)"
   ]
  },
  {
   "cell_type": "code",
   "execution_count": 68,
   "metadata": {
    "colab": {
     "base_uri": "https://localhost:8080/"
    },
    "id": "OPlo021qsUtW",
    "outputId": "b1f4a83a-e87a-45f3-faa6-8e81db390a17",
    "scrolled": false
   },
   "outputs": [
    {
     "data": {
      "text/plain": [
       "array([[0.48506755],\n",
       "       [0.44388354],\n",
       "       [0.35480577],\n",
       "       ...,\n",
       "       [0.        ],\n",
       "       [0.        ],\n",
       "       [0.        ]], dtype=float32)"
      ]
     },
     "execution_count": 68,
     "metadata": {},
     "output_type": "execute_result"
    }
   ],
   "source": [
    "y_pred"
   ]
  },
  {
   "cell_type": "code",
   "execution_count": 25,
   "metadata": {},
   "outputs": [
    {
     "data": {
      "text/plain": [
       "39463"
      ]
     },
     "execution_count": 25,
     "metadata": {},
     "output_type": "execute_result"
    }
   ],
   "source": [
    "np.sum(softmax_pred)"
   ]
  },
  {
   "cell_type": "code",
   "execution_count": 22,
   "metadata": {},
   "outputs": [],
   "source": [
    "threshold = 0\n",
    "softmax_pred = np.where(y_pred[:, 0] >= threshold, 1, 0)"
   ]
  },
  {
   "cell_type": "code",
   "execution_count": 23,
   "metadata": {},
   "outputs": [
    {
     "ename": "NameError",
     "evalue": "name 'data_n' is not defined",
     "output_type": "error",
     "traceback": [
      "\u001b[0;31m---------------------------------------------------------------------------\u001b[0m",
      "\u001b[0;31mNameError\u001b[0m                                 Traceback (most recent call last)",
      "\u001b[0;32m/tmp/ipykernel_23202/1074918024.py\u001b[0m in \u001b[0;36m<module>\u001b[0;34m\u001b[0m\n\u001b[0;32m----> 1\u001b[0;31m \u001b[0msoftmax_test\u001b[0m \u001b[0;34m=\u001b[0m \u001b[0mnp\u001b[0m\u001b[0;34m.\u001b[0m\u001b[0mwhere\u001b[0m\u001b[0;34m(\u001b[0m\u001b[0mdata_n\u001b[0m\u001b[0;34m[\u001b[0m\u001b[0;34m\"error\"\u001b[0m\u001b[0;34m]\u001b[0m\u001b[0;34m.\u001b[0m\u001b[0mvalues\u001b[0m \u001b[0;34m>=\u001b[0m \u001b[0mthreshold\u001b[0m\u001b[0;34m,\u001b[0m \u001b[0;36m1\u001b[0m\u001b[0;34m,\u001b[0m \u001b[0;36m0\u001b[0m\u001b[0;34m)\u001b[0m\u001b[0;34m\u001b[0m\u001b[0;34m\u001b[0m\u001b[0m\n\u001b[0m",
      "\u001b[0;31mNameError\u001b[0m: name 'data_n' is not defined"
     ]
    }
   ],
   "source": [
    "softmax_test = np.where(data_n[\"error\"].values >= threshold, 1, 0)"
   ]
  },
  {
   "cell_type": "code",
   "execution_count": 71,
   "metadata": {},
   "outputs": [],
   "source": [
    "difference = softmax_test - softmax_pred"
   ]
  },
  {
   "cell_type": "code",
   "execution_count": 72,
   "metadata": {},
   "outputs": [
    {
     "data": {
      "text/plain": [
       "0.0"
      ]
     },
     "execution_count": 72,
     "metadata": {},
     "output_type": "execute_result"
    }
   ],
   "source": [
    "(np.sum(difference)/len(difference))*100"
   ]
  },
  {
   "cell_type": "code",
   "execution_count": null,
   "metadata": {},
   "outputs": [],
   "source": []
  }
 ],
 "metadata": {
  "colab": {
   "collapsed_sections": [
    "t5ok4QLVYMrN"
   ],
   "name": "2_AnomalyDetection_LSTM.ipynb",
   "provenance": []
  },
  "kernelspec": {
   "display_name": "gaia",
   "language": "python",
   "name": "gaia"
  },
  "language_info": {
   "codemirror_mode": {
    "name": "ipython",
    "version": 3
   },
   "file_extension": ".py",
   "mimetype": "text/x-python",
   "name": "python",
   "nbconvert_exporter": "python",
   "pygments_lexer": "ipython3",
   "version": "3.7.5"
  }
 },
 "nbformat": 4,
 "nbformat_minor": 1
}
