{
 "cells": [
  {
   "cell_type": "code",
   "execution_count": 1,
   "metadata": {
    "colab": {
     "base_uri": "https://localhost:8080/",
     "height": 70,
     "resources": {
      "http://localhost:8080/nbextensions/google.colab/files.js": {
       "data": "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",
       "headers": [
        [
         "content-type",
         "application/javascript"
        ]
       ],
       "ok": true,
       "status": 200,
       "status_text": ""
      }
     }
    },
    "id": "euZWZdsSsvjr",
    "outputId": "fd612548-fb7e-4f7a-cfe1-de3619b61dfd"
   },
   "outputs": [],
   "source": [
    "# from google.colab import files\n",
    "# uploaded = files.upload()"
   ]
  },
  {
   "cell_type": "code",
   "execution_count": 1,
   "metadata": {
    "id": "S2r_2V0DRB9V"
   },
   "outputs": [],
   "source": [
    "import pandas as pd\n",
    "import matplotlib.pyplot as plt\n",
    "import seaborn as sns\n",
    "import numpy as np"
   ]
  },
  {
   "cell_type": "code",
   "execution_count": 2,
   "metadata": {},
   "outputs": [
    {
     "name": "stderr",
     "output_type": "stream",
     "text": [
      "2023-06-30 14:48:04.190632: I tensorflow/core/platform/cpu_feature_guard.cc:193] This TensorFlow binary is optimized with oneAPI Deep Neural Network Library (oneDNN) to use the following CPU instructions in performance-critical operations:  AVX2 FMA\n",
      "To enable them in other operations, rebuild TensorFlow with the appropriate compiler flags.\n",
      "2023-06-30 14:48:04.395695: W tensorflow/compiler/xla/stream_executor/platform/default/dso_loader.cc:64] Could not load dynamic library 'libcudart.so.11.0'; dlerror: libcudart.so.11.0: cannot open shared object file: No such file or directory; LD_LIBRARY_PATH: /opt/ros/melodic/lib\n",
      "2023-06-30 14:48:04.395716: I tensorflow/compiler/xla/stream_executor/cuda/cudart_stub.cc:29] Ignore above cudart dlerror if you do not have a GPU set up on your machine.\n",
      "2023-06-30 14:48:05.525103: W tensorflow/compiler/xla/stream_executor/platform/default/dso_loader.cc:64] Could not load dynamic library 'libnvinfer.so.7'; dlerror: libnvinfer.so.7: cannot open shared object file: No such file or directory; LD_LIBRARY_PATH: /opt/ros/melodic/lib\n",
      "2023-06-30 14:48:05.525264: W tensorflow/compiler/xla/stream_executor/platform/default/dso_loader.cc:64] Could not load dynamic library 'libnvinfer_plugin.so.7'; dlerror: libnvinfer_plugin.so.7: cannot open shared object file: No such file or directory; LD_LIBRARY_PATH: /opt/ros/melodic/lib\n",
      "2023-06-30 14:48:05.525279: W tensorflow/compiler/tf2tensorrt/utils/py_utils.cc:38] TF-TRT Warning: Cannot dlopen some TensorRT libraries. If you would like to use Nvidia GPU with TensorRT, please make sure the missing libraries mentioned above are installed properly.\n"
     ]
    }
   ],
   "source": [
    "#Importing Required Libraries LSTM\n",
    "import pandas as pd\n",
    "import numpy as np\n",
    "import matplotlib\n",
    "import seaborn\n",
    "import matplotlib.dates as md\n",
    "from matplotlib import pyplot as plt\n",
    "import scipy as sp\n",
    "from sklearn.model_selection import train_test_split\n",
    "from sklearn import preprocessing\n",
    "from keras.layers.core import Dense, Activation, Dropout\n",
    "# from keras.layers.recurrent import LSTM\n",
    "from keras.layers import LSTM\n",
    "from keras.models import Sequential\n",
    "from keras.layers import Bidirectional\n",
    "from keras.layers import Conv1D\n",
    "import time\n",
    "\n",
    "from sklearn.decomposition import PCA"
   ]
  },
  {
   "cell_type": "code",
   "execution_count": 3,
   "metadata": {},
   "outputs": [],
   "source": [
    "from pyspark.sql import functions as sf"
   ]
  },
  {
   "cell_type": "code",
   "execution_count": 4,
   "metadata": {},
   "outputs": [],
   "source": [
    "import joblib"
   ]
  },
  {
   "cell_type": "code",
   "execution_count": 5,
   "metadata": {},
   "outputs": [
    {
     "data": {
      "text/html": [
       "<style>pre { white-space: pre !important; }</style>"
      ],
      "text/plain": [
       "<IPython.core.display.HTML object>"
      ]
     },
     "metadata": {},
     "output_type": "display_data"
    }
   ],
   "source": [
    "from IPython.core.display import HTML\n",
    "display(HTML(\"<style>pre { white-space: pre !important; }</style>\"))"
   ]
  },
  {
   "cell_type": "code",
   "execution_count": 30,
   "metadata": {},
   "outputs": [
    {
     "name": "stderr",
     "output_type": "stream",
     "text": [
      "                                                                                \r"
     ]
    }
   ],
   "source": [
    "from pyspark.sql import SparkSession\n",
    "# Create a SparkSession\n",
    "spark = SparkSession.builder.getOrCreate()\n",
    "\n",
    "# Read JSON file into DataFrame\n",
    "json_file_path = \"/home/vannini/harpia/flight_data.json\"\n",
    "df = spark.read.json(json_file_path)\n",
    "\n",
    "\n",
    "df_s = df.select(\n",
    "    \"id\",\n",
    "    \"Type\",\n",
    "    \"error\",\n",
    "    sf.explode(\"data\").alias(\"data\")\n",
    ").select(\n",
    "    \"id\",\n",
    "    \"Type\",\n",
    "    \"error\",\n",
    "    sf.col(\"data.roll\").alias(\"roll\"),\n",
    "    sf.col(\"data.pitch\").alias(\"pitch\"),\n",
    "    sf.col(\"data.yaw\").alias(\"yaw\"),\n",
    "    sf.col(\"data.heading\").alias(\"heading\"),\n",
    "    sf.col(\"data.rollRate\").alias(\"rollRate\"),\n",
    "    sf.col(\"data.pitchRate\").alias(\"pitchRate\"),\n",
    "    sf.col(\"data.yawRate\").alias(\"yawRate\"),\n",
    "    sf.col(\"data.groundSpeed\").alias(\"groundSpeed\"),\n",
    "    sf.col(\"data.climbRate\").alias(\"climbRate\"),\n",
    "    sf.col(\"data.altitudeRelative\").alias(\"altitudeRelative\"),\n",
    "    sf.col(\"data.throttlePct\").alias(\"throttlePct\")\n",
    ")\n",
    "# df_s.printSchema()\n",
    "# Print the DataFrame\n",
    "# df.show()"
   ]
  },
  {
   "cell_type": "code",
   "execution_count": 31,
   "metadata": {},
   "outputs": [
    {
     "name": "stdout",
     "output_type": "stream",
     "text": [
      "+---+-------------------+-----+--------------------+--------------------+----+------------------+--------------------+--------------------+--------------------+--------------------+--------------------+--------------------+------------------+\n",
      "| id|               Type|error|                roll|               pitch| yaw|           heading|            rollRate|           pitchRate|             yawRate|         groundSpeed|           climbRate|    altitudeRelative|       throttlePct|\n",
      "+---+-------------------+-----+--------------------+--------------------+----+------------------+--------------------+--------------------+--------------------+--------------------+--------------------+--------------------+------------------+\n",
      "|  0|Takeoff and landing| true|  0.0160099285079197|-0.00726505465933...|null|461.20050024305567|-9.80036708636525...|-0.00552425785785...|-0.01129696558460...| 0.12141013458125746| -0.4419510988008492|-0.10362918471831066|               0.0|\n",
      "|  0|Takeoff and landing| true|0.016027034943085498|-0.00586167352247...|null| 461.0519602024596|-0.00124955911530...|6.770111643953688E-4|-0.00373723321028...|  0.1600087892421595|-0.44390603237044673|0.004934652859261685|0.8388912456658909|\n",
      "|  0|Takeoff and landing| true|0.015219866299473892|-0.00418754354992...|null| 460.9968264794235|4.722520039618168...|0.003879229757676...|-0.01976628975856...|  0.1289338537534454| -0.4064552267270174|-0.00493472216468...|1.9244909233696428|\n",
      "|  0|Takeoff and landing| true|0.014330697379700608|-0.00521721030197...|null| 460.8986818559406|-0.00204129282954...|-0.00428105738147...|-0.00401040426950...| 0.06515062488502989| -0.3394782092664111|-0.00986928543074...| 2.664696505847444|\n",
      "|  0|Takeoff and landing| true| -0.1156456170158077|-0.20224765525474397|null| 461.7433223847182|-0.29002750450462367|-0.24907369673313762|-0.04060365140162...|  0.2695496462894863|  0.2920838711193116| 0.07895486498762351|3.6020666607422753|\n",
      "|  0|Takeoff and landing| true|0.031928279488329304| 0.05112940227899377|null|461.23173505576113|0.009540164170454087|-0.01441680866118...|0.006781036952888232| 0.49721828238887733|  3.9328517805247287|  2.8522637743969272|3.5529992394714736|\n",
      "|  0|Takeoff and landing| true| 0.01924456639037533|0.014875405308510253|null|  461.200702340348|-0.01224201640139...|-0.04601536769080278|5.580941870568256E-4| 0.16494683291422166|   4.718233067115745|   7.683362494188757| 3.503642349388956|\n",
      "|  0|Takeoff and landing| true|0.002622325779774577|-0.00894388221989...|null| 460.9524018818016|-0.00852067291577...|-0.01060484244912141|-0.02669937995345...|  0.1959006655623904|  3.9064793937846076|  12.221655100127084|3.5036594779630055|\n",
      "|  0|Takeoff and landing| true|0.005167401640001499|-0.03104968452785...|null|461.09945958351744|0.002633692684739193|-0.02550555205117...|-0.01614194714373365| 0.10613929605603055|  2.4199524549960847|  16.298578813898633|3.1581346927244813|\n",
      "|  0|Takeoff and landing| true|0.001552855393457...|-0.00955625114910...|null|461.34701929677874|3.584413729421041E-4|0.053704934123665324| 0.01143797668123744|  0.0759037389824311|  0.7222007723494562|  17.760079662282738| 3.454287282956921|\n",
      "|  0|Takeoff and landing| true|0.003833612720866...|-0.00918331364724...|null| 461.2495780535244|0.005101721585704471|-0.01169472182356966|0.003040214157649...|0.049605440763942694|-0.04128941084915...|  18.498975998916688| 3.454293397956684|\n",
      "|  0|Takeoff and landing| true|-7.20933303700389E-5|-0.01021948093091...|null| 461.0504013620389|0.007046956120795874|0.028352668927220517|-0.00654248762206...|0.045019378713778056|-0.28910876182088757|  18.750432272870604|3.4542437910700303|\n",
      "|  0|Takeoff and landing| true|0.003590193520306...|-3.47940708123748...|null|461.34831989922156|-0.01334924849566...|-0.03790316819899...|0.002182322098982816|0.021495059534634552|-0.41960781792401025|   18.90451937241439|3.4542755686636286|\n",
      "|  0|Takeoff and landing| true| 0.00537285433450515|0.003133663926857...|null| 461.2958661734213|0.003710763146532...|-0.03003122710790...|-0.01491509952298138|0.031911019279684996|  -0.536058082181977|  19.028224198950763|3.4541939440299743|\n",
      "|  0|Takeoff and landing| true|0.011638432053904905|-0.00375663999851...|null| 461.2689571833047|0.012811450478719141|-0.00607994756882...|-0.00190746563306...| 0.02570543073418465| -0.6235078748632281|  19.087565285122253| 3.454289703421278|\n",
      "|  0|Takeoff and landing| true|0.018787759571409844|-0.00671527188290...|null| 461.2372397971645|-0.00643768247267...|-0.01064767896211...|-0.00212127615166...|0.010360117516003891| -0.6590204157005243|  19.166387313358243| 3.453941154315561|\n",
      "|  0|Takeoff and landing| true|0.021087097978445397|-0.01729804922168...|null|461.13339359348186|-0.00190447434650...| 0.05745454446822625|-0.00317555403675...| 0.07933427788281365| -0.7198811845696985|  19.200183931453182|3.4543153607709667|\n",
      "|  0|Takeoff and landing| true|0.008217723541553871|-0.00140351821185...|null| 461.1721986542463|-0.01520799469362...|-0.00816128517824...|5.601083808092671E-7|   0.092474846888924| -0.6642721528533854|  19.131603742889926| 3.454304219443367|\n",
      "|  0|Takeoff and landing| true| 0.00827921973652926|-0.00373943630541476|null| 461.1491769023639| 0.01201024537316511| -0.0117633170075014|-0.00423757982421...| 0.08406541556870979| -0.6995169069133204|  19.161531188186547| 3.454192172336848|\n",
      "|  0|Takeoff and landing| true|0.011012751102395807|0.005784036868165947|null| 461.1313594592533|0.020106269716823694|-0.05213587464597...|-2.72144823053803...|0.042681882571857066|  -4.708947883692218|  17.587387258927006|3.6023217234598452|\n",
      "+---+-------------------+-----+--------------------+--------------------+----+------------------+--------------------+--------------------+--------------------+--------------------+--------------------+--------------------+------------------+\n",
      "only showing top 20 rows\n",
      "\n"
     ]
    }
   ],
   "source": [
    "df_s.show()"
   ]
  },
  {
   "cell_type": "code",
   "execution_count": 32,
   "metadata": {},
   "outputs": [
    {
     "name": "stderr",
     "output_type": "stream",
     "text": [
      "[Stage 11:===========================================>              (3 + 1) / 4]\r"
     ]
    },
    {
     "name": "stdout",
     "output_type": "stream",
     "text": [
      "+-------+-----------------+\n",
      "|avg(id)|       avg(count)|\n",
      "+-------+-----------------+\n",
      "|  257.0|92.00388349514563|\n",
      "+-------+-----------------+\n",
      "\n"
     ]
    },
    {
     "name": "stderr",
     "output_type": "stream",
     "text": [
      "\r",
      "                                                                                \r"
     ]
    }
   ],
   "source": [
    "df_s.groupBy('id').count().groupBy().avg().show()"
   ]
  },
  {
   "cell_type": "code",
   "execution_count": 9,
   "metadata": {
    "id": "62fNPyAGZDCs"
   },
   "outputs": [],
   "source": [
    "def info(df):\n",
    "  print(df.info(verbose=True))\n",
    "  return None"
   ]
  },
  {
   "cell_type": "code",
   "execution_count": 10,
   "metadata": {
    "id": "Kdk9GRqjZEV0"
   },
   "outputs": [],
   "source": [
    "def nulls_qtd(df):\n",
    "  print(df.isna().sum())\n",
    "  return None"
   ]
  },
  {
   "cell_type": "code",
   "execution_count": 11,
   "metadata": {
    "id": "KHGsu0c6ZGX8"
   },
   "outputs": [],
   "source": [
    "def describe(df, perc, drop_list = None):\n",
    "  if drop_list == None:\n",
    "    df.select_dtypes(include='number').describe(percentiles = perc)\n",
    "  else:\n",
    "    df.select_dtypes(include='number').drop(drop_list, axis=1).describe(percentiles = perc)\n",
    "  return None"
   ]
  },
  {
   "cell_type": "code",
   "execution_count": 11,
   "metadata": {},
   "outputs": [
    {
     "name": "stdout",
     "output_type": "stream",
     "text": [
      "+---+-------------------+-----+--------------------+--------------------+------------------+--------------------+--------------------+--------------------+--------------------+--------------------+--------------------+------------------+\n",
      "| id|               Type|error|                roll|               pitch|               yaw|            rollRate|           pitchRate|             yawRate|         groundSpeed|           climbRate|    altitudeRelative|       throttlePct|\n",
      "+---+-------------------+-----+--------------------+--------------------+------------------+--------------------+--------------------+--------------------+--------------------+--------------------+--------------------+------------------+\n",
      "|  0|Takeoff and landing| true|  0.0160099285079197|-0.00726505465933...|461.20050024305567|-9.80036708636525...|-0.00552425785785...|-0.01129696558460...| 0.12141013458125746| -0.4419510988008492|-0.10362918471831066|               0.0|\n",
      "|  0|Takeoff and landing| true|0.016027034943085498|-0.00586167352247...| 461.0519602024596|-0.00124955911530...|6.770111643953688E-4|-0.00373723321028...|  0.1600087892421595|-0.44390603237044673|0.004934652859261685|0.8388912456658909|\n",
      "|  0|Takeoff and landing| true|0.015219866299473892|-0.00418754354992...| 460.9968264794235|4.722520039618168...|0.003879229757676...|-0.01976628975856...|  0.1289338537534454| -0.4064552267270174|-0.00493472216468...|1.9244909233696428|\n",
      "|  0|Takeoff and landing| true|0.014330697379700608|-0.00521721030197...| 460.8986818559406|-0.00204129282954...|-0.00428105738147...|-0.00401040426950...| 0.06515062488502989| -0.3394782092664111|-0.00986928543074...| 2.664696505847444|\n",
      "|  0|Takeoff and landing| true| -0.1156456170158077|-0.20224765525474397| 461.7433223847182|-0.29002750450462367|-0.24907369673313762|-0.04060365140162...|  0.2695496462894863|  0.2920838711193116| 0.07895486498762351|3.6020666607422753|\n",
      "|  0|Takeoff and landing| true|0.031928279488329304| 0.05112940227899377|461.23173505576113|0.009540164170454087|-0.01441680866118...|0.006781036952888232| 0.49721828238887733|  3.9328517805247287|  2.8522637743969272|3.5529992394714736|\n",
      "|  0|Takeoff and landing| true| 0.01924456639037533|0.014875405308510253|  461.200702340348|-0.01224201640139...|-0.04601536769080278|5.580941870568256E-4| 0.16494683291422166|   4.718233067115745|   7.683362494188757| 3.503642349388956|\n",
      "|  0|Takeoff and landing| true|0.002622325779774577|-0.00894388221989...| 460.9524018818016|-0.00852067291577...|-0.01060484244912141|-0.02669937995345...|  0.1959006655623904|  3.9064793937846076|  12.221655100127084|3.5036594779630055|\n",
      "|  0|Takeoff and landing| true|0.005167401640001499|-0.03104968452785...|461.09945958351744|0.002633692684739193|-0.02550555205117...|-0.01614194714373365| 0.10613929605603055|  2.4199524549960847|  16.298578813898633|3.1581346927244813|\n",
      "|  0|Takeoff and landing| true|0.001552855393457...|-0.00955625114910...|461.34701929677874|3.584413729421041E-4|0.053704934123665324| 0.01143797668123744|  0.0759037389824311|  0.7222007723494562|  17.760079662282738| 3.454287282956921|\n",
      "|  0|Takeoff and landing| true|0.003833612720866...|-0.00918331364724...| 461.2495780535244|0.005101721585704471|-0.01169472182356966|0.003040214157649...|0.049605440763942694|-0.04128941084915...|  18.498975998916688| 3.454293397956684|\n",
      "|  0|Takeoff and landing| true|-7.20933303700389E-5|-0.01021948093091...| 461.0504013620389|0.007046956120795874|0.028352668927220517|-0.00654248762206...|0.045019378713778056|-0.28910876182088757|  18.750432272870604|3.4542437910700303|\n",
      "|  0|Takeoff and landing| true|0.003590193520306...|-3.47940708123748...|461.34831989922156|-0.01334924849566...|-0.03790316819899...|0.002182322098982816|0.021495059534634552|-0.41960781792401025|   18.90451937241439|3.4542755686636286|\n",
      "|  0|Takeoff and landing| true| 0.00537285433450515|0.003133663926857...| 461.2958661734213|0.003710763146532...|-0.03003122710790...|-0.01491509952298138|0.031911019279684996|  -0.536058082181977|  19.028224198950763|3.4541939440299743|\n",
      "|  0|Takeoff and landing| true|0.011638432053904905|-0.00375663999851...| 461.2689571833047|0.012811450478719141|-0.00607994756882...|-0.00190746563306...| 0.02570543073418465| -0.6235078748632281|  19.087565285122253| 3.454289703421278|\n",
      "|  0|Takeoff and landing| true|0.018787759571409844|-0.00671527188290...| 461.2372397971645|-0.00643768247267...|-0.01064767896211...|-0.00212127615166...|0.010360117516003891| -0.6590204157005243|  19.166387313358243| 3.453941154315561|\n",
      "|  0|Takeoff and landing| true|0.021087097978445397|-0.01729804922168...|461.13339359348186|-0.00190447434650...| 0.05745454446822625|-0.00317555403675...| 0.07933427788281365| -0.7198811845696985|  19.200183931453182|3.4543153607709667|\n",
      "|  0|Takeoff and landing| true|0.008217723541553871|-0.00140351821185...| 461.1721986542463|-0.01520799469362...|-0.00816128517824...|5.601083808092671E-7|   0.092474846888924| -0.6642721528533854|  19.131603742889926| 3.454304219443367|\n",
      "|  0|Takeoff and landing| true| 0.00827921973652926|-0.00373943630541476| 461.1491769023639| 0.01201024537316511| -0.0117633170075014|-0.00423757982421...| 0.08406541556870979| -0.6995169069133204|  19.161531188186547| 3.454192172336848|\n",
      "|  0|Takeoff and landing| true|0.011012751102395807|0.005784036868165947| 461.1313594592533|0.020106269716823694|-0.05213587464597...|-2.72144823053803...|0.042681882571857066|  -4.708947883692218|  17.587387258927006|3.6023217234598452|\n",
      "+---+-------------------+-----+--------------------+--------------------+------------------+--------------------+--------------------+--------------------+--------------------+--------------------+--------------------+------------------+\n",
      "only showing top 20 rows\n",
      "\n"
     ]
    }
   ],
   "source": [
    "df_s.show()"
   ]
  },
  {
   "cell_type": "code",
   "execution_count": 12,
   "metadata": {
    "id": "8QIbajisYOeU"
   },
   "outputs": [],
   "source": [
    "def shape(df):\n",
    "  # DataFrame shape\n",
    "  print(f'Rows: {df.shape[0]}\\n   \\nColumns: {df.shape[1]}')\n",
    "  return None"
   ]
  },
  {
   "cell_type": "code",
   "execution_count": 13,
   "metadata": {
    "id": "df6E-08JZyYN"
   },
   "outputs": [],
   "source": [
    "def select_columns(df, columns_names_list):\n",
    "  df_new = df[columns_names_list]\n",
    "  return df_new"
   ]
  },
  {
   "cell_type": "code",
   "execution_count": 14,
   "metadata": {
    "id": "FznulxTOZ17N"
   },
   "outputs": [],
   "source": [
    "def split_train_test(X, y, strat, perc = 0.25):\n",
    "  \"\"\"\n",
    "  X: x's variables\n",
    "  y: target variable (system response)\n",
    "  perc: test data percentage (decimal value; default = 0.2 = 20% of data)\n",
    "  \"\"\"\n",
    "  X_train, X_test, y_train, y_test = train_test_split(X, y, test_size = 0.2, random_state = 0, stratify=strat)\n",
    "\n",
    "  # Resets all DFs indexes\n",
    "  X_train.reset_index(drop = True, inplace = True)\n",
    "  X_test.reset_index(drop = True, inplace = True)\n",
    "  y_train.reset_index(drop = True, inplace = True)\n",
    "  y_test.reset_index(drop = True, inplace = True)\n",
    "\n",
    "  return X_train, X_test, y_train, y_test"
   ]
  },
  {
   "cell_type": "markdown",
   "metadata": {
    "id": "PEmmVXxiU4mW"
   },
   "source": [
    "# 2- Exploratory Data Analysis (EDA)"
   ]
  },
  {
   "cell_type": "code",
   "execution_count": 33,
   "metadata": {
    "colab": {
     "base_uri": "https://localhost:8080/",
     "height": 0
    },
    "id": "mPXF7lV0U4WV",
    "outputId": "025193e4-82fa-4c58-a13c-c4691372d9a2",
    "scrolled": true
   },
   "outputs": [
    {
     "name": "stderr",
     "output_type": "stream",
     "text": [
      "                                                                                \r"
     ]
    },
    {
     "data": {
      "text/html": [
       "<div>\n",
       "<style scoped>\n",
       "    .dataframe tbody tr th:only-of-type {\n",
       "        vertical-align: middle;\n",
       "    }\n",
       "\n",
       "    .dataframe tbody tr th {\n",
       "        vertical-align: top;\n",
       "    }\n",
       "\n",
       "    .dataframe thead th {\n",
       "        text-align: right;\n",
       "    }\n",
       "</style>\n",
       "<table border=\"1\" class=\"dataframe\">\n",
       "  <thead>\n",
       "    <tr style=\"text-align: right;\">\n",
       "      <th></th>\n",
       "      <th>id</th>\n",
       "      <th>Type</th>\n",
       "      <th>error</th>\n",
       "      <th>roll</th>\n",
       "      <th>pitch</th>\n",
       "      <th>yaw</th>\n",
       "      <th>heading</th>\n",
       "      <th>rollRate</th>\n",
       "      <th>pitchRate</th>\n",
       "      <th>yawRate</th>\n",
       "      <th>groundSpeed</th>\n",
       "      <th>climbRate</th>\n",
       "      <th>altitudeRelative</th>\n",
       "      <th>throttlePct</th>\n",
       "    </tr>\n",
       "  </thead>\n",
       "  <tbody>\n",
       "    <tr>\n",
       "      <th>0</th>\n",
       "      <td>0</td>\n",
       "      <td>Takeoff and landing</td>\n",
       "      <td>True</td>\n",
       "      <td>0.016010</td>\n",
       "      <td>-0.007265</td>\n",
       "      <td>NaN</td>\n",
       "      <td>461.200500</td>\n",
       "      <td>-0.000980</td>\n",
       "      <td>-0.005524</td>\n",
       "      <td>-0.011297</td>\n",
       "      <td>0.121410</td>\n",
       "      <td>-0.441951</td>\n",
       "      <td>-0.103629</td>\n",
       "      <td>0.000000</td>\n",
       "    </tr>\n",
       "    <tr>\n",
       "      <th>1</th>\n",
       "      <td>0</td>\n",
       "      <td>Takeoff and landing</td>\n",
       "      <td>True</td>\n",
       "      <td>0.016027</td>\n",
       "      <td>-0.005862</td>\n",
       "      <td>NaN</td>\n",
       "      <td>461.051960</td>\n",
       "      <td>-0.001250</td>\n",
       "      <td>0.000677</td>\n",
       "      <td>-0.003737</td>\n",
       "      <td>0.160009</td>\n",
       "      <td>-0.443906</td>\n",
       "      <td>0.004935</td>\n",
       "      <td>0.838891</td>\n",
       "    </tr>\n",
       "    <tr>\n",
       "      <th>2</th>\n",
       "      <td>0</td>\n",
       "      <td>Takeoff and landing</td>\n",
       "      <td>True</td>\n",
       "      <td>0.015220</td>\n",
       "      <td>-0.004188</td>\n",
       "      <td>NaN</td>\n",
       "      <td>460.996826</td>\n",
       "      <td>0.000472</td>\n",
       "      <td>0.003879</td>\n",
       "      <td>-0.019766</td>\n",
       "      <td>0.128934</td>\n",
       "      <td>-0.406455</td>\n",
       "      <td>-0.004935</td>\n",
       "      <td>1.924491</td>\n",
       "    </tr>\n",
       "    <tr>\n",
       "      <th>3</th>\n",
       "      <td>0</td>\n",
       "      <td>Takeoff and landing</td>\n",
       "      <td>True</td>\n",
       "      <td>0.014331</td>\n",
       "      <td>-0.005217</td>\n",
       "      <td>NaN</td>\n",
       "      <td>460.898682</td>\n",
       "      <td>-0.002041</td>\n",
       "      <td>-0.004281</td>\n",
       "      <td>-0.004010</td>\n",
       "      <td>0.065151</td>\n",
       "      <td>-0.339478</td>\n",
       "      <td>-0.009869</td>\n",
       "      <td>2.664697</td>\n",
       "    </tr>\n",
       "    <tr>\n",
       "      <th>4</th>\n",
       "      <td>0</td>\n",
       "      <td>Takeoff and landing</td>\n",
       "      <td>True</td>\n",
       "      <td>-0.115646</td>\n",
       "      <td>-0.202248</td>\n",
       "      <td>NaN</td>\n",
       "      <td>461.743322</td>\n",
       "      <td>-0.290028</td>\n",
       "      <td>-0.249074</td>\n",
       "      <td>-0.040604</td>\n",
       "      <td>0.269550</td>\n",
       "      <td>0.292084</td>\n",
       "      <td>0.078955</td>\n",
       "      <td>3.602067</td>\n",
       "    </tr>\n",
       "  </tbody>\n",
       "</table>\n",
       "</div>"
      ],
      "text/plain": [
       "   id                 Type  error      roll     pitch  yaw     heading  \\\n",
       "0   0  Takeoff and landing   True  0.016010 -0.007265  NaN  461.200500   \n",
       "1   0  Takeoff and landing   True  0.016027 -0.005862  NaN  461.051960   \n",
       "2   0  Takeoff and landing   True  0.015220 -0.004188  NaN  460.996826   \n",
       "3   0  Takeoff and landing   True  0.014331 -0.005217  NaN  460.898682   \n",
       "4   0  Takeoff and landing   True -0.115646 -0.202248  NaN  461.743322   \n",
       "\n",
       "   rollRate  pitchRate   yawRate  groundSpeed  climbRate  altitudeRelative  \\\n",
       "0 -0.000980  -0.005524 -0.011297     0.121410  -0.441951         -0.103629   \n",
       "1 -0.001250   0.000677 -0.003737     0.160009  -0.443906          0.004935   \n",
       "2  0.000472   0.003879 -0.019766     0.128934  -0.406455         -0.004935   \n",
       "3 -0.002041  -0.004281 -0.004010     0.065151  -0.339478         -0.009869   \n",
       "4 -0.290028  -0.249074 -0.040604     0.269550   0.292084          0.078955   \n",
       "\n",
       "   throttlePct  \n",
       "0     0.000000  \n",
       "1     0.838891  \n",
       "2     1.924491  \n",
       "3     2.664697  \n",
       "4     3.602067  "
      ]
     },
     "execution_count": 33,
     "metadata": {},
     "output_type": "execute_result"
    }
   ],
   "source": [
    "df = df_s.toPandas()\n",
    "df.head()"
   ]
  },
  {
   "cell_type": "code",
   "execution_count": 34,
   "metadata": {
    "scrolled": true
   },
   "outputs": [
    {
     "data": {
      "text/html": [
       "<div>\n",
       "<style scoped>\n",
       "    .dataframe tbody tr th:only-of-type {\n",
       "        vertical-align: middle;\n",
       "    }\n",
       "\n",
       "    .dataframe tbody tr th {\n",
       "        vertical-align: top;\n",
       "    }\n",
       "\n",
       "    .dataframe thead th {\n",
       "        text-align: right;\n",
       "    }\n",
       "</style>\n",
       "<table border=\"1\" class=\"dataframe\">\n",
       "  <thead>\n",
       "    <tr style=\"text-align: right;\">\n",
       "      <th></th>\n",
       "      <th>id</th>\n",
       "      <th>roll</th>\n",
       "      <th>pitch</th>\n",
       "      <th>yaw</th>\n",
       "      <th>heading</th>\n",
       "      <th>rollRate</th>\n",
       "      <th>pitchRate</th>\n",
       "      <th>yawRate</th>\n",
       "      <th>groundSpeed</th>\n",
       "      <th>climbRate</th>\n",
       "      <th>altitudeRelative</th>\n",
       "      <th>throttlePct</th>\n",
       "    </tr>\n",
       "  </thead>\n",
       "  <tbody>\n",
       "    <tr>\n",
       "      <th>count</th>\n",
       "      <td>33017.000000</td>\n",
       "      <td>33017.000000</td>\n",
       "      <td>33017.000000</td>\n",
       "      <td>33017.000000</td>\n",
       "      <td>33017.000000</td>\n",
       "      <td>33017.000000</td>\n",
       "      <td>33017.000000</td>\n",
       "      <td>33017.000000</td>\n",
       "      <td>33017.000000</td>\n",
       "      <td>33017.000000</td>\n",
       "      <td>33017.000000</td>\n",
       "      <td>33017.000000</td>\n",
       "    </tr>\n",
       "    <tr>\n",
       "      <th>mean</th>\n",
       "      <td>207.405155</td>\n",
       "      <td>0.000806</td>\n",
       "      <td>0.002833</td>\n",
       "      <td>0.844894</td>\n",
       "      <td>115.250263</td>\n",
       "      <td>0.000154</td>\n",
       "      <td>-0.000066</td>\n",
       "      <td>-0.000037</td>\n",
       "      <td>0.037203</td>\n",
       "      <td>-0.111073</td>\n",
       "      <td>-0.528727</td>\n",
       "      <td>0.012212</td>\n",
       "    </tr>\n",
       "    <tr>\n",
       "      <th>std</th>\n",
       "      <td>165.402414</td>\n",
       "      <td>0.008437</td>\n",
       "      <td>0.009592</td>\n",
       "      <td>0.762674</td>\n",
       "      <td>129.866613</td>\n",
       "      <td>0.001544</td>\n",
       "      <td>0.001591</td>\n",
       "      <td>0.001599</td>\n",
       "      <td>0.022983</td>\n",
       "      <td>0.082060</td>\n",
       "      <td>0.423008</td>\n",
       "      <td>0.036281</td>\n",
       "    </tr>\n",
       "    <tr>\n",
       "      <th>min</th>\n",
       "      <td>6.000000</td>\n",
       "      <td>-0.020466</td>\n",
       "      <td>-0.023518</td>\n",
       "      <td>-0.061491</td>\n",
       "      <td>0.000000</td>\n",
       "      <td>-0.004801</td>\n",
       "      <td>-0.004413</td>\n",
       "      <td>-0.004161</td>\n",
       "      <td>0.000375</td>\n",
       "      <td>-0.234207</td>\n",
       "      <td>-0.971000</td>\n",
       "      <td>0.000000</td>\n",
       "    </tr>\n",
       "    <tr>\n",
       "      <th>25%</th>\n",
       "      <td>66.000000</td>\n",
       "      <td>-0.005022</td>\n",
       "      <td>-0.004126</td>\n",
       "      <td>0.075876</td>\n",
       "      <td>0.080000</td>\n",
       "      <td>-0.000828</td>\n",
       "      <td>-0.001275</td>\n",
       "      <td>-0.001214</td>\n",
       "      <td>0.018749</td>\n",
       "      <td>-0.173954</td>\n",
       "      <td>-0.817000</td>\n",
       "      <td>0.000000</td>\n",
       "    </tr>\n",
       "    <tr>\n",
       "      <th>50%</th>\n",
       "      <td>134.000000</td>\n",
       "      <td>0.000648</td>\n",
       "      <td>0.002261</td>\n",
       "      <td>1.568556</td>\n",
       "      <td>85.260002</td>\n",
       "      <td>0.000223</td>\n",
       "      <td>-0.000081</td>\n",
       "      <td>-0.000036</td>\n",
       "      <td>0.033824</td>\n",
       "      <td>-0.138986</td>\n",
       "      <td>-0.756000</td>\n",
       "      <td>0.000000</td>\n",
       "    </tr>\n",
       "    <tr>\n",
       "      <th>75%</th>\n",
       "      <td>370.000000</td>\n",
       "      <td>0.007013</td>\n",
       "      <td>0.009642</td>\n",
       "      <td>1.570579</td>\n",
       "      <td>92.820000</td>\n",
       "      <td>0.001211</td>\n",
       "      <td>0.001067</td>\n",
       "      <td>0.000924</td>\n",
       "      <td>0.050225</td>\n",
       "      <td>-0.063068</td>\n",
       "      <td>0.024000</td>\n",
       "      <td>0.000000</td>\n",
       "    </tr>\n",
       "    <tr>\n",
       "      <th>max</th>\n",
       "      <td>514.000000</td>\n",
       "      <td>0.023513</td>\n",
       "      <td>0.027969</td>\n",
       "      <td>1.581190</td>\n",
       "      <td>359.989990</td>\n",
       "      <td>0.004769</td>\n",
       "      <td>0.005313</td>\n",
       "      <td>0.004973</td>\n",
       "      <td>0.128819</td>\n",
       "      <td>0.135915</td>\n",
       "      <td>0.361000</td>\n",
       "      <td>0.120000</td>\n",
       "    </tr>\n",
       "  </tbody>\n",
       "</table>\n",
       "</div>"
      ],
      "text/plain": [
       "                 id          roll         pitch           yaw       heading  \\\n",
       "count  33017.000000  33017.000000  33017.000000  33017.000000  33017.000000   \n",
       "mean     207.405155      0.000806      0.002833      0.844894    115.250263   \n",
       "std      165.402414      0.008437      0.009592      0.762674    129.866613   \n",
       "min        6.000000     -0.020466     -0.023518     -0.061491      0.000000   \n",
       "25%       66.000000     -0.005022     -0.004126      0.075876      0.080000   \n",
       "50%      134.000000      0.000648      0.002261      1.568556     85.260002   \n",
       "75%      370.000000      0.007013      0.009642      1.570579     92.820000   \n",
       "max      514.000000      0.023513      0.027969      1.581190    359.989990   \n",
       "\n",
       "           rollRate     pitchRate       yawRate   groundSpeed     climbRate  \\\n",
       "count  33017.000000  33017.000000  33017.000000  33017.000000  33017.000000   \n",
       "mean       0.000154     -0.000066     -0.000037      0.037203     -0.111073   \n",
       "std        0.001544      0.001591      0.001599      0.022983      0.082060   \n",
       "min       -0.004801     -0.004413     -0.004161      0.000375     -0.234207   \n",
       "25%       -0.000828     -0.001275     -0.001214      0.018749     -0.173954   \n",
       "50%        0.000223     -0.000081     -0.000036      0.033824     -0.138986   \n",
       "75%        0.001211      0.001067      0.000924      0.050225     -0.063068   \n",
       "max        0.004769      0.005313      0.004973      0.128819      0.135915   \n",
       "\n",
       "       altitudeRelative   throttlePct  \n",
       "count      33017.000000  33017.000000  \n",
       "mean          -0.528727      0.012212  \n",
       "std            0.423008      0.036281  \n",
       "min           -0.971000      0.000000  \n",
       "25%           -0.817000      0.000000  \n",
       "50%           -0.756000      0.000000  \n",
       "75%            0.024000      0.000000  \n",
       "max            0.361000      0.120000  "
      ]
     },
     "execution_count": 34,
     "metadata": {},
     "output_type": "execute_result"
    }
   ],
   "source": [
    "df[df['error']==False].describe()"
   ]
  },
  {
   "cell_type": "code",
   "execution_count": 35,
   "metadata": {
    "scrolled": true
   },
   "outputs": [
    {
     "data": {
      "text/html": [
       "<div>\n",
       "<style scoped>\n",
       "    .dataframe tbody tr th:only-of-type {\n",
       "        vertical-align: middle;\n",
       "    }\n",
       "\n",
       "    .dataframe tbody tr th {\n",
       "        vertical-align: top;\n",
       "    }\n",
       "\n",
       "    .dataframe thead th {\n",
       "        text-align: right;\n",
       "    }\n",
       "</style>\n",
       "<table border=\"1\" class=\"dataframe\">\n",
       "  <thead>\n",
       "    <tr style=\"text-align: right;\">\n",
       "      <th></th>\n",
       "      <th>id</th>\n",
       "      <th>roll</th>\n",
       "      <th>pitch</th>\n",
       "      <th>yaw</th>\n",
       "      <th>heading</th>\n",
       "      <th>rollRate</th>\n",
       "      <th>pitchRate</th>\n",
       "      <th>yawRate</th>\n",
       "      <th>groundSpeed</th>\n",
       "      <th>climbRate</th>\n",
       "      <th>altitudeRelative</th>\n",
       "      <th>throttlePct</th>\n",
       "    </tr>\n",
       "  </thead>\n",
       "  <tbody>\n",
       "    <tr>\n",
       "      <th>count</th>\n",
       "      <td>14365.000000</td>\n",
       "      <td>14365.000000</td>\n",
       "      <td>14365.000000</td>\n",
       "      <td>0.0</td>\n",
       "      <td>14365.000000</td>\n",
       "      <td>14365.000000</td>\n",
       "      <td>14365.000000</td>\n",
       "      <td>14365.000000</td>\n",
       "      <td>14365.000000</td>\n",
       "      <td>14365.000000</td>\n",
       "      <td>14365.000000</td>\n",
       "      <td>14365.000000</td>\n",
       "    </tr>\n",
       "    <tr>\n",
       "      <th>mean</th>\n",
       "      <td>195.420814</td>\n",
       "      <td>0.005449</td>\n",
       "      <td>0.025506</td>\n",
       "      <td>NaN</td>\n",
       "      <td>735.734097</td>\n",
       "      <td>-0.000550</td>\n",
       "      <td>0.005557</td>\n",
       "      <td>0.001593</td>\n",
       "      <td>6.001710</td>\n",
       "      <td>-0.179220</td>\n",
       "      <td>38.257504</td>\n",
       "      <td>3.387154</td>\n",
       "    </tr>\n",
       "    <tr>\n",
       "      <th>std</th>\n",
       "      <td>164.287193</td>\n",
       "      <td>0.434786</td>\n",
       "      <td>0.457408</td>\n",
       "      <td>NaN</td>\n",
       "      <td>699.536821</td>\n",
       "      <td>0.770115</td>\n",
       "      <td>0.794651</td>\n",
       "      <td>0.084414</td>\n",
       "      <td>7.555147</td>\n",
       "      <td>2.205264</td>\n",
       "      <td>36.822243</td>\n",
       "      <td>0.491505</td>\n",
       "    </tr>\n",
       "    <tr>\n",
       "      <th>min</th>\n",
       "      <td>0.000000</td>\n",
       "      <td>-1.895378</td>\n",
       "      <td>-1.931535</td>\n",
       "      <td>NaN</td>\n",
       "      <td>0.000000</td>\n",
       "      <td>-2.660523</td>\n",
       "      <td>-2.954048</td>\n",
       "      <td>-0.675547</td>\n",
       "      <td>0.000929</td>\n",
       "      <td>-6.530260</td>\n",
       "      <td>-6.266885</td>\n",
       "      <td>0.000000</td>\n",
       "    </tr>\n",
       "    <tr>\n",
       "      <th>25%</th>\n",
       "      <td>60.000000</td>\n",
       "      <td>-0.031026</td>\n",
       "      <td>-0.041849</td>\n",
       "      <td>NaN</td>\n",
       "      <td>416.440885</td>\n",
       "      <td>-0.023051</td>\n",
       "      <td>-0.022239</td>\n",
       "      <td>-0.007898</td>\n",
       "      <td>0.156115</td>\n",
       "      <td>-0.324221</td>\n",
       "      <td>14.393404</td>\n",
       "      <td>3.454232</td>\n",
       "    </tr>\n",
       "    <tr>\n",
       "      <th>50%</th>\n",
       "      <td>124.000000</td>\n",
       "      <td>0.001032</td>\n",
       "      <td>-0.000912</td>\n",
       "      <td>NaN</td>\n",
       "      <td>439.583728</td>\n",
       "      <td>-0.000062</td>\n",
       "      <td>0.000535</td>\n",
       "      <td>-0.000100</td>\n",
       "      <td>0.739665</td>\n",
       "      <td>-0.002159</td>\n",
       "      <td>29.682999</td>\n",
       "      <td>3.454312</td>\n",
       "    </tr>\n",
       "    <tr>\n",
       "      <th>75%</th>\n",
       "      <td>356.000000</td>\n",
       "      <td>0.038860</td>\n",
       "      <td>0.040421</td>\n",
       "      <td>NaN</td>\n",
       "      <td>1775.580784</td>\n",
       "      <td>0.023651</td>\n",
       "      <td>0.024089</td>\n",
       "      <td>0.007864</td>\n",
       "      <td>12.177888</td>\n",
       "      <td>0.287359</td>\n",
       "      <td>49.421213</td>\n",
       "      <td>3.503660</td>\n",
       "    </tr>\n",
       "    <tr>\n",
       "      <th>max</th>\n",
       "      <td>500.000000</td>\n",
       "      <td>1.898162</td>\n",
       "      <td>1.912334</td>\n",
       "      <td>NaN</td>\n",
       "      <td>1776.495326</td>\n",
       "      <td>2.641717</td>\n",
       "      <td>2.840332</td>\n",
       "      <td>4.658103</td>\n",
       "      <td>24.298469</td>\n",
       "      <td>14.658489</td>\n",
       "      <td>213.289180</td>\n",
       "      <td>4.391864</td>\n",
       "    </tr>\n",
       "  </tbody>\n",
       "</table>\n",
       "</div>"
      ],
      "text/plain": [
       "                 id          roll         pitch  yaw       heading  \\\n",
       "count  14365.000000  14365.000000  14365.000000  0.0  14365.000000   \n",
       "mean     195.420814      0.005449      0.025506  NaN    735.734097   \n",
       "std      164.287193      0.434786      0.457408  NaN    699.536821   \n",
       "min        0.000000     -1.895378     -1.931535  NaN      0.000000   \n",
       "25%       60.000000     -0.031026     -0.041849  NaN    416.440885   \n",
       "50%      124.000000      0.001032     -0.000912  NaN    439.583728   \n",
       "75%      356.000000      0.038860      0.040421  NaN   1775.580784   \n",
       "max      500.000000      1.898162      1.912334  NaN   1776.495326   \n",
       "\n",
       "           rollRate     pitchRate       yawRate   groundSpeed     climbRate  \\\n",
       "count  14365.000000  14365.000000  14365.000000  14365.000000  14365.000000   \n",
       "mean      -0.000550      0.005557      0.001593      6.001710     -0.179220   \n",
       "std        0.770115      0.794651      0.084414      7.555147      2.205264   \n",
       "min       -2.660523     -2.954048     -0.675547      0.000929     -6.530260   \n",
       "25%       -0.023051     -0.022239     -0.007898      0.156115     -0.324221   \n",
       "50%       -0.000062      0.000535     -0.000100      0.739665     -0.002159   \n",
       "75%        0.023651      0.024089      0.007864     12.177888      0.287359   \n",
       "max        2.641717      2.840332      4.658103     24.298469     14.658489   \n",
       "\n",
       "       altitudeRelative   throttlePct  \n",
       "count      14365.000000  14365.000000  \n",
       "mean          38.257504      3.387154  \n",
       "std           36.822243      0.491505  \n",
       "min           -6.266885      0.000000  \n",
       "25%           14.393404      3.454232  \n",
       "50%           29.682999      3.454312  \n",
       "75%           49.421213      3.503660  \n",
       "max          213.289180      4.391864  "
      ]
     },
     "execution_count": 35,
     "metadata": {},
     "output_type": "execute_result"
    }
   ],
   "source": [
    "df[df['error']==True].describe()"
   ]
  },
  {
   "cell_type": "code",
   "execution_count": 36,
   "metadata": {
    "colab": {
     "base_uri": "https://localhost:8080/"
    },
    "id": "yDdwkkVDY_j-",
    "outputId": "b5e99b2c-93c5-49ee-e1b2-d7f898d98034",
    "scrolled": true
   },
   "outputs": [
    {
     "name": "stdout",
     "output_type": "stream",
     "text": [
      "Rows: 47382\n",
      "   \n",
      "Columns: 14\n"
     ]
    }
   ],
   "source": [
    "df.pipe(shape)"
   ]
  },
  {
   "cell_type": "code",
   "execution_count": 37,
   "metadata": {
    "colab": {
     "base_uri": "https://localhost:8080/"
    },
    "id": "rMiUA9OnahUU",
    "outputId": "0035f1f2-5252-4c67-c2ee-39800d14b742",
    "scrolled": true
   },
   "outputs": [
    {
     "name": "stdout",
     "output_type": "stream",
     "text": [
      "<class 'pandas.core.frame.DataFrame'>\n",
      "RangeIndex: 47382 entries, 0 to 47381\n",
      "Data columns (total 14 columns):\n",
      " #   Column            Non-Null Count  Dtype  \n",
      "---  ------            --------------  -----  \n",
      " 0   id                47382 non-null  int64  \n",
      " 1   Type              47382 non-null  object \n",
      " 2   error             47382 non-null  bool   \n",
      " 3   roll              47382 non-null  float64\n",
      " 4   pitch             47382 non-null  float64\n",
      " 5   yaw               33017 non-null  float64\n",
      " 6   heading           47382 non-null  float64\n",
      " 7   rollRate          47382 non-null  float64\n",
      " 8   pitchRate         47382 non-null  float64\n",
      " 9   yawRate           47382 non-null  float64\n",
      " 10  groundSpeed       47382 non-null  float64\n",
      " 11  climbRate         47382 non-null  float64\n",
      " 12  altitudeRelative  47382 non-null  float64\n",
      " 13  throttlePct       47382 non-null  float64\n",
      "dtypes: bool(1), float64(11), int64(1), object(1)\n",
      "memory usage: 4.7+ MB\n",
      "None\n"
     ]
    }
   ],
   "source": [
    "df.pipe(info)"
   ]
  },
  {
   "cell_type": "code",
   "execution_count": 38,
   "metadata": {
    "colab": {
     "base_uri": "https://localhost:8080/"
    },
    "id": "QnC-VacjanCt",
    "outputId": "e63f4af6-821d-491c-fcb2-305e53e83765",
    "scrolled": true
   },
   "outputs": [
    {
     "name": "stdout",
     "output_type": "stream",
     "text": [
      "id                      0\n",
      "Type                    0\n",
      "error                   0\n",
      "roll                    0\n",
      "pitch                   0\n",
      "yaw                 14365\n",
      "heading                 0\n",
      "rollRate                0\n",
      "pitchRate               0\n",
      "yawRate                 0\n",
      "groundSpeed             0\n",
      "climbRate               0\n",
      "altitudeRelative        0\n",
      "throttlePct             0\n",
      "dtype: int64\n"
     ]
    }
   ],
   "source": [
    "df.pipe(nulls_qtd)"
   ]
  },
  {
   "cell_type": "code",
   "execution_count": 41,
   "metadata": {},
   "outputs": [
    {
     "data": {
      "text/plain": [
       "156"
      ]
     },
     "execution_count": 41,
     "metadata": {},
     "output_type": "execute_result"
    }
   ],
   "source": [
    "df[df[\"yaw\"].isnull()][\"id\"].nunique()"
   ]
  },
  {
   "cell_type": "code",
   "execution_count": 43,
   "metadata": {},
   "outputs": [],
   "source": [
    "df[\"yaw\"] = df[\"yaw\"].fillna(0)"
   ]
  },
  {
   "cell_type": "code",
   "execution_count": 44,
   "metadata": {
    "colab": {
     "base_uri": "https://localhost:8080/",
     "height": 0
    },
    "id": "A9e4ItPXd10F",
    "outputId": "dbd9ce52-d70b-4560-a961-cf3b67929f79",
    "scrolled": false
   },
   "outputs": [
    {
     "data": {
      "text/plain": [
       "<AxesSubplot:>"
      ]
     },
     "execution_count": 44,
     "metadata": {},
     "output_type": "execute_result"
    },
    {
     "data": {
      "image/png": "[encoded data removed]",
      "text/plain": [
       "<Figure size 2000x1200 with 2 Axes>"
      ]
     },
     "metadata": {},
     "output_type": "display_data"
    }
   ],
   "source": [
    "plt.figure(figsize=(20,12))\n",
    "sns.heatmap(df.drop(['id'], axis=1).corr(), annot=True, cmap='jet')"
   ]
  },
  {
   "cell_type": "markdown",
   "metadata": {
    "id": "9hSPteFylfJ0"
   },
   "source": [
    "# 3- Anomaly Detection (LSTM)"
   ]
  },
  {
   "cell_type": "code",
   "execution_count": 45,
   "metadata": {
    "colab": {
     "base_uri": "https://localhost:8080/",
     "height": 424
    },
    "id": "9L5FpTBic9ic",
    "outputId": "d27ca05c-39eb-472f-9adc-68fb5dca7b99",
    "scrolled": true
   },
   "outputs": [
    {
     "name": "stderr",
     "output_type": "stream",
     "text": [
      "/home/vannini/.local/lib/python3.7/site-packages/pandas/core/indexing.py:1773: SettingWithCopyWarning: \n",
      "A value is trying to be set on a copy of a slice from a DataFrame.\n",
      "Try using .loc[row_indexer,col_indexer] = value instead\n",
      "\n",
      "See the caveats in the documentation: https://pandas.pydata.org/pandas-docs/stable/user_guide/indexing.html#returning-a-view-versus-a-copy\n",
      "  self._setitem_single_column(ilocs[0], value, pi)\n"
     ]
    },
    {
     "data": {
      "text/html": [
       "<div>\n",
       "<style scoped>\n",
       "    .dataframe tbody tr th:only-of-type {\n",
       "        vertical-align: middle;\n",
       "    }\n",
       "\n",
       "    .dataframe tbody tr th {\n",
       "        vertical-align: top;\n",
       "    }\n",
       "\n",
       "    .dataframe thead th {\n",
       "        text-align: right;\n",
       "    }\n",
       "</style>\n",
       "<table border=\"1\" class=\"dataframe\">\n",
       "  <thead>\n",
       "    <tr style=\"text-align: right;\">\n",
       "      <th></th>\n",
       "      <th>roll</th>\n",
       "      <th>pitch</th>\n",
       "      <th>yaw</th>\n",
       "      <th>error</th>\n",
       "    </tr>\n",
       "  </thead>\n",
       "  <tbody>\n",
       "    <tr>\n",
       "      <th>0</th>\n",
       "      <td>0.016010</td>\n",
       "      <td>-0.007265</td>\n",
       "      <td>0.000000</td>\n",
       "      <td>1</td>\n",
       "    </tr>\n",
       "    <tr>\n",
       "      <th>1</th>\n",
       "      <td>0.016027</td>\n",
       "      <td>-0.005862</td>\n",
       "      <td>0.000000</td>\n",
       "      <td>1</td>\n",
       "    </tr>\n",
       "    <tr>\n",
       "      <th>2</th>\n",
       "      <td>0.015220</td>\n",
       "      <td>-0.004188</td>\n",
       "      <td>0.000000</td>\n",
       "      <td>1</td>\n",
       "    </tr>\n",
       "    <tr>\n",
       "      <th>3</th>\n",
       "      <td>0.014331</td>\n",
       "      <td>-0.005217</td>\n",
       "      <td>0.000000</td>\n",
       "      <td>1</td>\n",
       "    </tr>\n",
       "    <tr>\n",
       "      <th>4</th>\n",
       "      <td>-0.115646</td>\n",
       "      <td>-0.202248</td>\n",
       "      <td>0.000000</td>\n",
       "      <td>1</td>\n",
       "    </tr>\n",
       "    <tr>\n",
       "      <th>...</th>\n",
       "      <td>...</td>\n",
       "      <td>...</td>\n",
       "      <td>...</td>\n",
       "      <td>...</td>\n",
       "    </tr>\n",
       "    <tr>\n",
       "      <th>47377</th>\n",
       "      <td>-0.008456</td>\n",
       "      <td>0.008655</td>\n",
       "      <td>1.567685</td>\n",
       "      <td>0</td>\n",
       "    </tr>\n",
       "    <tr>\n",
       "      <th>47378</th>\n",
       "      <td>-0.008456</td>\n",
       "      <td>0.008655</td>\n",
       "      <td>1.567685</td>\n",
       "      <td>0</td>\n",
       "    </tr>\n",
       "    <tr>\n",
       "      <th>47379</th>\n",
       "      <td>-0.008456</td>\n",
       "      <td>0.008655</td>\n",
       "      <td>1.567685</td>\n",
       "      <td>0</td>\n",
       "    </tr>\n",
       "    <tr>\n",
       "      <th>47380</th>\n",
       "      <td>-0.008456</td>\n",
       "      <td>0.008655</td>\n",
       "      <td>1.567685</td>\n",
       "      <td>0</td>\n",
       "    </tr>\n",
       "    <tr>\n",
       "      <th>47381</th>\n",
       "      <td>-0.008456</td>\n",
       "      <td>0.008655</td>\n",
       "      <td>1.567685</td>\n",
       "      <td>0</td>\n",
       "    </tr>\n",
       "  </tbody>\n",
       "</table>\n",
       "<p>47382 rows × 4 columns</p>\n",
       "</div>"
      ],
      "text/plain": [
       "           roll     pitch       yaw  error\n",
       "0      0.016010 -0.007265  0.000000      1\n",
       "1      0.016027 -0.005862  0.000000      1\n",
       "2      0.015220 -0.004188  0.000000      1\n",
       "3      0.014331 -0.005217  0.000000      1\n",
       "4     -0.115646 -0.202248  0.000000      1\n",
       "...         ...       ...       ...    ...\n",
       "47377 -0.008456  0.008655  1.567685      0\n",
       "47378 -0.008456  0.008655  1.567685      0\n",
       "47379 -0.008456  0.008655  1.567685      0\n",
       "47380 -0.008456  0.008655  1.567685      0\n",
       "47381 -0.008456  0.008655  1.567685      0\n",
       "\n",
       "[47382 rows x 4 columns]"
      ]
     },
     "execution_count": 45,
     "metadata": {},
     "output_type": "execute_result"
    }
   ],
   "source": [
    "df_reduced = df.pipe(select_columns, ['roll', 'pitch', 'yaw', 'error'])\n",
    "df_reduced.loc[:,'error'] = df_reduced['error'].astype(int)\n",
    "df_reduced"
   ]
  },
  {
   "cell_type": "code",
   "execution_count": 46,
   "metadata": {
    "colab": {
     "base_uri": "https://localhost:8080/",
     "height": 424
    },
    "id": "tu_VJJLzz-0a",
    "outputId": "56a7e004-037c-479c-d136-aec4d8f56055",
    "scrolled": true
   },
   "outputs": [
    {
     "data": {
      "text/html": [
       "<div>\n",
       "<style scoped>\n",
       "    .dataframe tbody tr th:only-of-type {\n",
       "        vertical-align: middle;\n",
       "    }\n",
       "\n",
       "    .dataframe tbody tr th {\n",
       "        vertical-align: top;\n",
       "    }\n",
       "\n",
       "    .dataframe thead th {\n",
       "        text-align: right;\n",
       "    }\n",
       "</style>\n",
       "<table border=\"1\" class=\"dataframe\">\n",
       "  <thead>\n",
       "    <tr style=\"text-align: right;\">\n",
       "      <th></th>\n",
       "      <th>roll</th>\n",
       "      <th>pitch</th>\n",
       "      <th>yaw</th>\n",
       "      <th>error</th>\n",
       "    </tr>\n",
       "  </thead>\n",
       "  <tbody>\n",
       "    <tr>\n",
       "      <th>0</th>\n",
       "      <td>0.057604</td>\n",
       "      <td>-0.067298</td>\n",
       "      <td>-0.789484</td>\n",
       "      <td>1.516059</td>\n",
       "    </tr>\n",
       "    <tr>\n",
       "      <th>1</th>\n",
       "      <td>0.057676</td>\n",
       "      <td>-0.061733</td>\n",
       "      <td>-0.789484</td>\n",
       "      <td>1.516059</td>\n",
       "    </tr>\n",
       "    <tr>\n",
       "      <th>2</th>\n",
       "      <td>0.054305</td>\n",
       "      <td>-0.055095</td>\n",
       "      <td>-0.789484</td>\n",
       "      <td>1.516059</td>\n",
       "    </tr>\n",
       "    <tr>\n",
       "      <th>3</th>\n",
       "      <td>0.050593</td>\n",
       "      <td>-0.059178</td>\n",
       "      <td>-0.789484</td>\n",
       "      <td>1.516059</td>\n",
       "    </tr>\n",
       "    <tr>\n",
       "      <th>4</th>\n",
       "      <td>-0.492098</td>\n",
       "      <td>-0.840460</td>\n",
       "      <td>-0.789484</td>\n",
       "      <td>1.516059</td>\n",
       "    </tr>\n",
       "    <tr>\n",
       "      <th>...</th>\n",
       "      <td>...</td>\n",
       "      <td>...</td>\n",
       "      <td>...</td>\n",
       "      <td>...</td>\n",
       "    </tr>\n",
       "    <tr>\n",
       "      <th>47377</th>\n",
       "      <td>-0.044548</td>\n",
       "      <td>-0.004169</td>\n",
       "      <td>1.312723</td>\n",
       "      <td>-0.659605</td>\n",
       "    </tr>\n",
       "    <tr>\n",
       "      <th>47378</th>\n",
       "      <td>-0.044548</td>\n",
       "      <td>-0.004169</td>\n",
       "      <td>1.312723</td>\n",
       "      <td>-0.659605</td>\n",
       "    </tr>\n",
       "    <tr>\n",
       "      <th>47379</th>\n",
       "      <td>-0.044548</td>\n",
       "      <td>-0.004169</td>\n",
       "      <td>1.312723</td>\n",
       "      <td>-0.659605</td>\n",
       "    </tr>\n",
       "    <tr>\n",
       "      <th>47380</th>\n",
       "      <td>-0.044548</td>\n",
       "      <td>-0.004169</td>\n",
       "      <td>1.312723</td>\n",
       "      <td>-0.659605</td>\n",
       "    </tr>\n",
       "    <tr>\n",
       "      <th>47381</th>\n",
       "      <td>-0.044548</td>\n",
       "      <td>-0.004169</td>\n",
       "      <td>1.312723</td>\n",
       "      <td>-0.659605</td>\n",
       "    </tr>\n",
       "  </tbody>\n",
       "</table>\n",
       "<p>47382 rows × 4 columns</p>\n",
       "</div>"
      ],
      "text/plain": [
       "           roll     pitch       yaw     error\n",
       "0      0.057604 -0.067298 -0.789484  1.516059\n",
       "1      0.057676 -0.061733 -0.789484  1.516059\n",
       "2      0.054305 -0.055095 -0.789484  1.516059\n",
       "3      0.050593 -0.059178 -0.789484  1.516059\n",
       "4     -0.492098 -0.840460 -0.789484  1.516059\n",
       "...         ...       ...       ...       ...\n",
       "47377 -0.044548 -0.004169  1.312723 -0.659605\n",
       "47378 -0.044548 -0.004169  1.312723 -0.659605\n",
       "47379 -0.044548 -0.004169  1.312723 -0.659605\n",
       "47380 -0.044548 -0.004169  1.312723 -0.659605\n",
       "47381 -0.044548 -0.004169  1.312723 -0.659605\n",
       "\n",
       "[47382 rows x 4 columns]"
      ]
     },
     "execution_count": 46,
     "metadata": {},
     "output_type": "execute_result"
    }
   ],
   "source": [
    "#Preparing the data for LSTM model\n",
    "data_n = df_reduced\n",
    "min_max_scaler = preprocessing.StandardScaler()\n",
    "np_scaled = min_max_scaler.fit_transform(data_n)\n",
    "data_n = pd.DataFrame(np_scaled, columns=data_n.columns)\n",
    "data_n"
   ]
  },
  {
   "cell_type": "code",
   "execution_count": 79,
   "metadata": {},
   "outputs": [
    {
     "data": {
      "text/html": [
       "<div>\n",
       "<style scoped>\n",
       "    .dataframe tbody tr th:only-of-type {\n",
       "        vertical-align: middle;\n",
       "    }\n",
       "\n",
       "    .dataframe tbody tr th {\n",
       "        vertical-align: top;\n",
       "    }\n",
       "\n",
       "    .dataframe thead th {\n",
       "        text-align: right;\n",
       "    }\n",
       "</style>\n",
       "<table border=\"1\" class=\"dataframe\">\n",
       "  <thead>\n",
       "    <tr style=\"text-align: right;\">\n",
       "      <th></th>\n",
       "      <th>roll</th>\n",
       "      <th>pitch</th>\n",
       "      <th>yaw</th>\n",
       "      <th>error</th>\n",
       "    </tr>\n",
       "  </thead>\n",
       "  <tbody>\n",
       "    <tr>\n",
       "      <th>count</th>\n",
       "      <td>4.738200e+04</td>\n",
       "      <td>4.738200e+04</td>\n",
       "      <td>4.738200e+04</td>\n",
       "      <td>4.738200e+04</td>\n",
       "    </tr>\n",
       "    <tr>\n",
       "      <th>mean</th>\n",
       "      <td>-7.198103e-18</td>\n",
       "      <td>-4.798735e-18</td>\n",
       "      <td>1.919494e-17</td>\n",
       "      <td>-8.157850e-17</td>\n",
       "    </tr>\n",
       "    <tr>\n",
       "      <th>std</th>\n",
       "      <td>1.000011e+00</td>\n",
       "      <td>1.000011e+00</td>\n",
       "      <td>1.000011e+00</td>\n",
       "      <td>1.000011e+00</td>\n",
       "    </tr>\n",
       "    <tr>\n",
       "      <th>min</th>\n",
       "      <td>-7.923031e+00</td>\n",
       "      <td>-7.697578e+00</td>\n",
       "      <td>-8.719406e-01</td>\n",
       "      <td>-6.596051e-01</td>\n",
       "    </tr>\n",
       "    <tr>\n",
       "      <th>25%</th>\n",
       "      <td>-3.817456e-02</td>\n",
       "      <td>-6.508191e-02</td>\n",
       "      <td>-7.894836e-01</td>\n",
       "      <td>-6.596051e-01</td>\n",
       "    </tr>\n",
       "    <tr>\n",
       "      <th>50%</th>\n",
       "      <td>-6.491266e-03</td>\n",
       "      <td>-3.014948e-02</td>\n",
       "      <td>-6.799582e-01</td>\n",
       "      <td>-6.596051e-01</td>\n",
       "    </tr>\n",
       "    <tr>\n",
       "      <th>75%</th>\n",
       "      <td>2.938455e-02</td>\n",
       "      <td>9.896253e-03</td>\n",
       "      <td>1.315900e+00</td>\n",
       "      <td>1.516059e+00</td>\n",
       "    </tr>\n",
       "    <tr>\n",
       "      <th>max</th>\n",
       "      <td>7.916171e+00</td>\n",
       "      <td>7.544461e+00</td>\n",
       "      <td>1.330833e+00</td>\n",
       "      <td>1.516059e+00</td>\n",
       "    </tr>\n",
       "  </tbody>\n",
       "</table>\n",
       "</div>"
      ],
      "text/plain": [
       "               roll         pitch           yaw         error\n",
       "count  4.738200e+04  4.738200e+04  4.738200e+04  4.738200e+04\n",
       "mean  -7.198103e-18 -4.798735e-18  1.919494e-17 -8.157850e-17\n",
       "std    1.000011e+00  1.000011e+00  1.000011e+00  1.000011e+00\n",
       "min   -7.923031e+00 -7.697578e+00 -8.719406e-01 -6.596051e-01\n",
       "25%   -3.817456e-02 -6.508191e-02 -7.894836e-01 -6.596051e-01\n",
       "50%   -6.491266e-03 -3.014948e-02 -6.799582e-01 -6.596051e-01\n",
       "75%    2.938455e-02  9.896253e-03  1.315900e+00  1.516059e+00\n",
       "max    7.916171e+00  7.544461e+00  1.330833e+00  1.516059e+00"
      ]
     },
     "execution_count": 79,
     "metadata": {},
     "output_type": "execute_result"
    }
   ],
   "source": [
    "data_n.describe()"
   ]
  },
  {
   "cell_type": "code",
   "execution_count": 47,
   "metadata": {
    "colab": {
     "base_uri": "https://localhost:8080/",
     "height": 424
    },
    "id": "xBH_j5sm-d1x",
    "outputId": "8fd8f2de-8b47-46b8-ca61-f1f5bdf4870d",
    "scrolled": false
   },
   "outputs": [],
   "source": [
    "df_pca_input = df.pipe(select_columns, ['roll','pitch','yaw','rollRate','pitchRate','yawRate','climbRate','groundSpeed'])"
   ]
  },
  {
   "cell_type": "code",
   "execution_count": 48,
   "metadata": {
    "colab": {
     "base_uri": "https://localhost:8080/",
     "height": 424
    },
    "id": "O10lhSgn-0mK",
    "outputId": "67998a2f-b0b9-4289-ca0c-f58dcbb9eef0"
   },
   "outputs": [],
   "source": [
    "min_max_scaler = preprocessing.StandardScaler()\n",
    "np_scaled = min_max_scaler.fit_transform(df_pca_input)\n",
    "data_scaled_pca = pd.DataFrame(np_scaled)"
   ]
  },
  {
   "cell_type": "code",
   "execution_count": 49,
   "metadata": {
    "colab": {
     "base_uri": "https://localhost:8080/"
    },
    "id": "SWrTPXBg8hq0",
    "outputId": "f5282396-1d2e-4f0c-de2f-7b4bba6a0672"
   },
   "outputs": [
    {
     "data": {
      "text/plain": [
       "PCA(n_components=3)"
      ]
     },
     "execution_count": 49,
     "metadata": {},
     "output_type": "execute_result"
    }
   ],
   "source": [
    "pca = PCA(n_components = 3)\n",
    "pca.fit(data_scaled_pca)"
   ]
  },
  {
   "cell_type": "code",
   "execution_count": 50,
   "metadata": {
    "colab": {
     "base_uri": "https://localhost:8080/"
    },
    "id": "XaCOOCjV9B9h",
    "outputId": "47ef6458-e43a-446a-ee85-201aa61904b3"
   },
   "outputs": [],
   "source": [
    "df_pca = pca.transform(data_scaled_pca)\n"
   ]
  },
  {
   "cell_type": "markdown",
   "metadata": {
    "id": "3DD0qF-YqpQe"
   },
   "source": [
    "# LSTM Model - Pitch/Row/Yaw"
   ]
  },
  {
   "cell_type": "code",
   "execution_count": 51,
   "metadata": {},
   "outputs": [
    {
     "name": "stdout",
     "output_type": "stream",
     "text": [
      "       roll     pitch       yaw\n",
      "0  0.057604 -0.067298 -0.789484\n",
      "1  0.057676 -0.061733 -0.789484\n",
      "2  0.054305 -0.055095 -0.789484\n",
      "3  0.050593 -0.059178 -0.789484\n",
      "4 -0.492098 -0.840460 -0.789484\n",
      "\n",
      "\n",
      "\n",
      "0    1.516059\n",
      "1    1.516059\n",
      "2    1.516059\n",
      "3    1.516059\n",
      "4    1.516059\n",
      "Name: error, dtype: float64\n"
     ]
    }
   ],
   "source": [
    "x = data_n.drop(['error'],axis=1)\n",
    "y = data_n.error\n",
    "\n",
    "print(x.head())\n",
    "print('\\n\\n')\n",
    "print(y.head())"
   ]
  },
  {
   "cell_type": "code",
   "execution_count": 52,
   "metadata": {},
   "outputs": [
    {
     "name": "stdout",
     "output_type": "stream",
     "text": [
      "(35536, 3)\n",
      "(35536,)\n",
      "(11846, 3)\n",
      "(11846,)\n"
     ]
    }
   ],
   "source": [
    "# from sklearn.model_selection import train_test_split\n",
    "x_train, x_test, y_train, y_test = train_test_split(x, y, test_size=0.25, random_state=33)\n",
    "\n",
    "print(x_train.shape)\n",
    "print(y_train.shape)\n",
    "print(x_test.shape)\n",
    "print(y_test.shape)"
   ]
  },
  {
   "cell_type": "code",
   "execution_count": 53,
   "metadata": {},
   "outputs": [],
   "source": [
    "# Convert X_train and X_test to NumPy arrays\n",
    "x_train = x_train.values\n",
    "x_test = x_test.values\n",
    "\n",
    "# Reshape your input data\n",
    "x_train = x_train.reshape((x_train.shape[0], x_train.shape[1], 1))\n",
    "x_test = x_test.reshape((x_test.shape[0], x_test.shape[1], 1))\n",
    "\n",
    "# Reshape y_train\n",
    "y_train = np.array(y_train)\n",
    "y_train = np.reshape(y_train, (y_train.shape[0], 1))\n",
    "\n",
    "# Reshape y_test\n",
    "y_test = np.array(y_test)\n",
    "y_test = np.reshape(y_test, (y_test.shape[0], 1))"
   ]
  },
  {
   "cell_type": "code",
   "execution_count": 54,
   "metadata": {
    "colab": {
     "base_uri": "https://localhost:8080/"
    },
    "id": "l3e0989htO0D",
    "outputId": "28b977ea-826d-4ec3-ba07-75fa807ad8b1"
   },
   "outputs": [
    {
     "name": "stdout",
     "output_type": "stream",
     "text": [
      "Train relation: 74.99894474695031% of the data\n",
      "Test relation: 25.00105525304968% of the data\n"
     ]
    }
   ],
   "source": [
    "sz = x_train.shape[0] + x_test.shape[0]\n",
    "\n",
    "print(f'Train relation: {(x_train.shape[0]/sz)*100}% of the data')\n",
    "print(f'Test relation: {(x_test.shape[0]/sz)*100}% of the data')"
   ]
  },
  {
   "cell_type": "code",
   "execution_count": 55,
   "metadata": {
    "colab": {
     "base_uri": "https://localhost:8080/"
    },
    "id": "ehcrE5Ee0paC",
    "outputId": "5ae66ce0-5081-47e3-ef27-4c40eacf5a54"
   },
   "outputs": [
    {
     "name": "stdout",
     "output_type": "stream",
     "text": [
      "compilation time : 0.02238750457763672\n"
     ]
    }
   ],
   "source": [
    "#Building the model\n",
    "model = Sequential()\n",
    "\n",
    "\n",
    "model.add(LSTM(360, return_sequences=False))\n",
    "model.add(Dropout(0.2))\n",
    "\n",
    "model.add(Dense(units=1))\n",
    "model.add(Activation('linear'))\n",
    "\n",
    "start = time.time()\n",
    "model.compile(loss='mse', optimizer='rmsprop')\n",
    "print('compilation time : {}'.format(time.time() - start))"
   ]
  },
  {
   "cell_type": "code",
   "execution_count": 56,
   "metadata": {
    "colab": {
     "base_uri": "https://localhost:8080/"
    },
    "id": "jnl3X4OLzEt5",
    "outputId": "276b8b7e-60ce-4503-8b58-a6c795c449a6",
    "scrolled": false
   },
   "outputs": [
    {
     "name": "stdout",
     "output_type": "stream",
     "text": [
      "Epoch 1/30\n",
      "534/534 [==============================] - 42s 70ms/step - loss: 0.6391 - val_loss: 0.5643\n",
      "Epoch 2/30\n",
      "534/534 [==============================] - 42s 79ms/step - loss: 0.4933 - val_loss: 0.3895\n",
      "Epoch 3/30\n",
      "534/534 [==============================] - 39s 72ms/step - loss: 0.3009 - val_loss: 0.3190\n",
      "Epoch 4/30\n",
      "534/534 [==============================] - 35s 65ms/step - loss: 0.2226 - val_loss: 0.1693\n",
      "Epoch 5/30\n",
      "534/534 [==============================] - 37s 69ms/step - loss: 0.1975 - val_loss: 0.1568\n",
      "Epoch 6/30\n",
      "534/534 [==============================] - 35s 65ms/step - loss: 0.1857 - val_loss: 0.1480\n",
      "Epoch 7/30\n",
      "534/534 [==============================] - 34s 63ms/step - loss: 0.1816 - val_loss: 0.1467\n",
      "Epoch 8/30\n",
      "534/534 [==============================] - 36s 67ms/step - loss: 0.1745 - val_loss: 0.1437\n",
      "Epoch 9/30\n",
      "534/534 [==============================] - 31s 59ms/step - loss: 0.1692 - val_loss: 0.1610\n",
      "Epoch 10/30\n",
      "534/534 [==============================] - 33s 61ms/step - loss: 0.1634 - val_loss: 0.1272\n",
      "Epoch 11/30\n",
      "534/534 [==============================] - 32s 60ms/step - loss: 0.1581 - val_loss: 0.1195\n",
      "Epoch 12/30\n",
      "534/534 [==============================] - 33s 62ms/step - loss: 0.1557 - val_loss: 0.1312\n",
      "Epoch 13/30\n",
      "534/534 [==============================] - 35s 65ms/step - loss: 0.1514 - val_loss: 0.1215\n",
      "Epoch 14/30\n",
      "534/534 [==============================] - 32s 61ms/step - loss: 0.1479 - val_loss: 0.1269\n",
      "Epoch 15/30\n",
      "534/534 [==============================] - 31s 59ms/step - loss: 0.1484 - val_loss: 0.1272\n",
      "Epoch 16/30\n",
      "534/534 [==============================] - 32s 60ms/step - loss: 0.1441 - val_loss: 0.1152\n",
      "Epoch 17/30\n",
      "534/534 [==============================] - 31s 58ms/step - loss: 0.1415 - val_loss: 0.1318\n",
      "Epoch 18/30\n",
      "534/534 [==============================] - 31s 58ms/step - loss: 0.1414 - val_loss: 0.1129\n",
      "Epoch 19/30\n",
      "534/534 [==============================] - 31s 59ms/step - loss: 0.1379 - val_loss: 0.1236\n",
      "Epoch 20/30\n",
      "534/534 [==============================] - 31s 58ms/step - loss: 0.1368 - val_loss: 0.1082\n",
      "Epoch 21/30\n",
      "534/534 [==============================] - 33s 61ms/step - loss: 0.1351 - val_loss: 0.1244\n",
      "Epoch 22/30\n",
      "534/534 [==============================] - 32s 60ms/step - loss: 0.1325 - val_loss: 0.1486\n",
      "Epoch 23/30\n",
      "534/534 [==============================] - 32s 59ms/step - loss: 0.1315 - val_loss: 0.1020\n",
      "Epoch 24/30\n",
      "534/534 [==============================] - 32s 59ms/step - loss: 0.1299 - val_loss: 0.1046\n",
      "Epoch 25/30\n",
      "534/534 [==============================] - 33s 62ms/step - loss: 0.1278 - val_loss: 0.1026\n",
      "Epoch 26/30\n",
      "534/534 [==============================] - 31s 58ms/step - loss: 0.1262 - val_loss: 0.0990\n",
      "Epoch 27/30\n",
      "534/534 [==============================] - 32s 59ms/step - loss: 0.1254 - val_loss: 0.1045\n",
      "Epoch 28/30\n",
      "534/534 [==============================] - 31s 57ms/step - loss: 0.1227 - val_loss: 0.0971\n",
      "Epoch 29/30\n",
      "534/534 [==============================] - 31s 59ms/step - loss: 0.1213 - val_loss: 0.1666\n",
      "Epoch 30/30\n",
      "534/534 [==============================] - 30s 56ms/step - loss: 0.1205 - val_loss: 0.1049\n"
     ]
    },
    {
     "data": {
      "text/plain": [
       "<keras.callbacks.History at 0x7f9b790d6950>"
      ]
     },
     "execution_count": 56,
     "metadata": {},
     "output_type": "execute_result"
    }
   ],
   "source": [
    "model.fit(x_train, y_train, batch_size=60, epochs=30, validation_split=0.1)"
   ]
  },
  {
   "cell_type": "code",
   "execution_count": 57,
   "metadata": {
    "colab": {
     "base_uri": "https://localhost:8080/",
     "height": 351
    },
    "id": "irVEhC7cot2h",
    "outputId": "447bd285-2c2d-447d-f73d-1a56aacb0cb0",
    "scrolled": false
   },
   "outputs": [
    {
     "data": {
      "text/plain": [
       "<matplotlib.legend.Legend at 0x7f9b78357fd0>"
      ]
     },
     "execution_count": 57,
     "metadata": {},
     "output_type": "execute_result"
    },
    {
     "data": {
      "image/png": "[encoded data removed]",
      "text/plain": [
       "<Figure size 1000x500 with 1 Axes>"
      ]
     },
     "metadata": {},
     "output_type": "display_data"
    }
   ],
   "source": [
    "#Visualizing training and validaton loss\n",
    "plt.figure(figsize = (10, 5))\n",
    "plt.plot(model.history.history['loss'], label = 'Loss')\n",
    "plt.plot(model.history.history['val_loss'], label = 'Val_Loss')\n",
    "plt.xlabel('Epochs')\n",
    "plt.ylabel('Loss')\n",
    "plt.grid()\n",
    "plt.legend()"
   ]
  },
  {
   "cell_type": "code",
   "execution_count": 58,
   "metadata": {},
   "outputs": [
    {
     "name": "stdout",
     "output_type": "stream",
     "text": [
      "371/371 [==============================] - 8s 16ms/step\n"
     ]
    }
   ],
   "source": [
    "y_pred = model.predict(x_test)"
   ]
  },
  {
   "cell_type": "code",
   "execution_count": 59,
   "metadata": {},
   "outputs": [],
   "source": [
    "threshold = 0\n",
    "softmax_pred = np.where(y_pred[:, 0] >= threshold, 1, 0)"
   ]
  },
  {
   "cell_type": "code",
   "execution_count": 60,
   "metadata": {},
   "outputs": [],
   "source": [
    "softmax_test = np.where(y_test[:, 0] >= threshold, 1, 0)"
   ]
  },
  {
   "cell_type": "code",
   "execution_count": 39,
   "metadata": {},
   "outputs": [
    {
     "data": {
      "text/html": [
       "<div>\n",
       "<style scoped>\n",
       "    .dataframe tbody tr th:only-of-type {\n",
       "        vertical-align: middle;\n",
       "    }\n",
       "\n",
       "    .dataframe tbody tr th {\n",
       "        vertical-align: top;\n",
       "    }\n",
       "\n",
       "    .dataframe thead th {\n",
       "        text-align: right;\n",
       "    }\n",
       "</style>\n",
       "<table border=\"1\" class=\"dataframe\">\n",
       "  <thead>\n",
       "    <tr style=\"text-align: right;\">\n",
       "      <th></th>\n",
       "      <th>error</th>\n",
       "      <th>count</th>\n",
       "    </tr>\n",
       "  </thead>\n",
       "  <tbody>\n",
       "    <tr>\n",
       "      <th>0</th>\n",
       "      <td>-0.659605</td>\n",
       "      <td>33017</td>\n",
       "    </tr>\n",
       "    <tr>\n",
       "      <th>1</th>\n",
       "      <td>1.516059</td>\n",
       "      <td>14365</td>\n",
       "    </tr>\n",
       "  </tbody>\n",
       "</table>\n",
       "</div>"
      ],
      "text/plain": [
       "      error  count\n",
       "0 -0.659605  33017\n",
       "1  1.516059  14365"
      ]
     },
     "execution_count": 39,
     "metadata": {},
     "output_type": "execute_result"
    }
   ],
   "source": [
    "data_n.groupby('error').size().reset_index(name='count')"
   ]
  },
  {
   "cell_type": "code",
   "execution_count": 40,
   "metadata": {},
   "outputs": [
    {
     "data": {
      "text/html": [
       "<div>\n",
       "<style scoped>\n",
       "    .dataframe tbody tr th:only-of-type {\n",
       "        vertical-align: middle;\n",
       "    }\n",
       "\n",
       "    .dataframe tbody tr th {\n",
       "        vertical-align: top;\n",
       "    }\n",
       "\n",
       "    .dataframe thead th {\n",
       "        text-align: right;\n",
       "    }\n",
       "</style>\n",
       "<table border=\"1\" class=\"dataframe\">\n",
       "  <thead>\n",
       "    <tr style=\"text-align: right;\">\n",
       "      <th></th>\n",
       "      <th>error</th>\n",
       "      <th>count</th>\n",
       "    </tr>\n",
       "  </thead>\n",
       "  <tbody>\n",
       "    <tr>\n",
       "      <th>0</th>\n",
       "      <td>False</td>\n",
       "      <td>33017</td>\n",
       "    </tr>\n",
       "    <tr>\n",
       "      <th>1</th>\n",
       "      <td>True</td>\n",
       "      <td>14365</td>\n",
       "    </tr>\n",
       "  </tbody>\n",
       "</table>\n",
       "</div>"
      ],
      "text/plain": [
       "   error  count\n",
       "0  False  33017\n",
       "1   True  14365"
      ]
     },
     "execution_count": 40,
     "metadata": {},
     "output_type": "execute_result"
    }
   ],
   "source": [
    "df.groupby('error').size().reset_index(name='count')"
   ]
  },
  {
   "cell_type": "code",
   "execution_count": 61,
   "metadata": {},
   "outputs": [
    {
     "data": {
      "image/png": "[encoded data removed]",
      "text/plain": [
       "<Figure size 1000x600 with 1 Axes>"
      ]
     },
     "metadata": {},
     "output_type": "display_data"
    }
   ],
   "source": [
    "# Plotting the comparison\n",
    "plt.figure(figsize=(10, 6))\n",
    "plt.plot(softmax_pred[500:600], label='Actual')\n",
    "plt.plot(softmax_test[500:600], label='Actual')\n",
    "# plt.plot(y_test[500:600], label='Actual')\n",
    "# plt.plot(y_pred[500:600], label='Predicted')\n",
    "plt.xlabel('id')\n",
    "plt.ylabel('Value')\n",
    "plt.title('Comparison of Actual and Predicted Values (LSTM)')\n",
    "plt.legend()\n",
    "plt.show()"
   ]
  },
  {
   "cell_type": "code",
   "execution_count": 62,
   "metadata": {},
   "outputs": [
    {
     "data": {
      "image/png": "[encoded data removed]",
      "text/plain": [
       "<Figure size 1000x600 with 1 Axes>"
      ]
     },
     "metadata": {},
     "output_type": "display_data"
    }
   ],
   "source": [
    "# Calculate the difference between predicted and actual values\n",
    "difference = softmax_test - softmax_pred\n",
    "\n",
    "# Plotting the difference as a scatter plot\n",
    "plt.figure(figsize=(10, 6))\n",
    "plt.scatter(range(len(difference)), difference)\n",
    "plt.axhline(y=0, color='r', linestyle='--')  # Add a horizontal line at y=0\n",
    "plt.xlabel('Index')\n",
    "plt.ylabel('Difference')\n",
    "plt.title('Difference between Predicted and Actual Values (LSTM)')\n",
    "plt.show()"
   ]
  },
  {
   "cell_type": "code",
   "execution_count": 63,
   "metadata": {},
   "outputs": [
    {
     "data": {
      "text/plain": [
       "3.7058922843153805"
      ]
     },
     "execution_count": 63,
     "metadata": {},
     "output_type": "execute_result"
    }
   ],
   "source": [
    "np.sum(np.abs(difference))/len(difference)*100"
   ]
  },
  {
   "cell_type": "code",
   "execution_count": 64,
   "metadata": {},
   "outputs": [],
   "source": [
    "# ser'a q os erros estao muito suaves? ou muito absurdos?\n",
    "## procurar base na internet com erro de pitch, roll e yaw"
   ]
  },
  {
   "cell_type": "code",
   "execution_count": 65,
   "metadata": {},
   "outputs": [
    {
     "data": {
      "text/plain": [
       "11846"
      ]
     },
     "execution_count": 65,
     "metadata": {},
     "output_type": "execute_result"
    }
   ],
   "source": [
    "len(difference)"
   ]
  },
  {
   "cell_type": "code",
   "execution_count": 66,
   "metadata": {
    "colab": {
     "base_uri": "https://localhost:8080/",
     "height": 206
    },
    "id": "Vc5AtlyYzFqB",
    "outputId": "f1e59813-a002-4000-835a-fd57accd30e4"
   },
   "outputs": [
    {
     "data": {
      "text/html": [
       "<div>\n",
       "<style scoped>\n",
       "    .dataframe tbody tr th:only-of-type {\n",
       "        vertical-align: middle;\n",
       "    }\n",
       "\n",
       "    .dataframe tbody tr th {\n",
       "        vertical-align: top;\n",
       "    }\n",
       "\n",
       "    .dataframe thead th {\n",
       "        text-align: right;\n",
       "    }\n",
       "</style>\n",
       "<table border=\"1\" class=\"dataframe\">\n",
       "  <thead>\n",
       "    <tr style=\"text-align: right;\">\n",
       "      <th></th>\n",
       "      <th>id</th>\n",
       "      <th>Type</th>\n",
       "      <th>roll</th>\n",
       "      <th>pitch</th>\n",
       "      <th>yaw</th>\n",
       "      <th>heading</th>\n",
       "      <th>rollRate</th>\n",
       "      <th>pitchRate</th>\n",
       "      <th>yawRate</th>\n",
       "      <th>groundSpeed</th>\n",
       "      <th>climbRate</th>\n",
       "      <th>altitudeRelative</th>\n",
       "      <th>throttlePct</th>\n",
       "    </tr>\n",
       "    <tr>\n",
       "      <th>error</th>\n",
       "      <th></th>\n",
       "      <th></th>\n",
       "      <th></th>\n",
       "      <th></th>\n",
       "      <th></th>\n",
       "      <th></th>\n",
       "      <th></th>\n",
       "      <th></th>\n",
       "      <th></th>\n",
       "      <th></th>\n",
       "      <th></th>\n",
       "      <th></th>\n",
       "      <th></th>\n",
       "    </tr>\n",
       "  </thead>\n",
       "  <tbody>\n",
       "    <tr>\n",
       "      <th>False</th>\n",
       "      <td>33017</td>\n",
       "      <td>33017</td>\n",
       "      <td>33017</td>\n",
       "      <td>33017</td>\n",
       "      <td>33017</td>\n",
       "      <td>33017</td>\n",
       "      <td>33017</td>\n",
       "      <td>33017</td>\n",
       "      <td>33017</td>\n",
       "      <td>33017</td>\n",
       "      <td>33017</td>\n",
       "      <td>33017</td>\n",
       "      <td>33017</td>\n",
       "    </tr>\n",
       "    <tr>\n",
       "      <th>True</th>\n",
       "      <td>14365</td>\n",
       "      <td>14365</td>\n",
       "      <td>14365</td>\n",
       "      <td>14365</td>\n",
       "      <td>14365</td>\n",
       "      <td>14365</td>\n",
       "      <td>14365</td>\n",
       "      <td>14365</td>\n",
       "      <td>14365</td>\n",
       "      <td>14365</td>\n",
       "      <td>14365</td>\n",
       "      <td>14365</td>\n",
       "      <td>14365</td>\n",
       "    </tr>\n",
       "  </tbody>\n",
       "</table>\n",
       "</div>"
      ],
      "text/plain": [
       "          id   Type   roll  pitch    yaw  heading  rollRate  pitchRate  \\\n",
       "error                                                                    \n",
       "False  33017  33017  33017  33017  33017    33017     33017      33017   \n",
       "True   14365  14365  14365  14365  14365    14365     14365      14365   \n",
       "\n",
       "       yawRate  groundSpeed  climbRate  altitudeRelative  throttlePct  \n",
       "error                                                                  \n",
       "False    33017        33017      33017             33017        33017  \n",
       "True     14365        14365      14365             14365        14365  "
      ]
     },
     "execution_count": 66,
     "metadata": {},
     "output_type": "execute_result"
    }
   ],
   "source": [
    "df.groupby('error').count()"
   ]
  },
  {
   "cell_type": "markdown",
   "metadata": {
    "id": "Zxsv1c2CrFz9"
   },
   "source": [
    "> Exporting Model"
   ]
  },
  {
   "cell_type": "code",
   "execution_count": 69,
   "metadata": {
    "colab": {
     "base_uri": "https://localhost:8080/"
    },
    "id": "S2dLUD-DrKbe",
    "outputId": "397ac1c7-a97b-4dea-9da7-7bd221331eaf",
    "scrolled": true
   },
   "outputs": [
    {
     "name": "stdout",
     "output_type": "stream",
     "text": [
      "Keras weights file (<HDF5 file \"variables.h5\" (mode r+)>) saving:\n",
      "...layers\n",
      "......activation\n",
      ".........vars\n",
      "......dense\n",
      ".........vars\n",
      "............0\n",
      "............1\n",
      "......dropout\n",
      ".........vars\n",
      "......lstm\n",
      ".........cell\n",
      "............vars\n",
      "...............0\n",
      "...............1\n",
      "...............2\n",
      ".........vars\n",
      "...metrics\n",
      "......mean\n",
      ".........vars\n",
      "............0\n",
      "............1\n",
      "...optimizer\n",
      "......vars\n",
      ".........0\n",
      ".........1\n",
      ".........2\n",
      ".........3\n",
      ".........4\n",
      ".........5\n",
      "...vars\n",
      "Keras model archive saving:\n",
      "File Name                                             Modified             Size\n",
      "config.json                                    2023-06-30 15:52:20         2038\n",
      "metadata.json                                  2023-06-30 15:52:20           64\n",
      "variables.h5                                   2023-06-30 15:52:20      4195616\n"
     ]
    },
    {
     "data": {
      "text/plain": [
       "['LSTM_predictions1.joblib']"
      ]
     },
     "execution_count": 69,
     "metadata": {},
     "output_type": "execute_result"
    }
   ],
   "source": [
    "filename = \"LSTM_predictions1.joblib\"\n",
    "joblib.dump(model, filename)"
   ]
  },
  {
   "cell_type": "code",
   "execution_count": 70,
   "metadata": {
    "colab": {
     "base_uri": "https://localhost:8080/"
    },
    "id": "ntbfRiZqrlyG",
    "outputId": "84965cd4-e335-4c8b-c509-28051bb18453",
    "scrolled": true
   },
   "outputs": [
    {
     "name": "stdout",
     "output_type": "stream",
     "text": [
      "Keras model archive loading:\n",
      "File Name                                             Modified             Size\n",
      "config.json                                    2023-06-30 15:52:20         2038\n",
      "metadata.json                                  2023-06-30 15:52:20           64\n",
      "variables.h5                                   2023-06-30 15:52:20      4195616\n",
      "Keras weights file (<HDF5 file \"variables.h5\" (mode r)>) loading:\n",
      "...layers\n",
      "......activation\n",
      ".........vars\n",
      "......dense\n",
      ".........vars\n",
      "............0\n",
      "............1\n",
      "......dropout\n",
      ".........vars\n",
      "......lstm\n",
      ".........cell\n",
      "............vars\n",
      "...............0\n",
      "...............1\n",
      "...............2\n",
      ".........vars\n",
      "...metrics\n",
      "......mean\n",
      ".........vars\n",
      "............0\n",
      "............1\n",
      "...optimizer\n",
      "......vars\n",
      ".........0\n",
      ".........1\n",
      ".........2\n",
      ".........3\n",
      ".........4\n",
      ".........5\n",
      "...vars\n"
     ]
    }
   ],
   "source": [
    "loaded_LSTM = joblib.load(filename)"
   ]
  },
  {
   "cell_type": "code",
   "execution_count": 81,
   "metadata": {},
   "outputs": [
    {
     "data": {
      "text/plain": [
       "array([[ 0.05760411, -0.06729817, -0.78948365],\n",
       "       [ 0.05767553, -0.06173336, -0.78948365],\n",
       "       [ 0.05430535, -0.05509496, -0.78948365],\n",
       "       ...,\n",
       "       [-0.04454806, -0.00416864,  1.31272319],\n",
       "       [-0.04454806, -0.00416864,  1.31272319],\n",
       "       [-0.04454806, -0.00416864,  1.31272319]])"
      ]
     },
     "execution_count": 81,
     "metadata": {},
     "output_type": "execute_result"
    }
   ],
   "source": [
    "data_n.drop(['error'],axis=1).values"
   ]
  },
  {
   "cell_type": "code",
   "execution_count": 83,
   "metadata": {},
   "outputs": [
    {
     "name": "stdout",
     "output_type": "stream",
     "text": [
      "1/1 [==============================] - 0s 92ms/step\n"
     ]
    }
   ],
   "source": [
    "test = [[-0.008122967793406688,-0.031792852469140896,-1.175610922771928]]\n",
    "y_pred = loaded_LSTM.predict(test)"
   ]
  },
  {
   "cell_type": "code",
   "execution_count": 84,
   "metadata": {},
   "outputs": [
    {
     "data": {
      "text/plain": [
       "array([[0.40284377]], dtype=float32)"
      ]
     },
     "execution_count": 84,
     "metadata": {},
     "output_type": "execute_result"
    }
   ],
   "source": [
    "y_pred"
   ]
  },
  {
   "cell_type": "code",
   "execution_count": 73,
   "metadata": {
    "id": "3L2wC7AqruTO"
   },
   "outputs": [
    {
     "name": "stdout",
     "output_type": "stream",
     "text": [
      "1481/1481 [==============================] - 21s 14ms/step\n"
     ]
    }
   ],
   "source": [
    "y_pred = loaded_LSTM.predict(data_n.drop(['error'],axis=1).values)"
   ]
  },
  {
   "cell_type": "code",
   "execution_count": 74,
   "metadata": {
    "colab": {
     "base_uri": "https://localhost:8080/"
    },
    "id": "OPlo021qsUtW",
    "outputId": "b1f4a83a-e87a-45f3-faa6-8e81db390a17",
    "scrolled": false
   },
   "outputs": [
    {
     "data": {
      "text/plain": [
       "array([[ 0.19230366],\n",
       "       [ 0.14232454],\n",
       "       [ 0.03937024],\n",
       "       ...,\n",
       "       [-0.76590264],\n",
       "       [-0.76590264],\n",
       "       [-0.76590264]], dtype=float32)"
      ]
     },
     "execution_count": 74,
     "metadata": {},
     "output_type": "execute_result"
    }
   ],
   "source": [
    "y_pred"
   ]
  },
  {
   "cell_type": "code",
   "execution_count": 75,
   "metadata": {},
   "outputs": [],
   "source": [
    "threshold = 0\n",
    "softmax_pred = np.where(y_pred[:, 0] >= threshold, 1, 0)"
   ]
  },
  {
   "cell_type": "code",
   "execution_count": 76,
   "metadata": {},
   "outputs": [],
   "source": [
    "softmax_test = np.where(data_n[\"error\"].values >= threshold, 1, 0)"
   ]
  },
  {
   "cell_type": "code",
   "execution_count": 77,
   "metadata": {},
   "outputs": [],
   "source": [
    "difference = softmax_test - softmax_pred"
   ]
  },
  {
   "cell_type": "code",
   "execution_count": 78,
   "metadata": {},
   "outputs": [
    {
     "data": {
      "text/plain": [
       "-0.4453167869655143"
      ]
     },
     "execution_count": 78,
     "metadata": {},
     "output_type": "execute_result"
    }
   ],
   "source": [
    "(np.sum(difference)/len(difference))*100"
   ]
  },
  {
   "cell_type": "code",
   "execution_count": null,
   "metadata": {},
   "outputs": [],
   "source": []
  }
 ],
 "metadata": {
  "colab": {
   "collapsed_sections": [
    "t5ok4QLVYMrN"
   ],
   "name": "2_AnomalyDetection_LSTM.ipynb",
   "provenance": []
  },
  "kernelspec": {
   "display_name": "gaia",
   "language": "python",
   "name": "gaia"
  },
  "language_info": {
   "codemirror_mode": {
    "name": "ipython",
    "version": 3
   },
   "file_extension": ".py",
   "mimetype": "text/x-python",
   "name": "python",
   "nbconvert_exporter": "python",
   "pygments_lexer": "ipython3",
   "version": "3.7.5"
  }
 },
 "nbformat": 4,
 "nbformat_minor": 1
}
