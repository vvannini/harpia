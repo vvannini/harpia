{
 "cells": [
  {
   "cell_type": "code",
   "execution_count": 1,
   "metadata": {
    "colab": {
     "base_uri": "https://localhost:8080/",
     "height": 70,
     "resources": {
      "http://localhost:8080/nbextensions/google.colab/files.js": {
       "data": "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",
       "headers": [
        [
         "content-type",
         "application/javascript"
        ]
       ],
       "ok": true,
       "status": 200,
       "status_text": ""
      }
     }
    },
    "id": "euZWZdsSsvjr",
    "outputId": "fd612548-fb7e-4f7a-cfe1-de3619b61dfd"
   },
   "outputs": [],
   "source": [
    "# from google.colab import files\n",
    "# uploaded = files.upload()"
   ]
  },
  {
   "cell_type": "code",
   "execution_count": 2,
   "metadata": {
    "id": "S2r_2V0DRB9V"
   },
   "outputs": [],
   "source": [
    "import pandas as pd\n",
    "import matplotlib.pyplot as plt\n",
    "import seaborn as sns\n",
    "import numpy as np"
   ]
  },
  {
   "cell_type": "code",
   "execution_count": 3,
   "metadata": {},
   "outputs": [],
   "source": [
    "#Importing Required Libraries LSTM\n",
    "import pandas as pd\n",
    "import numpy as np\n",
    "import matplotlib\n",
    "import seaborn\n",
    "import matplotlib.dates as md\n",
    "from matplotlib import pyplot as plt\n",
    "import scipy as sp\n",
    "from sklearn.model_selection import train_test_split\n",
    "from sklearn import preprocessing\n",
    "from keras.layers.core import Dense, Activation, Dropout\n",
    "# from keras.layers.recurrent import LSTM\n",
    "from keras.layers import LSTM\n",
    "from keras.models import Sequential\n",
    "from keras.layers import Bidirectional\n",
    "from keras.layers import Conv1D\n",
    "import time\n",
    "\n",
    "from sklearn.decomposition import PCA"
   ]
  },
  {
   "cell_type": "code",
   "execution_count": 4,
   "metadata": {},
   "outputs": [],
   "source": [
    "from pyspark.sql import functions as sf"
   ]
  },
  {
   "cell_type": "code",
   "execution_count": 5,
   "metadata": {},
   "outputs": [],
   "source": [
    "import joblib"
   ]
  },
  {
   "cell_type": "code",
   "execution_count": 6,
   "metadata": {},
   "outputs": [
    {
     "data": {
      "text/html": [
       "<style>pre { white-space: pre !important; }</style>"
      ],
      "text/plain": [
       "<IPython.core.display.HTML object>"
      ]
     },
     "metadata": {},
     "output_type": "display_data"
    }
   ],
   "source": [
    "from IPython.core.display import HTML\n",
    "display(HTML(\"<style>pre { white-space: pre !important; }</style>\"))"
   ]
  },
  {
   "cell_type": "code",
   "execution_count": 7,
   "metadata": {},
   "outputs": [
    {
     "name": "stderr",
     "output_type": "stream",
     "text": [
      "/home/vannini/.local/lib/python3.6/site-packages/pyspark/context.py:238: FutureWarning: Python 3.6 support is deprecated in Spark 3.2.\n",
      "  FutureWarning\n"
     ]
    }
   ],
   "source": [
    "from pyspark.sql import SparkSession\n",
    "# Create a SparkSession\n",
    "spark = SparkSession.builder.getOrCreate()\n",
    "\n",
    "# Read JSON file into DataFrame\n",
    "json_file_path = \"/home/vannini/harpia/flight_data.json\"\n",
    "df = spark.read.json(json_file_path)\n",
    "\n",
    "\n",
    "df_s = df.select(\n",
    "    \"id\",\n",
    "    \"Type\",\n",
    "    \"error\",\n",
    "    sf.explode(\"data\").alias(\"data\")\n",
    ").select(\n",
    "    \"id\",\n",
    "    \"Type\",\n",
    "    \"error\",\n",
    "    sf.col(\"data.roll\").alias(\"roll\"),\n",
    "    sf.col(\"data.pitch\").alias(\"pitch\"),\n",
    "    sf.col(\"data.yaw\").alias(\"yaw\"),\n",
    "    sf.col(\"data.heading\").alias(\"heading\"),\n",
    "    sf.col(\"data.rollRate\").alias(\"rollRate\"),\n",
    "    sf.col(\"data.pitchRate\").alias(\"pitchRate\"),\n",
    "    sf.col(\"data.yawRate\").alias(\"yawRate\"),\n",
    "    sf.col(\"data.groundSpeed\").alias(\"groundSpeed\"),\n",
    "    sf.col(\"data.climbRate\").alias(\"climbRate\"),\n",
    "    sf.col(\"data.altitudeRelative\").alias(\"altitudeRelative\"),\n",
    "    sf.col(\"data.throttlePct\").alias(\"throttlePct\")\n",
    ")\n",
    "# df_s.printSchema()\n",
    "# Print the DataFrame\n",
    "# df.show()"
   ]
  },
  {
   "cell_type": "code",
   "execution_count": 8,
   "metadata": {},
   "outputs": [],
   "source": [
    "# Read JSON file into DataFrame\n",
    "json_file_path = \"/home/vannini/harpia/flight_data_gauss_mild.json\"\n",
    "df = spark.read.json(json_file_path)\n",
    "\n",
    "\n",
    "df_m = df.select(\n",
    "    \"id\",\n",
    "    \"Type\",\n",
    "    \"error\",\n",
    "    sf.explode(\"data\").alias(\"data\")\n",
    ").select(\n",
    "    \"id\",\n",
    "    \"Type\",\n",
    "    \"error\",\n",
    "    sf.col(\"data.roll\").alias(\"roll\"),\n",
    "    sf.col(\"data.pitch\").alias(\"pitch\"),\n",
    "    sf.col(\"data.yaw\").alias(\"yaw\"),\n",
    "    sf.col(\"data.heading\").alias(\"heading\"),\n",
    "    sf.col(\"data.rollRate\").alias(\"rollRate\"),\n",
    "    sf.col(\"data.pitchRate\").alias(\"pitchRate\"),\n",
    "    sf.col(\"data.yawRate\").alias(\"yawRate\"),\n",
    "    sf.col(\"data.groundSpeed\").alias(\"groundSpeed\"),\n",
    "    sf.col(\"data.climbRate\").alias(\"climbRate\"),\n",
    "    sf.col(\"data.altitudeRelative\").alias(\"altitudeRelative\"),\n",
    "    sf.col(\"data.throttlePct\").alias(\"throttlePct\")\n",
    ")\n"
   ]
  },
  {
   "cell_type": "code",
   "execution_count": 9,
   "metadata": {},
   "outputs": [],
   "source": [
    "# Read JSON file into DataFrame\n",
    "json_file_path = \"/home/vannini/harpia/flight_data_gauss_noise.json\"\n",
    "df = spark.read.json(json_file_path)\n",
    "\n",
    "\n",
    "df_n = df.select(\n",
    "    \"id\",\n",
    "    \"Type\",\n",
    "    \"error\",\n",
    "    sf.explode(\"data\").alias(\"data\")\n",
    ").select(\n",
    "    \"id\",\n",
    "    \"Type\",\n",
    "    \"error\",\n",
    "    sf.col(\"data.roll\").alias(\"roll\"),\n",
    "    sf.col(\"data.pitch\").alias(\"pitch\"),\n",
    "    sf.col(\"data.yaw\").alias(\"yaw\"),\n",
    "    sf.col(\"data.heading\").alias(\"heading\"),\n",
    "    sf.col(\"data.rollRate\").alias(\"rollRate\"),\n",
    "    sf.col(\"data.pitchRate\").alias(\"pitchRate\"),\n",
    "    sf.col(\"data.yawRate\").alias(\"yawRate\"),\n",
    "    sf.col(\"data.groundSpeed\").alias(\"groundSpeed\"),\n",
    "    sf.col(\"data.climbRate\").alias(\"climbRate\"),\n",
    "    sf.col(\"data.altitudeRelative\").alias(\"altitudeRelative\"),\n",
    "    sf.col(\"data.throttlePct\").alias(\"throttlePct\")\n",
    ")"
   ]
  },
  {
   "cell_type": "code",
   "execution_count": 10,
   "metadata": {},
   "outputs": [],
   "source": [
    "df_n = df_n.withColumn(\"tag\", sf.lit(\"noise\"))\n",
    "df_m = df_m.withColumn(\"tag\", sf.lit(\"mild\"))\n",
    "df_s = df_s.withColumn(\"tag\", sf.when(sf.col(\"error\"),sf.lit(\"error\")).otherwise(sf.lit(\"normal\")))\\\n",
    "           .where(~sf.col(\"error\"))"
   ]
  },
  {
   "cell_type": "code",
   "execution_count": 11,
   "metadata": {},
   "outputs": [],
   "source": [
    "df_s = df_s.unionByName(df_n).unionByName(df_m)"
   ]
  },
  {
   "cell_type": "code",
   "execution_count": 12,
   "metadata": {},
   "outputs": [
    {
     "name": "stdout",
     "output_type": "stream",
     "text": [
      "+---+-------------------+-----+--------------------+--------------------+--------------------+-----------------+--------------------+--------------------+--------------------+--------------------+-------------------+-------------------+-----------+------+\n",
      "| id|               Type|error|                roll|               pitch|                 yaw|          heading|            rollRate|           pitchRate|             yawRate|         groundSpeed|          climbRate|   altitudeRelative|throttlePct|   tag|\n",
      "+---+-------------------+-----+--------------------+--------------------+--------------------+-----------------+--------------------+--------------------+--------------------+--------------------+-------------------+-------------------+-----------+------+\n",
      "|  6|Takeoff and landing|false|-0.00730416923761...|0.002814507810398...|-0.05884323269128...|93.37000274658203|-3.47199966199696...|0.004307299852371216|-0.00113446451723...|0.026676926761865616|-0.1743333637714386|-0.7960000038146973|        0.0|normal|\n",
      "|  6|Takeoff and landing|false|-0.00730416923761...|0.002814507810398...|-0.05884323269128...|93.37000274658203|-3.47199966199696...|0.004307299852371216|-0.00113446451723...|0.026676926761865616|-0.1743333637714386|-0.7960000038146973|        0.0|normal|\n",
      "|  6|Takeoff and landing|false|-0.00730416923761...|0.002814507810398...|-0.05884323269128...|93.37000274658203|-3.47199966199696...|0.004307299852371216|-0.00113446451723...|0.026676926761865616|-0.1743333637714386|-0.7960000038146973|        0.0|normal|\n",
      "|  6|Takeoff and landing|false|-0.00730416923761...|0.002814507810398...|-0.05884323269128...|93.37000274658203|-3.47199966199696...|0.004307299852371216|-0.00113446451723...|0.026676926761865616|-0.1743333637714386|-0.7960000038146973|        0.0|normal|\n",
      "|  6|Takeoff and landing|false|-0.00730416923761...|0.002814507810398...|-0.05884323269128...|93.37000274658203|-3.47199966199696...|0.004307299852371216|-0.00113446451723...|0.026676926761865616|-0.1743333637714386|-0.7960000038146973|        0.0|normal|\n",
      "|  6|Takeoff and landing|false|-0.00730416923761...|0.002814507810398...|-0.05884323269128...|93.37000274658203|-3.47199966199696...|0.004307299852371216|-0.00113446451723...|0.026676926761865616|-0.1743333637714386|-0.7960000038146973|        0.0|normal|\n",
      "|  6|Takeoff and landing|false|-0.00730416923761...|0.002814507810398...|-0.05884323269128...|93.37000274658203|-3.47199966199696...|0.004307299852371216|-0.00113446451723...|0.026676926761865616|-0.1743333637714386|-0.7960000038146973|        0.0|normal|\n",
      "|  6|Takeoff and landing|false|-0.00730416923761...|0.002814507810398...|-0.05884323269128...|93.37000274658203|-3.47199966199696...|0.004307299852371216|-0.00113446451723...|0.026676926761865616|-0.1743333637714386|-0.7960000038146973|        0.0|normal|\n",
      "|  6|Takeoff and landing|false|-0.00730416923761...|0.002814507810398...|-0.05884323269128...|93.37000274658203|-3.47199966199696...|0.004307299852371216|-0.00113446451723...|0.026676926761865616|-0.1743333637714386|-0.7960000038146973|        0.0|normal|\n",
      "|  6|Takeoff and landing|false|-0.00730416923761...|0.002814507810398...|-0.05884323269128...|93.37000274658203|-3.47199966199696...|0.004307299852371216|-0.00113446451723...|0.026676926761865616|-0.1743333637714386|-0.7960000038146973|        0.0|normal|\n",
      "|  6|Takeoff and landing|false|-0.00730416923761...|0.002814507810398...|-0.05884323269128...|93.37000274658203|-3.47199966199696...|0.004307299852371216|-0.00113446451723...|0.026676926761865616|-0.1743333637714386|-0.7960000038146973|        0.0|normal|\n",
      "|  6|Takeoff and landing|false|-0.00730416923761...|0.002814507810398...|-0.05884323269128...|93.37000274658203|-3.47199966199696...|0.004307299852371216|-0.00113446451723...|0.026676926761865616|-0.1743333637714386|-0.7960000038146973|        0.0|normal|\n",
      "|  6|Takeoff and landing|false|-0.00730416923761...|0.002814507810398...|-0.05884323269128...|93.37000274658203|-3.47199966199696...|0.004307299852371216|-0.00113446451723...|0.026676926761865616|-0.1743333637714386|-0.7960000038146973|        0.0|normal|\n",
      "|  6|Takeoff and landing|false|-0.00730416923761...|0.002814507810398...|-0.05884323269128...|93.37000274658203|-3.47199966199696...|0.004307299852371216|-0.00113446451723...|0.026676926761865616|-0.1743333637714386|-0.7960000038146973|        0.0|normal|\n",
      "|  6|Takeoff and landing|false|-0.00730416923761...|0.002814507810398...|-0.05884323269128...|93.37000274658203|-3.47199966199696...|0.004307299852371216|-0.00113446451723...|0.026676926761865616|-0.1743333637714386|-0.7960000038146973|        0.0|normal|\n",
      "|  6|Takeoff and landing|false|-0.00730416923761...|0.002814507810398...|-0.05884323269128...|93.37000274658203|-3.47199966199696...|0.004307299852371216|-0.00113446451723...|0.026676926761865616|-0.1743333637714386|-0.7960000038146973|        0.0|normal|\n",
      "|  6|Takeoff and landing|false|-0.00730416923761...|0.002814507810398...|-0.05884323269128...|93.37000274658203|-3.47199966199696...|0.004307299852371216|-0.00113446451723...|0.026676926761865616|-0.1743333637714386|-0.7960000038146973|        0.0|normal|\n",
      "|  6|Takeoff and landing|false|-0.00730416923761...|0.002814507810398...|-0.05884323269128...|93.37000274658203|-3.47199966199696...|0.004307299852371216|-0.00113446451723...|0.026676926761865616|-0.1743333637714386|-0.7960000038146973|        0.0|normal|\n",
      "|  6|Takeoff and landing|false|-0.00730416923761...|0.002814507810398...|-0.05884323269128...|93.37000274658203|-3.47199966199696...|0.004307299852371216|-0.00113446451723...|0.026676926761865616|-0.1743333637714386|-0.7960000038146973|        0.0|normal|\n",
      "|  6|Takeoff and landing|false|-0.00730416923761...|0.002814507810398...|-0.05884323269128...|93.37000274658203|-3.47199966199696...|0.004307299852371216|-0.00113446451723...|0.026676926761865616|-0.1743333637714386|-0.7960000038146973|        0.0|normal|\n",
      "+---+-------------------+-----+--------------------+--------------------+--------------------+-----------------+--------------------+--------------------+--------------------+--------------------+-------------------+-------------------+-----------+------+\n",
      "only showing top 20 rows\n",
      "\n"
     ]
    }
   ],
   "source": [
    "df_s.show()"
   ]
  },
  {
   "cell_type": "code",
   "execution_count": 13,
   "metadata": {},
   "outputs": [
    {
     "name": "stdout",
     "output_type": "stream",
     "text": [
      "+------------------+-----------------+\n",
      "|           avg(id)|       avg(count)|\n",
      "+------------------+-----------------+\n",
      "|241.58227848101265|151.5645569620253|\n",
      "+------------------+-----------------+\n",
      "\n"
     ]
    }
   ],
   "source": [
    "df_s.groupBy('id').count().groupBy().avg().show()"
   ]
  },
  {
   "cell_type": "code",
   "execution_count": 14,
   "metadata": {
    "id": "62fNPyAGZDCs"
   },
   "outputs": [],
   "source": [
    "def info(df):\n",
    "  print(df.info(verbose=True))\n",
    "  return None"
   ]
  },
  {
   "cell_type": "code",
   "execution_count": 15,
   "metadata": {
    "id": "Kdk9GRqjZEV0"
   },
   "outputs": [],
   "source": [
    "def nulls_qtd(df):\n",
    "  print(df.isna().sum())\n",
    "  return None"
   ]
  },
  {
   "cell_type": "code",
   "execution_count": 16,
   "metadata": {
    "id": "KHGsu0c6ZGX8"
   },
   "outputs": [],
   "source": [
    "def describe(df, perc, drop_list = None):\n",
    "  if drop_list == None:\n",
    "    df.select_dtypes(include='number').describe(percentiles = perc)\n",
    "  else:\n",
    "    df.select_dtypes(include='number').drop(drop_list, axis=1).describe(percentiles = perc)\n",
    "  return None"
   ]
  },
  {
   "cell_type": "code",
   "execution_count": 17,
   "metadata": {
    "id": "8QIbajisYOeU"
   },
   "outputs": [],
   "source": [
    "def shape(df):\n",
    "  # DataFrame shape\n",
    "  print(f'Rows: {df.shape[0]}\\n   \\nColumns: {df.shape[1]}')\n",
    "  return None"
   ]
  },
  {
   "cell_type": "code",
   "execution_count": 18,
   "metadata": {
    "id": "df6E-08JZyYN"
   },
   "outputs": [],
   "source": [
    "def select_columns(df, columns_names_list):\n",
    "  df_new = df[columns_names_list]\n",
    "  return df_new"
   ]
  },
  {
   "cell_type": "code",
   "execution_count": 19,
   "metadata": {
    "id": "FznulxTOZ17N"
   },
   "outputs": [],
   "source": [
    "def split_train_test(X, y, strat, perc = 0.25):\n",
    "  \"\"\"\n",
    "  X: x's variables\n",
    "  y: target variable (system response)\n",
    "  perc: test data percentage (decimal value; default = 0.2 = 20% of data)\n",
    "  \"\"\"\n",
    "  X_train, X_test, y_train, y_test = train_test_split(X, y, test_size = 0.2, random_state = 0, stratify=strat)\n",
    "\n",
    "  # Resets all DFs indexes\n",
    "  X_train.reset_index(drop = True, inplace = True)\n",
    "  X_test.reset_index(drop = True, inplace = True)\n",
    "  y_train.reset_index(drop = True, inplace = True)\n",
    "  y_test.reset_index(drop = True, inplace = True)\n",
    "\n",
    "  return X_train, X_test, y_train, y_test"
   ]
  },
  {
   "cell_type": "markdown",
   "metadata": {},
   "source": [
    "# PCA Vizualization"
   ]
  },
  {
   "cell_type": "code",
   "execution_count": 20,
   "metadata": {
    "colab": {
     "base_uri": "https://localhost:8080/",
     "height": 0
    },
    "id": "mPXF7lV0U4WV",
    "outputId": "025193e4-82fa-4c58-a13c-c4691372d9a2",
    "scrolled": true
   },
   "outputs": [
    {
     "data": {
      "text/html": [
       "<div>\n",
       "<style scoped>\n",
       "    .dataframe tbody tr th:only-of-type {\n",
       "        vertical-align: middle;\n",
       "    }\n",
       "\n",
       "    .dataframe tbody tr th {\n",
       "        vertical-align: top;\n",
       "    }\n",
       "\n",
       "    .dataframe thead th {\n",
       "        text-align: right;\n",
       "    }\n",
       "</style>\n",
       "<table border=\"1\" class=\"dataframe\">\n",
       "  <thead>\n",
       "    <tr style=\"text-align: right;\">\n",
       "      <th></th>\n",
       "      <th>id</th>\n",
       "      <th>Type</th>\n",
       "      <th>error</th>\n",
       "      <th>roll</th>\n",
       "      <th>pitch</th>\n",
       "      <th>yaw</th>\n",
       "      <th>heading</th>\n",
       "      <th>rollRate</th>\n",
       "      <th>pitchRate</th>\n",
       "      <th>yawRate</th>\n",
       "      <th>groundSpeed</th>\n",
       "      <th>climbRate</th>\n",
       "      <th>altitudeRelative</th>\n",
       "      <th>throttlePct</th>\n",
       "      <th>tag</th>\n",
       "    </tr>\n",
       "  </thead>\n",
       "  <tbody>\n",
       "    <tr>\n",
       "      <th>0</th>\n",
       "      <td>6</td>\n",
       "      <td>Takeoff and landing</td>\n",
       "      <td>False</td>\n",
       "      <td>-0.007304</td>\n",
       "      <td>0.002815</td>\n",
       "      <td>-0.058843</td>\n",
       "      <td>93.370003</td>\n",
       "      <td>-0.000347</td>\n",
       "      <td>0.004307</td>\n",
       "      <td>-0.001134</td>\n",
       "      <td>0.026677</td>\n",
       "      <td>-0.174333</td>\n",
       "      <td>-0.796</td>\n",
       "      <td>0.0</td>\n",
       "      <td>normal</td>\n",
       "    </tr>\n",
       "    <tr>\n",
       "      <th>1</th>\n",
       "      <td>6</td>\n",
       "      <td>Takeoff and landing</td>\n",
       "      <td>False</td>\n",
       "      <td>-0.007304</td>\n",
       "      <td>0.002815</td>\n",
       "      <td>-0.058843</td>\n",
       "      <td>93.370003</td>\n",
       "      <td>-0.000347</td>\n",
       "      <td>0.004307</td>\n",
       "      <td>-0.001134</td>\n",
       "      <td>0.026677</td>\n",
       "      <td>-0.174333</td>\n",
       "      <td>-0.796</td>\n",
       "      <td>0.0</td>\n",
       "      <td>normal</td>\n",
       "    </tr>\n",
       "    <tr>\n",
       "      <th>2</th>\n",
       "      <td>6</td>\n",
       "      <td>Takeoff and landing</td>\n",
       "      <td>False</td>\n",
       "      <td>-0.007304</td>\n",
       "      <td>0.002815</td>\n",
       "      <td>-0.058843</td>\n",
       "      <td>93.370003</td>\n",
       "      <td>-0.000347</td>\n",
       "      <td>0.004307</td>\n",
       "      <td>-0.001134</td>\n",
       "      <td>0.026677</td>\n",
       "      <td>-0.174333</td>\n",
       "      <td>-0.796</td>\n",
       "      <td>0.0</td>\n",
       "      <td>normal</td>\n",
       "    </tr>\n",
       "    <tr>\n",
       "      <th>3</th>\n",
       "      <td>6</td>\n",
       "      <td>Takeoff and landing</td>\n",
       "      <td>False</td>\n",
       "      <td>-0.007304</td>\n",
       "      <td>0.002815</td>\n",
       "      <td>-0.058843</td>\n",
       "      <td>93.370003</td>\n",
       "      <td>-0.000347</td>\n",
       "      <td>0.004307</td>\n",
       "      <td>-0.001134</td>\n",
       "      <td>0.026677</td>\n",
       "      <td>-0.174333</td>\n",
       "      <td>-0.796</td>\n",
       "      <td>0.0</td>\n",
       "      <td>normal</td>\n",
       "    </tr>\n",
       "    <tr>\n",
       "      <th>4</th>\n",
       "      <td>6</td>\n",
       "      <td>Takeoff and landing</td>\n",
       "      <td>False</td>\n",
       "      <td>-0.007304</td>\n",
       "      <td>0.002815</td>\n",
       "      <td>-0.058843</td>\n",
       "      <td>93.370003</td>\n",
       "      <td>-0.000347</td>\n",
       "      <td>0.004307</td>\n",
       "      <td>-0.001134</td>\n",
       "      <td>0.026677</td>\n",
       "      <td>-0.174333</td>\n",
       "      <td>-0.796</td>\n",
       "      <td>0.0</td>\n",
       "      <td>normal</td>\n",
       "    </tr>\n",
       "  </tbody>\n",
       "</table>\n",
       "</div>"
      ],
      "text/plain": [
       "   id                 Type  error      roll     pitch       yaw    heading  \\\n",
       "0   6  Takeoff and landing  False -0.007304  0.002815 -0.058843  93.370003   \n",
       "1   6  Takeoff and landing  False -0.007304  0.002815 -0.058843  93.370003   \n",
       "2   6  Takeoff and landing  False -0.007304  0.002815 -0.058843  93.370003   \n",
       "3   6  Takeoff and landing  False -0.007304  0.002815 -0.058843  93.370003   \n",
       "4   6  Takeoff and landing  False -0.007304  0.002815 -0.058843  93.370003   \n",
       "\n",
       "   rollRate  pitchRate   yawRate  groundSpeed  climbRate  altitudeRelative  \\\n",
       "0 -0.000347   0.004307 -0.001134     0.026677  -0.174333            -0.796   \n",
       "1 -0.000347   0.004307 -0.001134     0.026677  -0.174333            -0.796   \n",
       "2 -0.000347   0.004307 -0.001134     0.026677  -0.174333            -0.796   \n",
       "3 -0.000347   0.004307 -0.001134     0.026677  -0.174333            -0.796   \n",
       "4 -0.000347   0.004307 -0.001134     0.026677  -0.174333            -0.796   \n",
       "\n",
       "   throttlePct     tag  \n",
       "0          0.0  normal  \n",
       "1          0.0  normal  \n",
       "2          0.0  normal  \n",
       "3          0.0  normal  \n",
       "4          0.0  normal  "
      ]
     },
     "execution_count": 20,
     "metadata": {},
     "output_type": "execute_result"
    }
   ],
   "source": [
    "df = df_s.toPandas()\n",
    "df.head()"
   ]
  },
  {
   "cell_type": "code",
   "execution_count": 21,
   "metadata": {},
   "outputs": [
    {
     "data": {
      "text/html": [
       "<div>\n",
       "<style scoped>\n",
       "    .dataframe tbody tr th:only-of-type {\n",
       "        vertical-align: middle;\n",
       "    }\n",
       "\n",
       "    .dataframe tbody tr th {\n",
       "        vertical-align: top;\n",
       "    }\n",
       "\n",
       "    .dataframe thead th {\n",
       "        text-align: right;\n",
       "    }\n",
       "</style>\n",
       "<table border=\"1\" class=\"dataframe\">\n",
       "  <thead>\n",
       "    <tr style=\"text-align: right;\">\n",
       "      <th></th>\n",
       "      <th>roll</th>\n",
       "      <th>pitch</th>\n",
       "      <th>yaw</th>\n",
       "      <th>heading</th>\n",
       "      <th>rollRate</th>\n",
       "      <th>pitchRate</th>\n",
       "      <th>yawRate</th>\n",
       "      <th>groundSpeed</th>\n",
       "      <th>climbRate</th>\n",
       "      <th>altitudeRelative</th>\n",
       "      <th>throttlePct</th>\n",
       "    </tr>\n",
       "  </thead>\n",
       "  <tbody>\n",
       "    <tr>\n",
       "      <th>0</th>\n",
       "      <td>0.383349</td>\n",
       "      <td>0.384093</td>\n",
       "      <td>0.228692</td>\n",
       "      <td>-0.209936</td>\n",
       "      <td>0.421612</td>\n",
       "      <td>0.421936</td>\n",
       "      <td>0.422812</td>\n",
       "      <td>0.027562</td>\n",
       "      <td>-0.243295</td>\n",
       "      <td>-0.419798</td>\n",
       "      <td>-0.744202</td>\n",
       "    </tr>\n",
       "    <tr>\n",
       "      <th>1</th>\n",
       "      <td>0.383349</td>\n",
       "      <td>0.384093</td>\n",
       "      <td>0.228692</td>\n",
       "      <td>-0.209936</td>\n",
       "      <td>0.421612</td>\n",
       "      <td>0.421936</td>\n",
       "      <td>0.422812</td>\n",
       "      <td>0.027562</td>\n",
       "      <td>-0.243295</td>\n",
       "      <td>-0.419798</td>\n",
       "      <td>-0.744202</td>\n",
       "    </tr>\n",
       "    <tr>\n",
       "      <th>2</th>\n",
       "      <td>0.383349</td>\n",
       "      <td>0.384093</td>\n",
       "      <td>0.228692</td>\n",
       "      <td>-0.209936</td>\n",
       "      <td>0.421612</td>\n",
       "      <td>0.421936</td>\n",
       "      <td>0.422812</td>\n",
       "      <td>0.027562</td>\n",
       "      <td>-0.243295</td>\n",
       "      <td>-0.419798</td>\n",
       "      <td>-0.744202</td>\n",
       "    </tr>\n",
       "    <tr>\n",
       "      <th>3</th>\n",
       "      <td>0.383349</td>\n",
       "      <td>0.384093</td>\n",
       "      <td>0.228692</td>\n",
       "      <td>-0.209936</td>\n",
       "      <td>0.421612</td>\n",
       "      <td>0.421936</td>\n",
       "      <td>0.422812</td>\n",
       "      <td>0.027562</td>\n",
       "      <td>-0.243295</td>\n",
       "      <td>-0.419798</td>\n",
       "      <td>-0.744202</td>\n",
       "    </tr>\n",
       "    <tr>\n",
       "      <th>4</th>\n",
       "      <td>0.383349</td>\n",
       "      <td>0.384093</td>\n",
       "      <td>0.228692</td>\n",
       "      <td>-0.209936</td>\n",
       "      <td>0.421612</td>\n",
       "      <td>0.421936</td>\n",
       "      <td>0.422812</td>\n",
       "      <td>0.027562</td>\n",
       "      <td>-0.243295</td>\n",
       "      <td>-0.419798</td>\n",
       "      <td>-0.744202</td>\n",
       "    </tr>\n",
       "    <tr>\n",
       "      <th>...</th>\n",
       "      <td>...</td>\n",
       "      <td>...</td>\n",
       "      <td>...</td>\n",
       "      <td>...</td>\n",
       "      <td>...</td>\n",
       "      <td>...</td>\n",
       "      <td>...</td>\n",
       "      <td>...</td>\n",
       "      <td>...</td>\n",
       "      <td>...</td>\n",
       "      <td>...</td>\n",
       "    </tr>\n",
       "    <tr>\n",
       "      <th>59863</th>\n",
       "      <td>-2.425481</td>\n",
       "      <td>2.284906</td>\n",
       "      <td>-0.298293</td>\n",
       "      <td>-1.105874</td>\n",
       "      <td>-2.661572</td>\n",
       "      <td>-4.257497</td>\n",
       "      <td>1.259549</td>\n",
       "      <td>1.373845</td>\n",
       "      <td>0.095632</td>\n",
       "      <td>-0.172919</td>\n",
       "      <td>0.209465</td>\n",
       "    </tr>\n",
       "    <tr>\n",
       "      <th>59864</th>\n",
       "      <td>-3.474225</td>\n",
       "      <td>-2.293175</td>\n",
       "      <td>-1.789402</td>\n",
       "      <td>-0.895438</td>\n",
       "      <td>-1.174061</td>\n",
       "      <td>-1.721734</td>\n",
       "      <td>-1.635729</td>\n",
       "      <td>2.211956</td>\n",
       "      <td>-0.667451</td>\n",
       "      <td>1.771665</td>\n",
       "      <td>1.147793</td>\n",
       "    </tr>\n",
       "    <tr>\n",
       "      <th>59865</th>\n",
       "      <td>-2.364945</td>\n",
       "      <td>-0.513138</td>\n",
       "      <td>-1.628900</td>\n",
       "      <td>-0.889598</td>\n",
       "      <td>-0.436679</td>\n",
       "      <td>-3.832227</td>\n",
       "      <td>-0.016559</td>\n",
       "      <td>2.711819</td>\n",
       "      <td>-1.452446</td>\n",
       "      <td>-0.097500</td>\n",
       "      <td>2.147213</td>\n",
       "    </tr>\n",
       "    <tr>\n",
       "      <th>59866</th>\n",
       "      <td>-1.152998</td>\n",
       "      <td>-1.553513</td>\n",
       "      <td>-2.398303</td>\n",
       "      <td>-0.959331</td>\n",
       "      <td>-2.997071</td>\n",
       "      <td>-0.402200</td>\n",
       "      <td>-2.564531</td>\n",
       "      <td>1.444993</td>\n",
       "      <td>-0.753546</td>\n",
       "      <td>0.768510</td>\n",
       "      <td>0.846365</td>\n",
       "    </tr>\n",
       "    <tr>\n",
       "      <th>59867</th>\n",
       "      <td>-4.222048</td>\n",
       "      <td>-2.679618</td>\n",
       "      <td>-2.650204</td>\n",
       "      <td>1.793338</td>\n",
       "      <td>-1.348899</td>\n",
       "      <td>-4.376780</td>\n",
       "      <td>-1.555279</td>\n",
       "      <td>0.767564</td>\n",
       "      <td>0.558369</td>\n",
       "      <td>0.226294</td>\n",
       "      <td>1.828476</td>\n",
       "    </tr>\n",
       "  </tbody>\n",
       "</table>\n",
       "<p>59868 rows × 11 columns</p>\n",
       "</div>"
      ],
      "text/plain": [
       "           roll     pitch       yaw   heading  rollRate  pitchRate   yawRate  \\\n",
       "0      0.383349  0.384093  0.228692 -0.209936  0.421612   0.421936  0.422812   \n",
       "1      0.383349  0.384093  0.228692 -0.209936  0.421612   0.421936  0.422812   \n",
       "2      0.383349  0.384093  0.228692 -0.209936  0.421612   0.421936  0.422812   \n",
       "3      0.383349  0.384093  0.228692 -0.209936  0.421612   0.421936  0.422812   \n",
       "4      0.383349  0.384093  0.228692 -0.209936  0.421612   0.421936  0.422812   \n",
       "...         ...       ...       ...       ...       ...        ...       ...   \n",
       "59863 -2.425481  2.284906 -0.298293 -1.105874 -2.661572  -4.257497  1.259549   \n",
       "59864 -3.474225 -2.293175 -1.789402 -0.895438 -1.174061  -1.721734 -1.635729   \n",
       "59865 -2.364945 -0.513138 -1.628900 -0.889598 -0.436679  -3.832227 -0.016559   \n",
       "59866 -1.152998 -1.553513 -2.398303 -0.959331 -2.997071  -0.402200 -2.564531   \n",
       "59867 -4.222048 -2.679618 -2.650204  1.793338 -1.348899  -4.376780 -1.555279   \n",
       "\n",
       "       groundSpeed  climbRate  altitudeRelative  throttlePct  \n",
       "0         0.027562  -0.243295         -0.419798    -0.744202  \n",
       "1         0.027562  -0.243295         -0.419798    -0.744202  \n",
       "2         0.027562  -0.243295         -0.419798    -0.744202  \n",
       "3         0.027562  -0.243295         -0.419798    -0.744202  \n",
       "4         0.027562  -0.243295         -0.419798    -0.744202  \n",
       "...            ...        ...               ...          ...  \n",
       "59863     1.373845   0.095632         -0.172919     0.209465  \n",
       "59864     2.211956  -0.667451          1.771665     1.147793  \n",
       "59865     2.711819  -1.452446         -0.097500     2.147213  \n",
       "59866     1.444993  -0.753546          0.768510     0.846365  \n",
       "59867     0.767564   0.558369          0.226294     1.828476  \n",
       "\n",
       "[59868 rows x 11 columns]"
      ]
     },
     "execution_count": 21,
     "metadata": {},
     "output_type": "execute_result"
    }
   ],
   "source": [
    "#Preparing the data for LSTM model\n",
    "data_pca = df.drop(columns=['id','Type', 'tag','error' ]).fillna(0)\n",
    "min_max_scaler = preprocessing.StandardScaler()\n",
    "np_scaled = min_max_scaler.fit_transform(data_pca)\n",
    "data_pca = pd.DataFrame(np_scaled, columns=data_pca.columns)\n",
    "data_pca"
   ]
  },
  {
   "cell_type": "code",
   "execution_count": 22,
   "metadata": {},
   "outputs": [],
   "source": [
    "from sklearn.decomposition import PCA\n",
    "\n",
    "pca = PCA(n_components = 2)\n",
    "pca.fit(data_pca)\n",
    "pca_array = pca.transform(data_pca)\n",
    "\n",
    "# Convert back to DataFrame for readability\n",
    "df_pca = pd.DataFrame(pca_array, columns = ['PC1','PC2'])\n",
    "# df_pca.columns = ['PC' + str(col+1) for col in df_pca.columns.values]\n",
    "df_pca['label'] = df['tag']"
   ]
  },
  {
   "cell_type": "code",
   "execution_count": 23,
   "metadata": {},
   "outputs": [
    {
     "data": {
      "text/plain": [
       "<AxesSubplot:xlabel='PC1', ylabel='PC2'>"
      ]
     },
     "execution_count": 23,
     "metadata": {},
     "output_type": "execute_result"
    },
    {
     "data": {
      "image/png": "[encoded data removed]",
      "text/plain": [
       "<Figure size 432x288 with 1 Axes>"
      ]
     },
     "metadata": {
      "needs_background": "light"
     },
     "output_type": "display_data"
    }
   ],
   "source": [
    "plot = df_pca.loc[df['tag'].isin(['normal'])]\n",
    "sns.scatterplot(data=plot, x='PC1', y='PC2', hue=plot['label'])"
   ]
  },
  {
   "cell_type": "code",
   "execution_count": 24,
   "metadata": {},
   "outputs": [
    {
     "data": {
      "text/plain": [
       "<AxesSubplot:xlabel='PC1', ylabel='PC2'>"
      ]
     },
     "execution_count": 24,
     "metadata": {},
     "output_type": "execute_result"
    },
    {
     "data": {
      "image/png": "[encoded data removed]",
      "text/plain": [
       "<Figure size 432x288 with 1 Axes>"
      ]
     },
     "metadata": {
      "needs_background": "light"
     },
     "output_type": "display_data"
    }
   ],
   "source": [
    "plot = df_pca.loc[df['tag'].isin(['noise'])]\n",
    "sns.scatterplot(data=plot, x='PC1', y='PC2', hue=plot['label'])"
   ]
  },
  {
   "cell_type": "code",
   "execution_count": 25,
   "metadata": {},
   "outputs": [
    {
     "data": {
      "text/plain": [
       "<AxesSubplot:xlabel='PC1', ylabel='PC2'>"
      ]
     },
     "execution_count": 25,
     "metadata": {},
     "output_type": "execute_result"
    },
    {
     "data": {
      "image/png": "[encoded data removed]",
      "text/plain": [
       "<Figure size 432x288 with 1 Axes>"
      ]
     },
     "metadata": {
      "needs_background": "light"
     },
     "output_type": "display_data"
    }
   ],
   "source": [
    "plot = df_pca.loc[df['tag'].isin(['mild'])]\n",
    "sns.scatterplot(data=plot, x='PC1', y='PC2', hue=plot['label'])"
   ]
  },
  {
   "cell_type": "markdown",
   "metadata": {
    "id": "PEmmVXxiU4mW"
   },
   "source": [
    "# 2- Exploratory Data Analysis (EDA)"
   ]
  },
  {
   "cell_type": "code",
   "execution_count": 26,
   "metadata": {
    "scrolled": true
   },
   "outputs": [
    {
     "data": {
      "text/html": [
       "<div>\n",
       "<style scoped>\n",
       "    .dataframe tbody tr th:only-of-type {\n",
       "        vertical-align: middle;\n",
       "    }\n",
       "\n",
       "    .dataframe tbody tr th {\n",
       "        vertical-align: top;\n",
       "    }\n",
       "\n",
       "    .dataframe thead th {\n",
       "        text-align: right;\n",
       "    }\n",
       "</style>\n",
       "<table border=\"1\" class=\"dataframe\">\n",
       "  <thead>\n",
       "    <tr style=\"text-align: right;\">\n",
       "      <th></th>\n",
       "      <th>id</th>\n",
       "      <th>roll</th>\n",
       "      <th>pitch</th>\n",
       "      <th>yaw</th>\n",
       "      <th>heading</th>\n",
       "      <th>rollRate</th>\n",
       "      <th>pitchRate</th>\n",
       "      <th>yawRate</th>\n",
       "      <th>groundSpeed</th>\n",
       "      <th>climbRate</th>\n",
       "      <th>altitudeRelative</th>\n",
       "      <th>throttlePct</th>\n",
       "    </tr>\n",
       "  </thead>\n",
       "  <tbody>\n",
       "    <tr>\n",
       "      <th>count</th>\n",
       "      <td>33017.000000</td>\n",
       "      <td>33017.000000</td>\n",
       "      <td>33017.000000</td>\n",
       "      <td>33017.000000</td>\n",
       "      <td>33017.000000</td>\n",
       "      <td>33017.000000</td>\n",
       "      <td>33017.000000</td>\n",
       "      <td>33017.000000</td>\n",
       "      <td>33017.000000</td>\n",
       "      <td>33017.000000</td>\n",
       "      <td>33017.000000</td>\n",
       "      <td>33017.000000</td>\n",
       "    </tr>\n",
       "    <tr>\n",
       "      <th>mean</th>\n",
       "      <td>207.405155</td>\n",
       "      <td>0.000806</td>\n",
       "      <td>0.002833</td>\n",
       "      <td>0.844894</td>\n",
       "      <td>115.250263</td>\n",
       "      <td>0.000154</td>\n",
       "      <td>-0.000066</td>\n",
       "      <td>-0.000037</td>\n",
       "      <td>0.037203</td>\n",
       "      <td>-0.111073</td>\n",
       "      <td>-0.528727</td>\n",
       "      <td>0.012212</td>\n",
       "    </tr>\n",
       "    <tr>\n",
       "      <th>std</th>\n",
       "      <td>165.402414</td>\n",
       "      <td>0.008437</td>\n",
       "      <td>0.009592</td>\n",
       "      <td>0.762674</td>\n",
       "      <td>129.866613</td>\n",
       "      <td>0.001544</td>\n",
       "      <td>0.001591</td>\n",
       "      <td>0.001599</td>\n",
       "      <td>0.022983</td>\n",
       "      <td>0.082060</td>\n",
       "      <td>0.423008</td>\n",
       "      <td>0.036281</td>\n",
       "    </tr>\n",
       "    <tr>\n",
       "      <th>min</th>\n",
       "      <td>6.000000</td>\n",
       "      <td>-0.020466</td>\n",
       "      <td>-0.023518</td>\n",
       "      <td>-0.061491</td>\n",
       "      <td>0.000000</td>\n",
       "      <td>-0.004801</td>\n",
       "      <td>-0.004413</td>\n",
       "      <td>-0.004161</td>\n",
       "      <td>0.000375</td>\n",
       "      <td>-0.234207</td>\n",
       "      <td>-0.971000</td>\n",
       "      <td>0.000000</td>\n",
       "    </tr>\n",
       "    <tr>\n",
       "      <th>25%</th>\n",
       "      <td>66.000000</td>\n",
       "      <td>-0.005022</td>\n",
       "      <td>-0.004126</td>\n",
       "      <td>0.075876</td>\n",
       "      <td>0.080000</td>\n",
       "      <td>-0.000828</td>\n",
       "      <td>-0.001275</td>\n",
       "      <td>-0.001214</td>\n",
       "      <td>0.018749</td>\n",
       "      <td>-0.173954</td>\n",
       "      <td>-0.817000</td>\n",
       "      <td>0.000000</td>\n",
       "    </tr>\n",
       "    <tr>\n",
       "      <th>50%</th>\n",
       "      <td>134.000000</td>\n",
       "      <td>0.000648</td>\n",
       "      <td>0.002261</td>\n",
       "      <td>1.568556</td>\n",
       "      <td>85.260002</td>\n",
       "      <td>0.000223</td>\n",
       "      <td>-0.000081</td>\n",
       "      <td>-0.000036</td>\n",
       "      <td>0.033824</td>\n",
       "      <td>-0.138986</td>\n",
       "      <td>-0.756000</td>\n",
       "      <td>0.000000</td>\n",
       "    </tr>\n",
       "    <tr>\n",
       "      <th>75%</th>\n",
       "      <td>370.000000</td>\n",
       "      <td>0.007013</td>\n",
       "      <td>0.009642</td>\n",
       "      <td>1.570579</td>\n",
       "      <td>92.820000</td>\n",
       "      <td>0.001211</td>\n",
       "      <td>0.001067</td>\n",
       "      <td>0.000924</td>\n",
       "      <td>0.050225</td>\n",
       "      <td>-0.063068</td>\n",
       "      <td>0.024000</td>\n",
       "      <td>0.000000</td>\n",
       "    </tr>\n",
       "    <tr>\n",
       "      <th>max</th>\n",
       "      <td>514.000000</td>\n",
       "      <td>0.023513</td>\n",
       "      <td>0.027969</td>\n",
       "      <td>1.581190</td>\n",
       "      <td>359.989990</td>\n",
       "      <td>0.004769</td>\n",
       "      <td>0.005313</td>\n",
       "      <td>0.004973</td>\n",
       "      <td>0.128819</td>\n",
       "      <td>0.135915</td>\n",
       "      <td>0.361000</td>\n",
       "      <td>0.120000</td>\n",
       "    </tr>\n",
       "  </tbody>\n",
       "</table>\n",
       "</div>"
      ],
      "text/plain": [
       "                 id          roll         pitch           yaw       heading  \\\n",
       "count  33017.000000  33017.000000  33017.000000  33017.000000  33017.000000   \n",
       "mean     207.405155      0.000806      0.002833      0.844894    115.250263   \n",
       "std      165.402414      0.008437      0.009592      0.762674    129.866613   \n",
       "min        6.000000     -0.020466     -0.023518     -0.061491      0.000000   \n",
       "25%       66.000000     -0.005022     -0.004126      0.075876      0.080000   \n",
       "50%      134.000000      0.000648      0.002261      1.568556     85.260002   \n",
       "75%      370.000000      0.007013      0.009642      1.570579     92.820000   \n",
       "max      514.000000      0.023513      0.027969      1.581190    359.989990   \n",
       "\n",
       "           rollRate     pitchRate       yawRate   groundSpeed     climbRate  \\\n",
       "count  33017.000000  33017.000000  33017.000000  33017.000000  33017.000000   \n",
       "mean       0.000154     -0.000066     -0.000037      0.037203     -0.111073   \n",
       "std        0.001544      0.001591      0.001599      0.022983      0.082060   \n",
       "min       -0.004801     -0.004413     -0.004161      0.000375     -0.234207   \n",
       "25%       -0.000828     -0.001275     -0.001214      0.018749     -0.173954   \n",
       "50%        0.000223     -0.000081     -0.000036      0.033824     -0.138986   \n",
       "75%        0.001211      0.001067      0.000924      0.050225     -0.063068   \n",
       "max        0.004769      0.005313      0.004973      0.128819      0.135915   \n",
       "\n",
       "       altitudeRelative   throttlePct  \n",
       "count      33017.000000  33017.000000  \n",
       "mean          -0.528727      0.012212  \n",
       "std            0.423008      0.036281  \n",
       "min           -0.971000      0.000000  \n",
       "25%           -0.817000      0.000000  \n",
       "50%           -0.756000      0.000000  \n",
       "75%            0.024000      0.000000  \n",
       "max            0.361000      0.120000  "
      ]
     },
     "execution_count": 26,
     "metadata": {},
     "output_type": "execute_result"
    }
   ],
   "source": [
    "df[df['error']==False].describe()"
   ]
  },
  {
   "cell_type": "code",
   "execution_count": 27,
   "metadata": {
    "scrolled": true
   },
   "outputs": [
    {
     "data": {
      "text/html": [
       "<div>\n",
       "<style scoped>\n",
       "    .dataframe tbody tr th:only-of-type {\n",
       "        vertical-align: middle;\n",
       "    }\n",
       "\n",
       "    .dataframe tbody tr th {\n",
       "        vertical-align: top;\n",
       "    }\n",
       "\n",
       "    .dataframe thead th {\n",
       "        text-align: right;\n",
       "    }\n",
       "</style>\n",
       "<table border=\"1\" class=\"dataframe\">\n",
       "  <thead>\n",
       "    <tr style=\"text-align: right;\">\n",
       "      <th></th>\n",
       "      <th>id</th>\n",
       "      <th>roll</th>\n",
       "      <th>pitch</th>\n",
       "      <th>yaw</th>\n",
       "      <th>heading</th>\n",
       "      <th>rollRate</th>\n",
       "      <th>pitchRate</th>\n",
       "      <th>yawRate</th>\n",
       "      <th>groundSpeed</th>\n",
       "      <th>climbRate</th>\n",
       "      <th>altitudeRelative</th>\n",
       "      <th>throttlePct</th>\n",
       "    </tr>\n",
       "  </thead>\n",
       "  <tbody>\n",
       "    <tr>\n",
       "      <th>count</th>\n",
       "      <td>26851.000000</td>\n",
       "      <td>26851.000000</td>\n",
       "      <td>26851.000000</td>\n",
       "      <td>26851.000000</td>\n",
       "      <td>26851.000000</td>\n",
       "      <td>26851.000000</td>\n",
       "      <td>26851.000000</td>\n",
       "      <td>26851.000000</td>\n",
       "      <td>26851.000000</td>\n",
       "      <td>26851.000000</td>\n",
       "      <td>26851.000000</td>\n",
       "      <td>26851.000000</td>\n",
       "    </tr>\n",
       "    <tr>\n",
       "      <th>mean</th>\n",
       "      <td>50.289449</td>\n",
       "      <td>-5.191411</td>\n",
       "      <td>-5.271968</td>\n",
       "      <td>-4.291541</td>\n",
       "      <td>130.159760</td>\n",
       "      <td>-2.894395</td>\n",
       "      <td>-2.843500</td>\n",
       "      <td>-2.893298</td>\n",
       "      <td>-0.060685</td>\n",
       "      <td>-0.031673</td>\n",
       "      <td>4.208453</td>\n",
       "      <td>0.658885</td>\n",
       "    </tr>\n",
       "    <tr>\n",
       "      <th>std</th>\n",
       "      <td>36.723424</td>\n",
       "      <td>8.175582</td>\n",
       "      <td>8.321292</td>\n",
       "      <td>8.263905</td>\n",
       "      <td>142.919600</td>\n",
       "      <td>4.062449</td>\n",
       "      <td>4.006260</td>\n",
       "      <td>4.043492</td>\n",
       "      <td>1.806620</td>\n",
       "      <td>0.597060</td>\n",
       "      <td>7.732427</td>\n",
       "      <td>0.368141</td>\n",
       "    </tr>\n",
       "    <tr>\n",
       "      <th>min</th>\n",
       "      <td>0.000000</td>\n",
       "      <td>-48.822454</td>\n",
       "      <td>-53.571869</td>\n",
       "      <td>-44.417768</td>\n",
       "      <td>-42.709561</td>\n",
       "      <td>-25.546001</td>\n",
       "      <td>-26.803217</td>\n",
       "      <td>-22.341813</td>\n",
       "      <td>-7.195456</td>\n",
       "      <td>-2.971231</td>\n",
       "      <td>-24.377808</td>\n",
       "      <td>-1.842067</td>\n",
       "    </tr>\n",
       "    <tr>\n",
       "      <th>25%</th>\n",
       "      <td>17.000000</td>\n",
       "      <td>-9.138330</td>\n",
       "      <td>-9.290264</td>\n",
       "      <td>-8.296445</td>\n",
       "      <td>0.229745</td>\n",
       "      <td>-4.612125</td>\n",
       "      <td>-4.505031</td>\n",
       "      <td>-4.595928</td>\n",
       "      <td>-1.027568</td>\n",
       "      <td>-0.191787</td>\n",
       "      <td>0.003183</td>\n",
       "      <td>0.510632</td>\n",
       "    </tr>\n",
       "    <tr>\n",
       "      <th>50%</th>\n",
       "      <td>43.000000</td>\n",
       "      <td>-1.698873</td>\n",
       "      <td>-1.712099</td>\n",
       "      <td>-0.949445</td>\n",
       "      <td>88.957910</td>\n",
       "      <td>-1.579908</td>\n",
       "      <td>-1.601555</td>\n",
       "      <td>-1.591066</td>\n",
       "      <td>-0.278749</td>\n",
       "      <td>-0.000324</td>\n",
       "      <td>3.586820</td>\n",
       "      <td>0.659364</td>\n",
       "    </tr>\n",
       "    <tr>\n",
       "      <th>75%</th>\n",
       "      <td>85.000000</td>\n",
       "      <td>-0.524382</td>\n",
       "      <td>-0.529838</td>\n",
       "      <td>0.592024</td>\n",
       "      <td>340.832798</td>\n",
       "      <td>-0.489292</td>\n",
       "      <td>-0.489390</td>\n",
       "      <td>-0.492563</td>\n",
       "      <td>0.861755</td>\n",
       "      <td>0.171113</td>\n",
       "      <td>8.638197</td>\n",
       "      <td>0.804529</td>\n",
       "    </tr>\n",
       "    <tr>\n",
       "      <th>max</th>\n",
       "      <td>114.000000</td>\n",
       "      <td>27.892036</td>\n",
       "      <td>32.098754</td>\n",
       "      <td>28.455867</td>\n",
       "      <td>386.732065</td>\n",
       "      <td>14.468151</td>\n",
       "      <td>13.926677</td>\n",
       "      <td>12.638765</td>\n",
       "      <td>7.696467</td>\n",
       "      <td>3.920846</td>\n",
       "      <td>47.895655</td>\n",
       "      <td>2.978167</td>\n",
       "    </tr>\n",
       "  </tbody>\n",
       "</table>\n",
       "</div>"
      ],
      "text/plain": [
       "                 id          roll         pitch           yaw       heading  \\\n",
       "count  26851.000000  26851.000000  26851.000000  26851.000000  26851.000000   \n",
       "mean      50.289449     -5.191411     -5.271968     -4.291541    130.159760   \n",
       "std       36.723424      8.175582      8.321292      8.263905    142.919600   \n",
       "min        0.000000    -48.822454    -53.571869    -44.417768    -42.709561   \n",
       "25%       17.000000     -9.138330     -9.290264     -8.296445      0.229745   \n",
       "50%       43.000000     -1.698873     -1.712099     -0.949445     88.957910   \n",
       "75%       85.000000     -0.524382     -0.529838      0.592024    340.832798   \n",
       "max      114.000000     27.892036     32.098754     28.455867    386.732065   \n",
       "\n",
       "           rollRate     pitchRate       yawRate   groundSpeed     climbRate  \\\n",
       "count  26851.000000  26851.000000  26851.000000  26851.000000  26851.000000   \n",
       "mean      -2.894395     -2.843500     -2.893298     -0.060685     -0.031673   \n",
       "std        4.062449      4.006260      4.043492      1.806620      0.597060   \n",
       "min      -25.546001    -26.803217    -22.341813     -7.195456     -2.971231   \n",
       "25%       -4.612125     -4.505031     -4.595928     -1.027568     -0.191787   \n",
       "50%       -1.579908     -1.601555     -1.591066     -0.278749     -0.000324   \n",
       "75%       -0.489292     -0.489390     -0.492563      0.861755      0.171113   \n",
       "max       14.468151     13.926677     12.638765      7.696467      3.920846   \n",
       "\n",
       "       altitudeRelative   throttlePct  \n",
       "count      26851.000000  26851.000000  \n",
       "mean           4.208453      0.658885  \n",
       "std            7.732427      0.368141  \n",
       "min          -24.377808     -1.842067  \n",
       "25%            0.003183      0.510632  \n",
       "50%            3.586820      0.659364  \n",
       "75%            8.638197      0.804529  \n",
       "max           47.895655      2.978167  "
      ]
     },
     "execution_count": 27,
     "metadata": {},
     "output_type": "execute_result"
    }
   ],
   "source": [
    "df[df['error']==True].describe()"
   ]
  },
  {
   "cell_type": "code",
   "execution_count": 28,
   "metadata": {
    "colab": {
     "base_uri": "https://localhost:8080/"
    },
    "id": "yDdwkkVDY_j-",
    "outputId": "b5e99b2c-93c5-49ee-e1b2-d7f898d98034",
    "scrolled": true
   },
   "outputs": [
    {
     "name": "stdout",
     "output_type": "stream",
     "text": [
      "Rows: 59868\n",
      "   \n",
      "Columns: 15\n"
     ]
    }
   ],
   "source": [
    "df.pipe(shape)"
   ]
  },
  {
   "cell_type": "code",
   "execution_count": 29,
   "metadata": {
    "colab": {
     "base_uri": "https://localhost:8080/"
    },
    "id": "rMiUA9OnahUU",
    "outputId": "0035f1f2-5252-4c67-c2ee-39800d14b742",
    "scrolled": true
   },
   "outputs": [
    {
     "name": "stdout",
     "output_type": "stream",
     "text": [
      "<class 'pandas.core.frame.DataFrame'>\n",
      "RangeIndex: 59868 entries, 0 to 59867\n",
      "Data columns (total 15 columns):\n",
      " #   Column            Non-Null Count  Dtype  \n",
      "---  ------            --------------  -----  \n",
      " 0   id                59868 non-null  int64  \n",
      " 1   Type              59868 non-null  object \n",
      " 2   error             59868 non-null  bool   \n",
      " 3   roll              59868 non-null  float64\n",
      " 4   pitch             59868 non-null  float64\n",
      " 5   yaw               59868 non-null  float64\n",
      " 6   heading           59868 non-null  float64\n",
      " 7   rollRate          59868 non-null  float64\n",
      " 8   pitchRate         59868 non-null  float64\n",
      " 9   yawRate           59868 non-null  float64\n",
      " 10  groundSpeed       59868 non-null  float64\n",
      " 11  climbRate         59868 non-null  float64\n",
      " 12  altitudeRelative  59868 non-null  float64\n",
      " 13  throttlePct       59868 non-null  float64\n",
      " 14  tag               59868 non-null  object \n",
      "dtypes: bool(1), float64(11), int64(1), object(2)\n",
      "memory usage: 6.5+ MB\n",
      "None\n"
     ]
    }
   ],
   "source": [
    "df.pipe(info)"
   ]
  },
  {
   "cell_type": "code",
   "execution_count": 30,
   "metadata": {
    "colab": {
     "base_uri": "https://localhost:8080/"
    },
    "id": "QnC-VacjanCt",
    "outputId": "e63f4af6-821d-491c-fcb2-305e53e83765",
    "scrolled": true
   },
   "outputs": [
    {
     "name": "stdout",
     "output_type": "stream",
     "text": [
      "id                  0\n",
      "Type                0\n",
      "error               0\n",
      "roll                0\n",
      "pitch               0\n",
      "yaw                 0\n",
      "heading             0\n",
      "rollRate            0\n",
      "pitchRate           0\n",
      "yawRate             0\n",
      "groundSpeed         0\n",
      "climbRate           0\n",
      "altitudeRelative    0\n",
      "throttlePct         0\n",
      "tag                 0\n",
      "dtype: int64\n"
     ]
    }
   ],
   "source": [
    "df.pipe(nulls_qtd)"
   ]
  },
  {
   "cell_type": "code",
   "execution_count": 31,
   "metadata": {},
   "outputs": [
    {
     "data": {
      "text/plain": [
       "0"
      ]
     },
     "execution_count": 31,
     "metadata": {},
     "output_type": "execute_result"
    }
   ],
   "source": [
    "df[df[\"yaw\"].isnull()][\"id\"].nunique()"
   ]
  },
  {
   "cell_type": "code",
   "execution_count": 32,
   "metadata": {},
   "outputs": [],
   "source": [
    "df[\"yaw\"] = df[\"yaw\"].fillna(0)"
   ]
  },
  {
   "cell_type": "code",
   "execution_count": 33,
   "metadata": {
    "colab": {
     "base_uri": "https://localhost:8080/",
     "height": 0
    },
    "id": "A9e4ItPXd10F",
    "outputId": "dbd9ce52-d70b-4560-a961-cf3b67929f79",
    "scrolled": false
   },
   "outputs": [
    {
     "data": {
      "text/plain": [
       "<AxesSubplot:>"
      ]
     },
     "execution_count": 33,
     "metadata": {},
     "output_type": "execute_result"
    },
    {
     "data": {
      "image/png": "[encoded data removed]",
      "text/plain": [
       "<Figure size 1440x864 with 2 Axes>"
      ]
     },
     "metadata": {
      "needs_background": "light"
     },
     "output_type": "display_data"
    }
   ],
   "source": [
    "plt.figure(figsize=(20,12))\n",
    "sns.heatmap(df.drop(['id'], axis=1).corr(), annot=True, cmap='jet')"
   ]
  },
  {
   "cell_type": "markdown",
   "metadata": {
    "id": "9hSPteFylfJ0"
   },
   "source": [
    "# 3- Anomaly Detection (LSTM)"
   ]
  },
  {
   "cell_type": "code",
   "execution_count": 34,
   "metadata": {
    "colab": {
     "base_uri": "https://localhost:8080/",
     "height": 424
    },
    "id": "9L5FpTBic9ic",
    "outputId": "d27ca05c-39eb-472f-9adc-68fb5dca7b99",
    "scrolled": true
   },
   "outputs": [
    {
     "name": "stderr",
     "output_type": "stream",
     "text": [
      "/home/vannini/.local/lib/python3.6/site-packages/pandas/core/indexing.py:1743: SettingWithCopyWarning: \n",
      "A value is trying to be set on a copy of a slice from a DataFrame.\n",
      "Try using .loc[row_indexer,col_indexer] = value instead\n",
      "\n",
      "See the caveats in the documentation: https://pandas.pydata.org/pandas-docs/stable/user_guide/indexing.html#returning-a-view-versus-a-copy\n",
      "  isetter(ilocs[0], value)\n"
     ]
    },
    {
     "data": {
      "text/html": [
       "<div>\n",
       "<style scoped>\n",
       "    .dataframe tbody tr th:only-of-type {\n",
       "        vertical-align: middle;\n",
       "    }\n",
       "\n",
       "    .dataframe tbody tr th {\n",
       "        vertical-align: top;\n",
       "    }\n",
       "\n",
       "    .dataframe thead th {\n",
       "        text-align: right;\n",
       "    }\n",
       "</style>\n",
       "<table border=\"1\" class=\"dataframe\">\n",
       "  <thead>\n",
       "    <tr style=\"text-align: right;\">\n",
       "      <th></th>\n",
       "      <th>roll</th>\n",
       "      <th>pitch</th>\n",
       "      <th>yaw</th>\n",
       "      <th>error</th>\n",
       "    </tr>\n",
       "  </thead>\n",
       "  <tbody>\n",
       "    <tr>\n",
       "      <th>0</th>\n",
       "      <td>-0.007304</td>\n",
       "      <td>0.002815</td>\n",
       "      <td>-0.058843</td>\n",
       "      <td>0</td>\n",
       "    </tr>\n",
       "    <tr>\n",
       "      <th>1</th>\n",
       "      <td>-0.007304</td>\n",
       "      <td>0.002815</td>\n",
       "      <td>-0.058843</td>\n",
       "      <td>0</td>\n",
       "    </tr>\n",
       "    <tr>\n",
       "      <th>2</th>\n",
       "      <td>-0.007304</td>\n",
       "      <td>0.002815</td>\n",
       "      <td>-0.058843</td>\n",
       "      <td>0</td>\n",
       "    </tr>\n",
       "    <tr>\n",
       "      <th>3</th>\n",
       "      <td>-0.007304</td>\n",
       "      <td>0.002815</td>\n",
       "      <td>-0.058843</td>\n",
       "      <td>0</td>\n",
       "    </tr>\n",
       "    <tr>\n",
       "      <th>4</th>\n",
       "      <td>-0.007304</td>\n",
       "      <td>0.002815</td>\n",
       "      <td>-0.058843</td>\n",
       "      <td>0</td>\n",
       "    </tr>\n",
       "    <tr>\n",
       "      <th>...</th>\n",
       "      <td>...</td>\n",
       "      <td>...</td>\n",
       "      <td>...</td>\n",
       "      <td>...</td>\n",
       "    </tr>\n",
       "    <tr>\n",
       "      <th>59863</th>\n",
       "      <td>-17.010648</td>\n",
       "      <td>11.710513</td>\n",
       "      <td>-3.284860</td>\n",
       "      <td>1</td>\n",
       "    </tr>\n",
       "    <tr>\n",
       "      <th>59864</th>\n",
       "      <td>-23.359250</td>\n",
       "      <td>-16.487313</td>\n",
       "      <td>-12.412916</td>\n",
       "      <td>1</td>\n",
       "    </tr>\n",
       "    <tr>\n",
       "      <th>59865</th>\n",
       "      <td>-16.644187</td>\n",
       "      <td>-5.523513</td>\n",
       "      <td>-11.430381</td>\n",
       "      <td>1</td>\n",
       "    </tr>\n",
       "    <tr>\n",
       "      <th>59866</th>\n",
       "      <td>-9.307633</td>\n",
       "      <td>-11.931500</td>\n",
       "      <td>-16.140397</td>\n",
       "      <td>1</td>\n",
       "    </tr>\n",
       "    <tr>\n",
       "      <th>59867</th>\n",
       "      <td>-27.886217</td>\n",
       "      <td>-18.867533</td>\n",
       "      <td>-17.682451</td>\n",
       "      <td>1</td>\n",
       "    </tr>\n",
       "  </tbody>\n",
       "</table>\n",
       "<p>59868 rows × 4 columns</p>\n",
       "</div>"
      ],
      "text/plain": [
       "            roll      pitch        yaw  error\n",
       "0      -0.007304   0.002815  -0.058843      0\n",
       "1      -0.007304   0.002815  -0.058843      0\n",
       "2      -0.007304   0.002815  -0.058843      0\n",
       "3      -0.007304   0.002815  -0.058843      0\n",
       "4      -0.007304   0.002815  -0.058843      0\n",
       "...          ...        ...        ...    ...\n",
       "59863 -17.010648  11.710513  -3.284860      1\n",
       "59864 -23.359250 -16.487313 -12.412916      1\n",
       "59865 -16.644187  -5.523513 -11.430381      1\n",
       "59866  -9.307633 -11.931500 -16.140397      1\n",
       "59867 -27.886217 -18.867533 -17.682451      1\n",
       "\n",
       "[59868 rows x 4 columns]"
      ]
     },
     "execution_count": 34,
     "metadata": {},
     "output_type": "execute_result"
    }
   ],
   "source": [
    "df_reduced = df.pipe(select_columns, ['roll', 'pitch', 'yaw', 'error'])\n",
    "df_reduced.loc[:,'error'] = df_reduced['error'].astype(int)\n",
    "df_reduced"
   ]
  },
  {
   "cell_type": "code",
   "execution_count": 35,
   "metadata": {
    "colab": {
     "base_uri": "https://localhost:8080/",
     "height": 424
    },
    "id": "tu_VJJLzz-0a",
    "outputId": "56a7e004-037c-479c-d136-aec4d8f56055",
    "scrolled": true
   },
   "outputs": [
    {
     "data": {
      "text/html": [
       "<div>\n",
       "<style scoped>\n",
       "    .dataframe tbody tr th:only-of-type {\n",
       "        vertical-align: middle;\n",
       "    }\n",
       "\n",
       "    .dataframe tbody tr th {\n",
       "        vertical-align: top;\n",
       "    }\n",
       "\n",
       "    .dataframe thead th {\n",
       "        text-align: right;\n",
       "    }\n",
       "</style>\n",
       "<table border=\"1\" class=\"dataframe\">\n",
       "  <thead>\n",
       "    <tr style=\"text-align: right;\">\n",
       "      <th></th>\n",
       "      <th>roll</th>\n",
       "      <th>pitch</th>\n",
       "      <th>yaw</th>\n",
       "      <th>error</th>\n",
       "    </tr>\n",
       "  </thead>\n",
       "  <tbody>\n",
       "    <tr>\n",
       "      <th>0</th>\n",
       "      <td>0.383349</td>\n",
       "      <td>0.384093</td>\n",
       "      <td>0.228692</td>\n",
       "      <td>-0.901802</td>\n",
       "    </tr>\n",
       "    <tr>\n",
       "      <th>1</th>\n",
       "      <td>0.383349</td>\n",
       "      <td>0.384093</td>\n",
       "      <td>0.228692</td>\n",
       "      <td>-0.901802</td>\n",
       "    </tr>\n",
       "    <tr>\n",
       "      <th>2</th>\n",
       "      <td>0.383349</td>\n",
       "      <td>0.384093</td>\n",
       "      <td>0.228692</td>\n",
       "      <td>-0.901802</td>\n",
       "    </tr>\n",
       "    <tr>\n",
       "      <th>3</th>\n",
       "      <td>0.383349</td>\n",
       "      <td>0.384093</td>\n",
       "      <td>0.228692</td>\n",
       "      <td>-0.901802</td>\n",
       "    </tr>\n",
       "    <tr>\n",
       "      <th>4</th>\n",
       "      <td>0.383349</td>\n",
       "      <td>0.384093</td>\n",
       "      <td>0.228692</td>\n",
       "      <td>-0.901802</td>\n",
       "    </tr>\n",
       "    <tr>\n",
       "      <th>...</th>\n",
       "      <td>...</td>\n",
       "      <td>...</td>\n",
       "      <td>...</td>\n",
       "      <td>...</td>\n",
       "    </tr>\n",
       "    <tr>\n",
       "      <th>59863</th>\n",
       "      <td>-2.425481</td>\n",
       "      <td>2.284906</td>\n",
       "      <td>-0.298293</td>\n",
       "      <td>1.108890</td>\n",
       "    </tr>\n",
       "    <tr>\n",
       "      <th>59864</th>\n",
       "      <td>-3.474225</td>\n",
       "      <td>-2.293175</td>\n",
       "      <td>-1.789402</td>\n",
       "      <td>1.108890</td>\n",
       "    </tr>\n",
       "    <tr>\n",
       "      <th>59865</th>\n",
       "      <td>-2.364945</td>\n",
       "      <td>-0.513138</td>\n",
       "      <td>-1.628900</td>\n",
       "      <td>1.108890</td>\n",
       "    </tr>\n",
       "    <tr>\n",
       "      <th>59866</th>\n",
       "      <td>-1.152998</td>\n",
       "      <td>-1.553513</td>\n",
       "      <td>-2.398303</td>\n",
       "      <td>1.108890</td>\n",
       "    </tr>\n",
       "    <tr>\n",
       "      <th>59867</th>\n",
       "      <td>-4.222048</td>\n",
       "      <td>-2.679618</td>\n",
       "      <td>-2.650204</td>\n",
       "      <td>1.108890</td>\n",
       "    </tr>\n",
       "  </tbody>\n",
       "</table>\n",
       "<p>59868 rows × 4 columns</p>\n",
       "</div>"
      ],
      "text/plain": [
       "           roll     pitch       yaw     error\n",
       "0      0.383349  0.384093  0.228692 -0.901802\n",
       "1      0.383349  0.384093  0.228692 -0.901802\n",
       "2      0.383349  0.384093  0.228692 -0.901802\n",
       "3      0.383349  0.384093  0.228692 -0.901802\n",
       "4      0.383349  0.384093  0.228692 -0.901802\n",
       "...         ...       ...       ...       ...\n",
       "59863 -2.425481  2.284906 -0.298293  1.108890\n",
       "59864 -3.474225 -2.293175 -1.789402  1.108890\n",
       "59865 -2.364945 -0.513138 -1.628900  1.108890\n",
       "59866 -1.152998 -1.553513 -2.398303  1.108890\n",
       "59867 -4.222048 -2.679618 -2.650204  1.108890\n",
       "\n",
       "[59868 rows x 4 columns]"
      ]
     },
     "execution_count": 35,
     "metadata": {},
     "output_type": "execute_result"
    }
   ],
   "source": [
    "#Preparing the data for LSTM model\n",
    "data_n = df_reduced\n",
    "min_max_scaler = preprocessing.StandardScaler()\n",
    "np_scaled = min_max_scaler.fit_transform(data_n)\n",
    "data_n = pd.DataFrame(np_scaled, columns=data_n.columns)\n",
    "data_n"
   ]
  },
  {
   "cell_type": "code",
   "execution_count": 36,
   "metadata": {},
   "outputs": [
    {
     "data": {
      "text/html": [
       "<div>\n",
       "<style scoped>\n",
       "    .dataframe tbody tr th:only-of-type {\n",
       "        vertical-align: middle;\n",
       "    }\n",
       "\n",
       "    .dataframe tbody tr th {\n",
       "        vertical-align: top;\n",
       "    }\n",
       "\n",
       "    .dataframe thead th {\n",
       "        text-align: right;\n",
       "    }\n",
       "</style>\n",
       "<table border=\"1\" class=\"dataframe\">\n",
       "  <thead>\n",
       "    <tr style=\"text-align: right;\">\n",
       "      <th></th>\n",
       "      <th>roll</th>\n",
       "      <th>pitch</th>\n",
       "      <th>yaw</th>\n",
       "      <th>error</th>\n",
       "    </tr>\n",
       "  </thead>\n",
       "  <tbody>\n",
       "    <tr>\n",
       "      <th>count</th>\n",
       "      <td>5.986800e+04</td>\n",
       "      <td>5.986800e+04</td>\n",
       "      <td>5.986800e+04</td>\n",
       "      <td>5.986800e+04</td>\n",
       "    </tr>\n",
       "    <tr>\n",
       "      <th>mean</th>\n",
       "      <td>-7.595833e-18</td>\n",
       "      <td>-6.076667e-17</td>\n",
       "      <td>-3.038333e-17</td>\n",
       "      <td>-6.076667e-17</td>\n",
       "    </tr>\n",
       "    <tr>\n",
       "      <th>std</th>\n",
       "      <td>1.000008e+00</td>\n",
       "      <td>1.000008e+00</td>\n",
       "      <td>1.000008e+00</td>\n",
       "      <td>1.000008e+00</td>\n",
       "    </tr>\n",
       "    <tr>\n",
       "      <th>min</th>\n",
       "      <td>-7.680564e+00</td>\n",
       "      <td>-8.314069e+00</td>\n",
       "      <td>-7.017539e+00</td>\n",
       "      <td>-9.018025e-01</td>\n",
       "    </tr>\n",
       "    <tr>\n",
       "      <th>25%</th>\n",
       "      <td>1.538244e-01</td>\n",
       "      <td>1.540546e-01</td>\n",
       "      <td>1.469386e-01</td>\n",
       "      <td>-9.018025e-01</td>\n",
       "    </tr>\n",
       "    <tr>\n",
       "      <th>50%</th>\n",
       "      <td>3.836455e-01</td>\n",
       "      <td>3.828805e-01</td>\n",
       "      <td>2.533175e-01</td>\n",
       "      <td>-9.018025e-01</td>\n",
       "    </tr>\n",
       "    <tr>\n",
       "      <th>75%</th>\n",
       "      <td>3.852955e-01</td>\n",
       "      <td>3.847512e-01</td>\n",
       "      <td>4.947794e-01</td>\n",
       "      <td>1.108890e+00</td>\n",
       "    </tr>\n",
       "    <tr>\n",
       "      <th>max</th>\n",
       "      <td>4.992121e+00</td>\n",
       "      <td>5.595056e+00</td>\n",
       "      <td>4.886698e+00</td>\n",
       "      <td>1.108890e+00</td>\n",
       "    </tr>\n",
       "  </tbody>\n",
       "</table>\n",
       "</div>"
      ],
      "text/plain": [
       "               roll         pitch           yaw         error\n",
       "count  5.986800e+04  5.986800e+04  5.986800e+04  5.986800e+04\n",
       "mean  -7.595833e-18 -6.076667e-17 -3.038333e-17 -6.076667e-17\n",
       "std    1.000008e+00  1.000008e+00  1.000008e+00  1.000008e+00\n",
       "min   -7.680564e+00 -8.314069e+00 -7.017539e+00 -9.018025e-01\n",
       "25%    1.538244e-01  1.540546e-01  1.469386e-01 -9.018025e-01\n",
       "50%    3.836455e-01  3.828805e-01  2.533175e-01 -9.018025e-01\n",
       "75%    3.852955e-01  3.847512e-01  4.947794e-01  1.108890e+00\n",
       "max    4.992121e+00  5.595056e+00  4.886698e+00  1.108890e+00"
      ]
     },
     "execution_count": 36,
     "metadata": {},
     "output_type": "execute_result"
    }
   ],
   "source": [
    "data_n.describe()"
   ]
  },
  {
   "cell_type": "code",
   "execution_count": 37,
   "metadata": {
    "colab": {
     "base_uri": "https://localhost:8080/",
     "height": 424
    },
    "id": "xBH_j5sm-d1x",
    "outputId": "8fd8f2de-8b47-46b8-ca61-f1f5bdf4870d",
    "scrolled": false
   },
   "outputs": [],
   "source": [
    "df_pca_input = df.pipe(select_columns, ['roll','pitch','yaw','rollRate','pitchRate','yawRate','climbRate','groundSpeed'])"
   ]
  },
  {
   "cell_type": "code",
   "execution_count": 38,
   "metadata": {
    "colab": {
     "base_uri": "https://localhost:8080/",
     "height": 424
    },
    "id": "O10lhSgn-0mK",
    "outputId": "67998a2f-b0b9-4289-ca0c-f58dcbb9eef0"
   },
   "outputs": [],
   "source": [
    "min_max_scaler = preprocessing.StandardScaler()\n",
    "np_scaled = min_max_scaler.fit_transform(df_pca_input)\n",
    "data_scaled_pca = pd.DataFrame(np_scaled)"
   ]
  },
  {
   "cell_type": "code",
   "execution_count": 39,
   "metadata": {
    "colab": {
     "base_uri": "https://localhost:8080/"
    },
    "id": "SWrTPXBg8hq0",
    "outputId": "f5282396-1d2e-4f0c-de2f-7b4bba6a0672"
   },
   "outputs": [
    {
     "data": {
      "text/plain": [
       "PCA(n_components=3)"
      ]
     },
     "execution_count": 39,
     "metadata": {},
     "output_type": "execute_result"
    }
   ],
   "source": [
    "pca = PCA(n_components = 3)\n",
    "pca.fit(data_scaled_pca)"
   ]
  },
  {
   "cell_type": "code",
   "execution_count": 40,
   "metadata": {
    "colab": {
     "base_uri": "https://localhost:8080/"
    },
    "id": "XaCOOCjV9B9h",
    "outputId": "47ef6458-e43a-446a-ee85-201aa61904b3"
   },
   "outputs": [],
   "source": [
    "df_pca = pca.transform(data_scaled_pca)\n"
   ]
  },
  {
   "cell_type": "markdown",
   "metadata": {
    "id": "3DD0qF-YqpQe"
   },
   "source": [
    "# LSTM Model - Pitch/Row/Yaw"
   ]
  },
  {
   "cell_type": "code",
   "execution_count": 41,
   "metadata": {},
   "outputs": [
    {
     "name": "stdout",
     "output_type": "stream",
     "text": [
      "       roll     pitch       yaw\n",
      "0  0.383349  0.384093  0.228692\n",
      "1  0.383349  0.384093  0.228692\n",
      "2  0.383349  0.384093  0.228692\n",
      "3  0.383349  0.384093  0.228692\n",
      "4  0.383349  0.384093  0.228692\n",
      "\n",
      "\n",
      "\n",
      "0   -0.901802\n",
      "1   -0.901802\n",
      "2   -0.901802\n",
      "3   -0.901802\n",
      "4   -0.901802\n",
      "Name: error, dtype: float64\n"
     ]
    }
   ],
   "source": [
    "x = data_n.drop(['error'],axis=1)\n",
    "y = data_n.error\n",
    "\n",
    "print(x.head())\n",
    "print('\\n\\n')\n",
    "print(y.head())"
   ]
  },
  {
   "cell_type": "code",
   "execution_count": 42,
   "metadata": {},
   "outputs": [
    {
     "name": "stdout",
     "output_type": "stream",
     "text": [
      "(44901, 3)\n",
      "(44901,)\n",
      "(14967, 3)\n",
      "(14967,)\n"
     ]
    }
   ],
   "source": [
    "# from sklearn.model_selection import train_test_split\n",
    "x_train, x_test, y_train, y_test = train_test_split(x, y, test_size=0.25, random_state=33)\n",
    "\n",
    "print(x_train.shape)\n",
    "print(y_train.shape)\n",
    "print(x_test.shape)\n",
    "print(y_test.shape)"
   ]
  },
  {
   "cell_type": "code",
   "execution_count": 43,
   "metadata": {},
   "outputs": [
    {
     "data": {
      "text/html": [
       "<div>\n",
       "<style scoped>\n",
       "    .dataframe tbody tr th:only-of-type {\n",
       "        vertical-align: middle;\n",
       "    }\n",
       "\n",
       "    .dataframe tbody tr th {\n",
       "        vertical-align: top;\n",
       "    }\n",
       "\n",
       "    .dataframe thead th {\n",
       "        text-align: right;\n",
       "    }\n",
       "</style>\n",
       "<table border=\"1\" class=\"dataframe\">\n",
       "  <thead>\n",
       "    <tr style=\"text-align: right;\">\n",
       "      <th></th>\n",
       "      <th>roll</th>\n",
       "      <th>pitch</th>\n",
       "      <th>yaw</th>\n",
       "    </tr>\n",
       "  </thead>\n",
       "  <tbody>\n",
       "    <tr>\n",
       "      <th>23564</th>\n",
       "      <td>0.384455</td>\n",
       "      <td>0.383788</td>\n",
       "      <td>0.494728</td>\n",
       "    </tr>\n",
       "    <tr>\n",
       "      <th>48824</th>\n",
       "      <td>-1.694922</td>\n",
       "      <td>-2.812501</td>\n",
       "      <td>-0.826682</td>\n",
       "    </tr>\n",
       "    <tr>\n",
       "      <th>36627</th>\n",
       "      <td>0.027963</td>\n",
       "      <td>0.196307</td>\n",
       "      <td>0.155969</td>\n",
       "    </tr>\n",
       "    <tr>\n",
       "      <th>49796</th>\n",
       "      <td>-1.290200</td>\n",
       "      <td>-1.097372</td>\n",
       "      <td>-2.067456</td>\n",
       "    </tr>\n",
       "    <tr>\n",
       "      <th>19310</th>\n",
       "      <td>0.383158</td>\n",
       "      <td>0.384005</td>\n",
       "      <td>0.494847</td>\n",
       "    </tr>\n",
       "    <tr>\n",
       "      <th>...</th>\n",
       "      <td>...</td>\n",
       "      <td>...</td>\n",
       "      <td>...</td>\n",
       "    </tr>\n",
       "    <tr>\n",
       "      <th>50634</th>\n",
       "      <td>0.181202</td>\n",
       "      <td>1.653623</td>\n",
       "      <td>-0.755525</td>\n",
       "    </tr>\n",
       "    <tr>\n",
       "      <th>27911</th>\n",
       "      <td>0.383778</td>\n",
       "      <td>0.382530</td>\n",
       "      <td>0.495012</td>\n",
       "    </tr>\n",
       "    <tr>\n",
       "      <th>19654</th>\n",
       "      <td>0.384401</td>\n",
       "      <td>0.383249</td>\n",
       "      <td>0.494877</td>\n",
       "    </tr>\n",
       "    <tr>\n",
       "      <th>55058</th>\n",
       "      <td>-1.965199</td>\n",
       "      <td>-1.552111</td>\n",
       "      <td>-2.002914</td>\n",
       "    </tr>\n",
       "    <tr>\n",
       "      <th>47192</th>\n",
       "      <td>0.375982</td>\n",
       "      <td>0.180681</td>\n",
       "      <td>0.128605</td>\n",
       "    </tr>\n",
       "  </tbody>\n",
       "</table>\n",
       "<p>14967 rows × 3 columns</p>\n",
       "</div>"
      ],
      "text/plain": [
       "           roll     pitch       yaw\n",
       "23564  0.384455  0.383788  0.494728\n",
       "48824 -1.694922 -2.812501 -0.826682\n",
       "36627  0.027963  0.196307  0.155969\n",
       "49796 -1.290200 -1.097372 -2.067456\n",
       "19310  0.383158  0.384005  0.494847\n",
       "...         ...       ...       ...\n",
       "50634  0.181202  1.653623 -0.755525\n",
       "27911  0.383778  0.382530  0.495012\n",
       "19654  0.384401  0.383249  0.494877\n",
       "55058 -1.965199 -1.552111 -2.002914\n",
       "47192  0.375982  0.180681  0.128605\n",
       "\n",
       "[14967 rows x 3 columns]"
      ]
     },
     "execution_count": 43,
     "metadata": {},
     "output_type": "execute_result"
    }
   ],
   "source": [
    "x_test"
   ]
  },
  {
   "cell_type": "code",
   "execution_count": 44,
   "metadata": {},
   "outputs": [],
   "source": [
    "# Convert X_train and X_test to NumPy arrays\n",
    "x_train = x_train.values\n",
    "x_test = x_test.values\n",
    "\n",
    "# Reshape your input data\n",
    "x_train = x_train.reshape((x_train.shape[0], x_train.shape[1], 1))\n",
    "x_test = x_test.reshape((x_test.shape[0], x_test.shape[1], 1))\n",
    "\n",
    "# Reshape y_train\n",
    "y_train = np.array(y_train)\n",
    "y_train = np.reshape(y_train, (y_train.shape[0], 1))\n",
    "\n",
    "# Reshape y_test\n",
    "y_test = np.array(y_test)\n",
    "y_test = np.reshape(y_test, (y_test.shape[0], 1))"
   ]
  },
  {
   "cell_type": "code",
   "execution_count": 45,
   "metadata": {
    "colab": {
     "base_uri": "https://localhost:8080/"
    },
    "id": "l3e0989htO0D",
    "outputId": "28b977ea-826d-4ec3-ba07-75fa807ad8b1"
   },
   "outputs": [
    {
     "name": "stdout",
     "output_type": "stream",
     "text": [
      "Train relation: 75.0% of the data\n",
      "Test relation: 25.0% of the data\n"
     ]
    }
   ],
   "source": [
    "sz = x_train.shape[0] + x_test.shape[0]\n",
    "\n",
    "print(f'Train relation: {(x_train.shape[0]/sz)*100}% of the data')\n",
    "print(f'Test relation: {(x_test.shape[0]/sz)*100}% of the data')"
   ]
  },
  {
   "cell_type": "code",
   "execution_count": 46,
   "metadata": {
    "colab": {
     "base_uri": "https://localhost:8080/"
    },
    "id": "ehcrE5Ee0paC",
    "outputId": "5ae66ce0-5081-47e3-ef27-4c40eacf5a54"
   },
   "outputs": [
    {
     "name": "stdout",
     "output_type": "stream",
     "text": [
      "compilation time : 0.03840756416320801\n"
     ]
    }
   ],
   "source": [
    "#Building the model\n",
    "model = Sequential()\n",
    "\n",
    "\n",
    "model.add(LSTM(360, return_sequences=False))\n",
    "model.add(Dropout(0.2))\n",
    "\n",
    "model.add(Dense(units=1))\n",
    "model.add(Activation('linear'))\n",
    "\n",
    "start = time.time()\n",
    "model.compile(loss='mse', optimizer='rmsprop')\n",
    "print('compilation time : {}'.format(time.time() - start))"
   ]
  },
  {
   "cell_type": "code",
   "execution_count": 47,
   "metadata": {
    "colab": {
     "base_uri": "https://localhost:8080/"
    },
    "id": "jnl3X4OLzEt5",
    "outputId": "276b8b7e-60ce-4503-8b58-a6c795c449a6",
    "scrolled": true
   },
   "outputs": [
    {
     "name": "stdout",
     "output_type": "stream",
     "text": [
      "Epoch 1/30\n",
      "674/674 [==============================] - 18s 23ms/step - loss: 0.3156 - val_loss: 0.0916\n",
      "Epoch 2/30\n",
      "674/674 [==============================] - 18s 26ms/step - loss: 0.0661 - val_loss: 0.0397\n",
      "Epoch 3/30\n",
      "674/674 [==============================] - 17s 25ms/step - loss: 0.0409 - val_loss: 0.1655\n",
      "Epoch 4/30\n",
      "674/674 [==============================] - 16s 24ms/step - loss: 0.0320 - val_loss: 0.0238\n",
      "Epoch 5/30\n",
      "674/674 [==============================] - 16s 24ms/step - loss: 0.0265 - val_loss: 0.0186\n",
      "Epoch 6/30\n",
      "674/674 [==============================] - 16s 24ms/step - loss: 0.0225 - val_loss: 0.0150\n",
      "Epoch 7/30\n",
      "674/674 [==============================] - 16s 24ms/step - loss: 0.0199 - val_loss: 0.0139\n",
      "Epoch 8/30\n",
      "674/674 [==============================] - 16s 24ms/step - loss: 0.0182 - val_loss: 0.0508\n",
      "Epoch 9/30\n",
      "674/674 [==============================] - 16s 23ms/step - loss: 0.0169 - val_loss: 0.0118\n",
      "Epoch 10/30\n",
      "674/674 [==============================] - 15s 23ms/step - loss: 0.0155 - val_loss: 0.0187\n",
      "Epoch 11/30\n",
      "674/674 [==============================] - 16s 23ms/step - loss: 0.0157 - val_loss: 0.0104\n",
      "Epoch 12/30\n",
      "674/674 [==============================] - 15s 23ms/step - loss: 0.0147 - val_loss: 0.0151\n",
      "Epoch 13/30\n",
      "674/674 [==============================] - 15s 22ms/step - loss: 0.0142 - val_loss: 0.0090\n",
      "Epoch 14/30\n",
      "674/674 [==============================] - 15s 23ms/step - loss: 0.0158 - val_loss: 0.0092\n",
      "Epoch 15/30\n",
      "674/674 [==============================] - 15s 23ms/step - loss: 0.0156 - val_loss: 0.0078\n",
      "Epoch 16/30\n",
      "674/674 [==============================] - 15s 22ms/step - loss: 0.0137 - val_loss: 0.0097\n",
      "Epoch 17/30\n",
      "674/674 [==============================] - 21s 32ms/step - loss: 0.0132 - val_loss: 0.0093\n",
      "Epoch 18/30\n",
      "674/674 [==============================] - 17s 25ms/step - loss: 0.0140 - val_loss: 0.0074\n",
      "Epoch 19/30\n",
      "674/674 [==============================] - 19s 28ms/step - loss: 0.0126 - val_loss: 0.0096\n",
      "Epoch 20/30\n",
      "674/674 [==============================] - 19s 28ms/step - loss: 0.0142 - val_loss: 0.0087\n",
      "Epoch 21/30\n",
      "674/674 [==============================] - 15s 22ms/step - loss: 0.0118 - val_loss: 0.0085\n",
      "Epoch 22/30\n",
      "674/674 [==============================] - 15s 22ms/step - loss: 0.0131 - val_loss: 0.0068\n",
      "Epoch 23/30\n",
      "674/674 [==============================] - 14s 21ms/step - loss: 0.0127 - val_loss: 0.0067\n",
      "Epoch 24/30\n",
      "674/674 [==============================] - 14s 21ms/step - loss: 0.0121 - val_loss: 0.6521\n",
      "Epoch 25/30\n",
      "674/674 [==============================] - 21s 31ms/step - loss: 0.0151 - val_loss: 0.0064\n",
      "Epoch 26/30\n",
      "674/674 [==============================] - 15s 23ms/step - loss: 0.0105 - val_loss: 0.0076\n",
      "Epoch 27/30\n",
      "674/674 [==============================] - 17s 25ms/step - loss: 0.0121 - val_loss: 0.0288\n",
      "Epoch 28/30\n",
      "674/674 [==============================] - 21s 31ms/step - loss: 0.0137 - val_loss: 0.0064\n",
      "Epoch 29/30\n",
      "674/674 [==============================] - 18s 26ms/step - loss: 0.0119 - val_loss: 0.0070\n",
      "Epoch 30/30\n",
      "674/674 [==============================] - 17s 26ms/step - loss: 0.0130 - val_loss: 0.0055\n"
     ]
    },
    {
     "data": {
      "text/plain": [
       "<keras.callbacks.History at 0x7f626f375dd8>"
      ]
     },
     "execution_count": 47,
     "metadata": {},
     "output_type": "execute_result"
    }
   ],
   "source": [
    "model.fit(x_train, y_train, batch_size=60, epochs=30, validation_split=0.1)"
   ]
  },
  {
   "cell_type": "code",
   "execution_count": 48,
   "metadata": {
    "colab": {
     "base_uri": "https://localhost:8080/",
     "height": 351
    },
    "id": "irVEhC7cot2h",
    "outputId": "447bd285-2c2d-447d-f73d-1a56aacb0cb0",
    "scrolled": false
   },
   "outputs": [
    {
     "data": {
      "text/plain": [
       "<matplotlib.legend.Legend at 0x7f621d678898>"
      ]
     },
     "execution_count": 48,
     "metadata": {},
     "output_type": "execute_result"
    },
    {
     "data": {
      "image/png": "[encoded data removed]",
      "text/plain": [
       "<Figure size 720x360 with 1 Axes>"
      ]
     },
     "metadata": {
      "needs_background": "light"
     },
     "output_type": "display_data"
    }
   ],
   "source": [
    "#Visualizing training and validaton loss\n",
    "plt.figure(figsize = (10, 5))\n",
    "plt.plot(model.history.history['loss'], label = 'Loss')\n",
    "plt.plot(model.history.history['val_loss'], label = 'Val_Loss')\n",
    "plt.xlabel('Epochs')\n",
    "plt.ylabel('Loss')\n",
    "plt.grid()\n",
    "plt.legend()"
   ]
  },
  {
   "cell_type": "code",
   "execution_count": 49,
   "metadata": {},
   "outputs": [],
   "source": [
    "y_pred = model.predict(x_test)"
   ]
  },
  {
   "cell_type": "code",
   "execution_count": 50,
   "metadata": {},
   "outputs": [
    {
     "data": {
      "text/plain": [
       "numpy.ndarray"
      ]
     },
     "execution_count": 50,
     "metadata": {},
     "output_type": "execute_result"
    }
   ],
   "source": [
    "type(x_test)"
   ]
  },
  {
   "cell_type": "code",
   "execution_count": 51,
   "metadata": {},
   "outputs": [],
   "source": [
    "threshold = 0\n",
    "softmax_pred = np.where(y_pred[:, 0] >= threshold, 1, 0)"
   ]
  },
  {
   "cell_type": "code",
   "execution_count": 52,
   "metadata": {},
   "outputs": [],
   "source": [
    "softmax_test = np.where(y_test[:, 0] >= threshold, 1, 0)"
   ]
  },
  {
   "cell_type": "code",
   "execution_count": 53,
   "metadata": {},
   "outputs": [
    {
     "data": {
      "text/html": [
       "<div>\n",
       "<style scoped>\n",
       "    .dataframe tbody tr th:only-of-type {\n",
       "        vertical-align: middle;\n",
       "    }\n",
       "\n",
       "    .dataframe tbody tr th {\n",
       "        vertical-align: top;\n",
       "    }\n",
       "\n",
       "    .dataframe thead th {\n",
       "        text-align: right;\n",
       "    }\n",
       "</style>\n",
       "<table border=\"1\" class=\"dataframe\">\n",
       "  <thead>\n",
       "    <tr style=\"text-align: right;\">\n",
       "      <th></th>\n",
       "      <th>error</th>\n",
       "      <th>count</th>\n",
       "    </tr>\n",
       "  </thead>\n",
       "  <tbody>\n",
       "    <tr>\n",
       "      <th>0</th>\n",
       "      <td>-0.901802</td>\n",
       "      <td>33017</td>\n",
       "    </tr>\n",
       "    <tr>\n",
       "      <th>1</th>\n",
       "      <td>1.108890</td>\n",
       "      <td>26851</td>\n",
       "    </tr>\n",
       "  </tbody>\n",
       "</table>\n",
       "</div>"
      ],
      "text/plain": [
       "      error  count\n",
       "0 -0.901802  33017\n",
       "1  1.108890  26851"
      ]
     },
     "execution_count": 53,
     "metadata": {},
     "output_type": "execute_result"
    }
   ],
   "source": [
    "data_n.groupby('error').size().reset_index(name='count')"
   ]
  },
  {
   "cell_type": "code",
   "execution_count": 54,
   "metadata": {},
   "outputs": [
    {
     "data": {
      "text/html": [
       "<div>\n",
       "<style scoped>\n",
       "    .dataframe tbody tr th:only-of-type {\n",
       "        vertical-align: middle;\n",
       "    }\n",
       "\n",
       "    .dataframe tbody tr th {\n",
       "        vertical-align: top;\n",
       "    }\n",
       "\n",
       "    .dataframe thead th {\n",
       "        text-align: right;\n",
       "    }\n",
       "</style>\n",
       "<table border=\"1\" class=\"dataframe\">\n",
       "  <thead>\n",
       "    <tr style=\"text-align: right;\">\n",
       "      <th></th>\n",
       "      <th>error</th>\n",
       "      <th>count</th>\n",
       "    </tr>\n",
       "  </thead>\n",
       "  <tbody>\n",
       "    <tr>\n",
       "      <th>0</th>\n",
       "      <td>False</td>\n",
       "      <td>33017</td>\n",
       "    </tr>\n",
       "    <tr>\n",
       "      <th>1</th>\n",
       "      <td>True</td>\n",
       "      <td>26851</td>\n",
       "    </tr>\n",
       "  </tbody>\n",
       "</table>\n",
       "</div>"
      ],
      "text/plain": [
       "   error  count\n",
       "0  False  33017\n",
       "1   True  26851"
      ]
     },
     "execution_count": 54,
     "metadata": {},
     "output_type": "execute_result"
    }
   ],
   "source": [
    "df.groupby('error').size().reset_index(name='count')"
   ]
  },
  {
   "cell_type": "code",
   "execution_count": 55,
   "metadata": {},
   "outputs": [
    {
     "data": {
      "image/png": "[encoded data removed]",
      "text/plain": [
       "<Figure size 720x432 with 1 Axes>"
      ]
     },
     "metadata": {
      "needs_background": "light"
     },
     "output_type": "display_data"
    }
   ],
   "source": [
    "# Plotting the comparison\n",
    "plt.figure(figsize=(10, 6))\n",
    "plt.plot(softmax_pred[500:600], label='Actual')\n",
    "plt.plot(softmax_test[500:600], label='Actual')\n",
    "# plt.plot(y_test[500:600], label='Actual')\n",
    "# plt.plot(y_pred[500:600], label='Predicted')\n",
    "plt.xlabel('id')\n",
    "plt.ylabel('Value')\n",
    "plt.title('Comparison of Actual and Predicted Values (LSTM)')\n",
    "plt.legend()\n",
    "plt.show()"
   ]
  },
  {
   "cell_type": "code",
   "execution_count": 56,
   "metadata": {},
   "outputs": [
    {
     "data": {
      "image/png": "[encoded data removed]",
      "text/plain": [
       "<Figure size 720x432 with 1 Axes>"
      ]
     },
     "metadata": {
      "needs_background": "light"
     },
     "output_type": "display_data"
    }
   ],
   "source": [
    "# Calculate the difference between predicted and actual values\n",
    "difference = softmax_test - softmax_pred\n",
    "\n",
    "# Plotting the difference as a scatter plot\n",
    "plt.figure(figsize=(10, 6))\n",
    "plt.scatter(range(len(difference)), difference)\n",
    "plt.axhline(y=0, color='r', linestyle='--')  # Add a horizontal line at y=0\n",
    "plt.xlabel('Index')\n",
    "plt.ylabel('Difference')\n",
    "plt.title('Difference between Predicted and Actual Values (LSTM)')\n",
    "plt.show()"
   ]
  },
  {
   "cell_type": "code",
   "execution_count": 57,
   "metadata": {},
   "outputs": [
    {
     "data": {
      "text/plain": [
       "0.11358321640943408"
      ]
     },
     "execution_count": 57,
     "metadata": {},
     "output_type": "execute_result"
    }
   ],
   "source": [
    "np.sum(np.abs(difference))/len(difference)*100"
   ]
  },
  {
   "cell_type": "code",
   "execution_count": 58,
   "metadata": {},
   "outputs": [],
   "source": [
    "# ser'a q os erros estao muito suaves? ou muito absurdos?\n",
    "## procurar base na internet com erro de pitch, roll e yaw"
   ]
  },
  {
   "cell_type": "code",
   "execution_count": 59,
   "metadata": {},
   "outputs": [
    {
     "data": {
      "text/plain": [
       "14967"
      ]
     },
     "execution_count": 59,
     "metadata": {},
     "output_type": "execute_result"
    }
   ],
   "source": [
    "len(difference)"
   ]
  },
  {
   "cell_type": "code",
   "execution_count": 60,
   "metadata": {
    "colab": {
     "base_uri": "https://localhost:8080/",
     "height": 206
    },
    "id": "Vc5AtlyYzFqB",
    "outputId": "f1e59813-a002-4000-835a-fd57accd30e4"
   },
   "outputs": [
    {
     "data": {
      "text/html": [
       "<div>\n",
       "<style scoped>\n",
       "    .dataframe tbody tr th:only-of-type {\n",
       "        vertical-align: middle;\n",
       "    }\n",
       "\n",
       "    .dataframe tbody tr th {\n",
       "        vertical-align: top;\n",
       "    }\n",
       "\n",
       "    .dataframe thead th {\n",
       "        text-align: right;\n",
       "    }\n",
       "</style>\n",
       "<table border=\"1\" class=\"dataframe\">\n",
       "  <thead>\n",
       "    <tr style=\"text-align: right;\">\n",
       "      <th></th>\n",
       "      <th>id</th>\n",
       "      <th>Type</th>\n",
       "      <th>roll</th>\n",
       "      <th>pitch</th>\n",
       "      <th>yaw</th>\n",
       "      <th>heading</th>\n",
       "      <th>rollRate</th>\n",
       "      <th>pitchRate</th>\n",
       "      <th>yawRate</th>\n",
       "      <th>groundSpeed</th>\n",
       "      <th>climbRate</th>\n",
       "      <th>altitudeRelative</th>\n",
       "      <th>throttlePct</th>\n",
       "      <th>tag</th>\n",
       "    </tr>\n",
       "    <tr>\n",
       "      <th>error</th>\n",
       "      <th></th>\n",
       "      <th></th>\n",
       "      <th></th>\n",
       "      <th></th>\n",
       "      <th></th>\n",
       "      <th></th>\n",
       "      <th></th>\n",
       "      <th></th>\n",
       "      <th></th>\n",
       "      <th></th>\n",
       "      <th></th>\n",
       "      <th></th>\n",
       "      <th></th>\n",
       "      <th></th>\n",
       "    </tr>\n",
       "  </thead>\n",
       "  <tbody>\n",
       "    <tr>\n",
       "      <th>False</th>\n",
       "      <td>33017</td>\n",
       "      <td>33017</td>\n",
       "      <td>33017</td>\n",
       "      <td>33017</td>\n",
       "      <td>33017</td>\n",
       "      <td>33017</td>\n",
       "      <td>33017</td>\n",
       "      <td>33017</td>\n",
       "      <td>33017</td>\n",
       "      <td>33017</td>\n",
       "      <td>33017</td>\n",
       "      <td>33017</td>\n",
       "      <td>33017</td>\n",
       "      <td>33017</td>\n",
       "    </tr>\n",
       "    <tr>\n",
       "      <th>True</th>\n",
       "      <td>26851</td>\n",
       "      <td>26851</td>\n",
       "      <td>26851</td>\n",
       "      <td>26851</td>\n",
       "      <td>26851</td>\n",
       "      <td>26851</td>\n",
       "      <td>26851</td>\n",
       "      <td>26851</td>\n",
       "      <td>26851</td>\n",
       "      <td>26851</td>\n",
       "      <td>26851</td>\n",
       "      <td>26851</td>\n",
       "      <td>26851</td>\n",
       "      <td>26851</td>\n",
       "    </tr>\n",
       "  </tbody>\n",
       "</table>\n",
       "</div>"
      ],
      "text/plain": [
       "          id   Type   roll  pitch    yaw  heading  rollRate  pitchRate  \\\n",
       "error                                                                    \n",
       "False  33017  33017  33017  33017  33017    33017     33017      33017   \n",
       "True   26851  26851  26851  26851  26851    26851     26851      26851   \n",
       "\n",
       "       yawRate  groundSpeed  climbRate  altitudeRelative  throttlePct    tag  \n",
       "error                                                                         \n",
       "False    33017        33017      33017             33017        33017  33017  \n",
       "True     26851        26851      26851             26851        26851  26851  "
      ]
     },
     "execution_count": 60,
     "metadata": {},
     "output_type": "execute_result"
    }
   ],
   "source": [
    "df.groupby('error').count()"
   ]
  },
  {
   "cell_type": "code",
   "execution_count": 61,
   "metadata": {},
   "outputs": [
    {
     "name": "stdout",
     "output_type": "stream",
     "text": [
      "Model: \"sequential\"\n",
      "_________________________________________________________________\n",
      "Layer (type)                 Output Shape              Param #   \n",
      "=================================================================\n",
      "lstm (LSTM)                  (None, 360)               521280    \n",
      "_________________________________________________________________\n",
      "dropout (Dropout)            (None, 360)               0         \n",
      "_________________________________________________________________\n",
      "dense (Dense)                (None, 1)                 361       \n",
      "_________________________________________________________________\n",
      "activation (Activation)      (None, 1)                 0         \n",
      "=================================================================\n",
      "Total params: 521,641\n",
      "Trainable params: 521,641\n",
      "Non-trainable params: 0\n",
      "_________________________________________________________________\n"
     ]
    }
   ],
   "source": [
    "model.summary()"
   ]
  },
  {
   "cell_type": "markdown",
   "metadata": {
    "id": "Zxsv1c2CrFz9"
   },
   "source": [
    "> Exporting Model"
   ]
  },
  {
   "cell_type": "code",
   "execution_count": 66,
   "metadata": {},
   "outputs": [],
   "source": [
    "import tensorflow as tf"
   ]
  },
  {
   "cell_type": "code",
   "execution_count": 68,
   "metadata": {
    "colab": {
     "base_uri": "https://localhost:8080/"
    },
    "id": "S2dLUD-DrKbe",
    "outputId": "397ac1c7-a97b-4dea-9da7-7bd221331eaf",
    "scrolled": true
   },
   "outputs": [
    {
     "name": "stderr",
     "output_type": "stream",
     "text": [
      "WARNING:absl:Found untraced functions such as lstm_cell_layer_call_and_return_conditional_losses, lstm_cell_layer_call_fn, lstm_cell_layer_call_fn, lstm_cell_layer_call_and_return_conditional_losses, lstm_cell_layer_call_and_return_conditional_losses while saving (showing 5 of 5). These functions will not be directly callable after loading.\n"
     ]
    },
    {
     "name": "stdout",
     "output_type": "stream",
     "text": [
      "INFO:tensorflow:Assets written to: LSTM_predictions_new.pkl/assets\n"
     ]
    },
    {
     "name": "stderr",
     "output_type": "stream",
     "text": [
      "INFO:tensorflow:Assets written to: LSTM_predictions_new.pkl/assets\n"
     ]
    }
   ],
   "source": [
    "filename = \"LSTM_predictions_new.pkl\"\n",
    "tf.keras.models.save_model(model, filename)"
   ]
  },
  {
   "cell_type": "code",
   "execution_count": 69,
   "metadata": {
    "colab": {
     "base_uri": "https://localhost:8080/"
    },
    "id": "ntbfRiZqrlyG",
    "outputId": "84965cd4-e335-4c8b-c509-28051bb18453",
    "scrolled": true
   },
   "outputs": [],
   "source": [
    "# loaded_LSTM = joblib.load(filename)\n",
    "loaded_LSTM = tf.keras.models.load_model(filename)"
   ]
  },
  {
   "cell_type": "code",
   "execution_count": 83,
   "metadata": {},
   "outputs": [
    {
     "data": {
      "text/plain": [
       "array([[ 0.38334928,  0.38409291,  0.22869159],\n",
       "       [ 0.38334928,  0.38409291,  0.22869159],\n",
       "       [ 0.38334928,  0.38409291,  0.22869159],\n",
       "       ...,\n",
       "       [-2.36494472, -0.51313848, -1.62890027],\n",
       "       [-1.15299849, -1.55351255, -2.3983027 ],\n",
       "       [-4.22204756, -2.6796179 , -2.65020408]])"
      ]
     },
     "execution_count": 83,
     "metadata": {},
     "output_type": "execute_result"
    }
   ],
   "source": [
    "data_n.drop(columns=['error'],axis=1).values"
   ]
  },
  {
   "cell_type": "code",
   "execution_count": 87,
   "metadata": {},
   "outputs": [
    {
     "data": {
      "text/plain": [
       "array([[0.38334928],\n",
       "       [0.38409291],\n",
       "       [0.22869159]])"
      ]
     },
     "execution_count": 87,
     "metadata": {},
     "output_type": "execute_result"
    }
   ],
   "source": [
    "teste[0]"
   ]
  },
  {
   "cell_type": "code",
   "execution_count": null,
   "metadata": {},
   "outputs": [],
   "source": [
    "0.00886934157460928\n",
    "-0.0028823059983551502\n",
    "-1.6777632236480713\n",
    "0.027789655395474615\n",
    "-0.04991879137122454\n",
    "-3.307650242857489\n"
   ]
  },
  {
   "cell_type": "code",
   "execution_count": 85,
   "metadata": {},
   "outputs": [],
   "source": [
    "teste = data_n.drop(columns=['error'],axis=1).values[0]\n",
    "\n",
    "# Reshape your input data\n",
    "teste = teste.reshape((teste.shape[0], teste.shape[1], 1))"
   ]
  },
  {
   "cell_type": "code",
   "execution_count": 105,
   "metadata": {},
   "outputs": [],
   "source": [
    "test = [[[0.00886934157460928],[-0.0028823059983551502],[-1.6777632236480713]]]"
   ]
  },
  {
   "cell_type": "code",
   "execution_count": 106,
   "metadata": {
    "id": "3L2wC7AqruTO"
   },
   "outputs": [],
   "source": [
    "y_pred = model.predict(test)"
   ]
  },
  {
   "cell_type": "code",
   "execution_count": 107,
   "metadata": {},
   "outputs": [
    {
     "data": {
      "text/plain": [
       "array([[0.38334928],\n",
       "       [0.38409291],\n",
       "       [0.22869159]])"
      ]
     },
     "execution_count": 107,
     "metadata": {},
     "output_type": "execute_result"
    }
   ],
   "source": [
    "teste[0]"
   ]
  },
  {
   "cell_type": "code",
   "execution_count": 100,
   "metadata": {},
   "outputs": [
    {
     "data": {
      "text/plain": [
       "array([[[0.38334928],\n",
       "        [0.38409291],\n",
       "        [0.22869159]]])"
      ]
     },
     "execution_count": 100,
     "metadata": {},
     "output_type": "execute_result"
    }
   ],
   "source": [
    "teste[0:1]"
   ]
  },
  {
   "cell_type": "code",
   "execution_count": 108,
   "metadata": {
    "colab": {
     "base_uri": "https://localhost:8080/"
    },
    "id": "OPlo021qsUtW",
    "outputId": "b1f4a83a-e87a-45f3-faa6-8e81db390a17",
    "scrolled": false
   },
   "outputs": [
    {
     "data": {
      "text/plain": [
       "array([[1.0776055]], dtype=float32)"
      ]
     },
     "execution_count": 108,
     "metadata": {},
     "output_type": "execute_result"
    }
   ],
   "source": [
    "y_pred"
   ]
  },
  {
   "cell_type": "code",
   "execution_count": 109,
   "metadata": {},
   "outputs": [],
   "source": [
    "threshold = 0\n",
    "softmax_pred = np.where(y_pred[:, 0] >= threshold, 1, 0)"
   ]
  },
  {
   "cell_type": "code",
   "execution_count": 113,
   "metadata": {},
   "outputs": [
    {
     "data": {
      "text/plain": [
       "array([1])"
      ]
     },
     "execution_count": 113,
     "metadata": {},
     "output_type": "execute_result"
    }
   ],
   "source": [
    "softmax_pred"
   ]
  },
  {
   "cell_type": "code",
   "execution_count": 110,
   "metadata": {},
   "outputs": [],
   "source": [
    "softmax_test = np.where(data_n[\"error\"].values >= threshold, 1, 0)"
   ]
  },
  {
   "cell_type": "code",
   "execution_count": 111,
   "metadata": {},
   "outputs": [],
   "source": [
    "difference = softmax_test - softmax_pred"
   ]
  },
  {
   "cell_type": "code",
   "execution_count": 112,
   "metadata": {},
   "outputs": [
    {
     "data": {
      "text/plain": [
       "-55.14966259103361"
      ]
     },
     "execution_count": 112,
     "metadata": {},
     "output_type": "execute_result"
    }
   ],
   "source": [
    "(np.sum(difference)/len(difference))*100"
   ]
  },
  {
   "cell_type": "code",
   "execution_count": null,
   "metadata": {},
   "outputs": [],
   "source": []
  }
 ],
 "metadata": {
  "colab": {
   "collapsed_sections": [
    "t5ok4QLVYMrN"
   ],
   "name": "2_AnomalyDetection_LSTM.ipynb",
   "provenance": []
  },
  "kernelspec": {
   "display_name": "Python 3",
   "language": "python",
   "name": "python3"
  },
  "language_info": {
   "codemirror_mode": {
    "name": "ipython",
    "version": 3
   },
   "file_extension": ".py",
   "mimetype": "text/x-python",
   "name": "python",
   "nbconvert_exporter": "python",
   "pygments_lexer": "ipython3",
   "version": "3.6.9"
  }
 },
 "nbformat": 4,
 "nbformat_minor": 1
}
